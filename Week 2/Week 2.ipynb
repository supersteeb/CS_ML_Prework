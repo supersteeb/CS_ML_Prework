{
 "cells": [
  {
   "cell_type": "code",
   "execution_count": 1204,
   "metadata": {},
   "outputs": [],
   "source": [
    "import pandas as pd"
   ]
  },
  {
   "cell_type": "code",
   "execution_count": 1205,
   "metadata": {},
   "outputs": [],
   "source": [
    "songs_dataset = pd.read_json('MasterSongList.json')"
   ]
  },
  {
   "cell_type": "code",
   "execution_count": 1206,
   "metadata": {},
   "outputs": [],
   "source": [
    "#checking\n",
    "#songs_dataset.head(10)"
   ]
  },
  {
   "cell_type": "code",
   "execution_count": 1207,
   "metadata": {},
   "outputs": [],
   "source": [
    "songs_dataset.loc[:, 'genres'] = songs_dataset['genres'].apply(''.join)\n",
    "\n",
    "def consolidateGenre(genre):\n",
    "    if (len(genre) > 0):\n",
    "        return genre.split(':')[0]\n",
    "    else:\n",
    "        return genre\n",
    "    \n",
    "songs_dataset.loc[:, 'genres'] = songs_dataset['genres'].apply(consolidateGenre)"
   ]
  },
  {
   "cell_type": "code",
   "execution_count": 1208,
   "metadata": {},
   "outputs": [],
   "source": [
    "#songs_dataset.head(10)"
   ]
  },
  {
   "cell_type": "code",
   "execution_count": 1209,
   "metadata": {},
   "outputs": [],
   "source": [
    "#songs_dataset.head(1).to_dict()"
   ]
  },
  {
   "cell_type": "code",
   "execution_count": 1210,
   "metadata": {},
   "outputs": [
    {
     "name": "stdout",
     "output_type": "stream",
     "text": [
      "(1973, 16)\n",
      "(2285, 16)\n",
      "(7174, 16)\n",
      "(2855, 16)\n"
     ]
    }
   ],
   "source": [
    "jazz_df = songs_dataset[(songs_dataset['genres'] == 'jazz') & (songs_dataset['yt_views'] > 1000)]\n",
    "print(jazz_df.shape)\n",
    "dance_df = songs_dataset[(songs_dataset['genres'] == 'dance') & (songs_dataset['yt_views'] > 1000)]\n",
    "print(dance_df.shape)\n",
    "rock_df = songs_dataset[(songs_dataset['genres'] == 'rock') & (songs_dataset['yt_views'] > 1000)]\n",
    "print(rock_df.shape)\n",
    "rap_df = songs_dataset[(songs_dataset['genres'] == 'rap') & (songs_dataset['yt_views'] > 1000)]\n",
    "print(rap_df.shape)"
   ]
  },
  {
   "cell_type": "code",
   "execution_count": 1211,
   "metadata": {},
   "outputs": [
    {
     "name": "stdout",
     "output_type": "stream",
     "text": [
      "(1973, 16)\n",
      "(1677, 17)\n"
     ]
    }
   ],
   "source": [
    "#consolidating jazz audio features\n",
    "\n",
    "jazz_df = songs_dataset[(songs_dataset['genres'] == 'jazz') & (songs_dataset['yt_views'] > 1000)]\n",
    "print(jazz_df.shape) #1973 rows\n",
    "\n",
    "jazzAFL = [] #AFL - audio_feature_list\n",
    "for audio_feature in jazz_df['audio_features']:\n",
    "    jazzAFL.append(audio_feature)\n",
    "\n",
    "audio_feature_headers = ['key', 'energy', 'liveliness', 'tempo', 'speechiness', 'acousticness', 'instrumentalness', 'time_signature', 'duration', 'loudness', 'valence', 'danceability', 'mode', 'time_signature_confidence', 'tempo_confidence', 'key_confidence', 'mode_confidence']\n",
    "\n",
    "jazz_AF = pd.DataFrame(jazzAFL, columns=audio_feature_headers).dropna() #AF - audio_features\n",
    "print(jazz_AF.dropna().shape) #1677 rows of jazz\n"
   ]
  },
  {
   "cell_type": "code",
   "execution_count": 1212,
   "metadata": {},
   "outputs": [],
   "source": [
    "jazz_AF['genres'] = jazz_df['genres']\n",
    "jazz_AF['genres'].fillna(value='jazz', inplace=True)"
   ]
  },
  {
   "cell_type": "code",
   "execution_count": 1213,
   "metadata": {},
   "outputs": [
    {
     "name": "stdout",
     "output_type": "stream",
     "text": [
      "(2285, 16)\n",
      "(1938, 17)\n"
     ]
    }
   ],
   "source": [
    "#consolidating dance audio features\n",
    "dance_df = songs_dataset[(songs_dataset['genres'] == 'dance') & (songs_dataset['yt_views'] > 1000)]\n",
    "print(dance_df.shape)\n",
    "\n",
    "danceAFL = []\n",
    "for audio_feature in dance_df['audio_features']:\n",
    "    danceAFL.append(audio_feature)\n",
    "    \n",
    "dance_AF = pd.DataFrame(danceAFL, columns=audio_feature_headers).dropna()\n",
    "print(dance_AF.shape) #1938 rows of dance"
   ]
  },
  {
   "cell_type": "code",
   "execution_count": 1214,
   "metadata": {},
   "outputs": [],
   "source": [
    "dance_AF['genres'] = dance_df['genres']\n",
    "dance_AF['genres'].fillna(value='dance', inplace=True)"
   ]
  },
  {
   "cell_type": "code",
   "execution_count": 1215,
   "metadata": {},
   "outputs": [
    {
     "name": "stdout",
     "output_type": "stream",
     "text": [
      "(7174, 16)\n",
      "(6245, 17)\n"
     ]
    }
   ],
   "source": [
    "#consolidating rock audio features\n",
    "\n",
    "rock_df = songs_dataset[(songs_dataset['genres'] == 'rock') & (songs_dataset['yt_views'] > 1000)]\n",
    "print(rock_df.shape)\n",
    "\n",
    "rockAFL = []\n",
    "for audio_feature in rock_df['audio_features']:\n",
    "    rockAFL.append(audio_feature)\n",
    "    \n",
    "rock_AF = pd.DataFrame(rockAFL, columns=audio_feature_headers).dropna()\n",
    "print(rock_AF.shape) #6245 rock songs"
   ]
  },
  {
   "cell_type": "code",
   "execution_count": 1216,
   "metadata": {},
   "outputs": [],
   "source": [
    "rock_AF['genres'] = rock_df['genres'] #adding genre column\n",
    "rock_AF['genres'].fillna(value='rock', inplace=True) "
   ]
  },
  {
   "cell_type": "code",
   "execution_count": 1217,
   "metadata": {},
   "outputs": [
    {
     "name": "stdout",
     "output_type": "stream",
     "text": [
      "(2855, 16)\n",
      "(2411, 17)\n"
     ]
    }
   ],
   "source": [
    "# consolidating rap audio features\n",
    "rap_df = songs_dataset[(songs_dataset['genres'] == 'rap') & (songs_dataset['yt_views'] > 1000)]\n",
    "print(rap_df.shape)\n",
    "\n",
    "rapAFL = []\n",
    "for audio_feature in rap_df['audio_features']:\n",
    "    rapAFL.append(audio_feature)\n",
    "    \n",
    "rap_AF = pd.DataFrame(rapAFL, columns=audio_feature_headers).dropna()\n",
    "print(rap_AF.shape) #2411 rap songs"
   ]
  },
  {
   "cell_type": "code",
   "execution_count": 1218,
   "metadata": {},
   "outputs": [],
   "source": [
    "rap_AF['genres'] = rap_df['genres'] #when i do this, many go NaN\n",
    "rap_AF['genres'].fillna(value='rap', inplace=True)\n",
    "#rap_AF"
   ]
  },
  {
   "cell_type": "markdown",
   "metadata": {},
   "source": [
    "## Consolidating & Balancing"
   ]
  },
  {
   "cell_type": "code",
   "execution_count": 1219,
   "metadata": {},
   "outputs": [],
   "source": [
    "#using below as guide\n",
    "#rap_df_features2 = df_features2[df_features2['genres'] == 'rap'].sample(n=1075, replace=True)\n",
    "#consolidatedRapCountry = consolidatedRapCountry[(songs_dataset['genres'] == 'rap') | (songs_dataset['genres'] == 'country')]\n",
    "#jazz_features.fillna(anime_dataset['rating'].median(), inplace=True)"
   ]
  },
  {
   "cell_type": "code",
   "execution_count": 1220,
   "metadata": {},
   "outputs": [
    {
     "data": {
      "text/plain": [
       "(6000, 18)"
      ]
     },
     "execution_count": 1220,
     "metadata": {},
     "output_type": "execute_result"
    }
   ],
   "source": [
    "#consolidating all the features picking 1500 from each\n",
    "consolidatedSongFeatures = pd.concat((jazz_AF.sample(n=1500, replace=True), dance_AF.sample(n=1500, replace=True), rock_AF.sample(n=1500, replace=True), rap_AF.sample(n=1500, replace=True)), axis=0)\n",
    "consolidatedSongFeatures.shape\n",
    "#consolidatedSongFeatures"
   ]
  },
  {
   "cell_type": "code",
   "execution_count": 1221,
   "metadata": {},
   "outputs": [],
   "source": [
    "df_labels = consolidatedSongFeatures['genres']\n",
    "df_features = consolidatedSongFeatures.drop('genres', axis=1)\n",
    "#df_features"
   ]
  },
  {
   "cell_type": "code",
   "execution_count": 1222,
   "metadata": {},
   "outputs": [],
   "source": [
    "from sklearn.preprocessing import StandardScaler\n",
    "standard_scaler = StandardScaler()\n",
    "df_features_final = standard_scaler.fit_transform(df_features)"
   ]
  },
  {
   "cell_type": "markdown",
   "metadata": {},
   "source": [
    "# Train Test Split"
   ]
  },
  {
   "cell_type": "code",
   "execution_count": 1308,
   "metadata": {},
   "outputs": [],
   "source": [
    "from sklearn.cross_validation import train_test_split\n",
    "X = df_features_final\n",
    "y = df_labels\n",
    "\n",
    "X_train, X_test, y_train, y_test = train_test_split(X, y, test_size=0.3, random_state=101)\n"
   ]
  },
  {
   "cell_type": "markdown",
   "metadata": {},
   "source": [
    "# Support Vector Machine"
   ]
  },
  {
   "cell_type": "code",
   "execution_count": 1309,
   "metadata": {},
   "outputs": [],
   "source": [
    "from sklearn.svm import SVC"
   ]
  },
  {
   "cell_type": "code",
   "execution_count": 1310,
   "metadata": {},
   "outputs": [],
   "source": [
    "svc_original = SVC(C=1, gamma=1)"
   ]
  },
  {
   "cell_type": "code",
   "execution_count": 1311,
   "metadata": {},
   "outputs": [],
   "source": [
    "svc_original.fit(X_train, y_train)\n",
    "svc_predictions = svc_original.predict(X_test)"
   ]
  },
  {
   "cell_type": "code",
   "execution_count": 1312,
   "metadata": {},
   "outputs": [
    {
     "name": "stdout",
     "output_type": "stream",
     "text": [
      "[[270   0  15 152]\n",
      " [  4 229   1 221]\n",
      " [ 10   0 292 153]\n",
      " [ 19   5   4 425]]\n",
      "             precision    recall  f1-score   support\n",
      "\n",
      "      dance       0.89      0.62      0.73       437\n",
      "       jazz       0.98      0.50      0.66       455\n",
      "        rap       0.94      0.64      0.76       455\n",
      "       rock       0.45      0.94      0.61       453\n",
      "\n",
      "avg / total       0.81      0.68      0.69      1800\n",
      "\n"
     ]
    }
   ],
   "source": [
    "from sklearn.metrics import confusion_matrix, classification_report\n",
    "print(confusion_matrix(y_test, svc_predictions))\n",
    "print(classification_report(list(y_test), list(svc_predictions)))"
   ]
  },
  {
   "cell_type": "markdown",
   "metadata": {},
   "source": [
    "### SVM - GridSearchCV"
   ]
  },
  {
   "cell_type": "code",
   "execution_count": 1313,
   "metadata": {},
   "outputs": [],
   "source": [
    "from sklearn.model_selection import GridSearchCV\n",
    "param_grid = {'C': [0.1,1, 10], 'gamma': [1,0.1,0.01,0.001]}\n"
   ]
  },
  {
   "cell_type": "code",
   "execution_count": 1314,
   "metadata": {},
   "outputs": [
    {
     "name": "stdout",
     "output_type": "stream",
     "text": [
      "Fitting 3 folds for each of 12 candidates, totalling 36 fits\n",
      "[CV] C=0.1, gamma=1 ..................................................\n",
      "[CV] ........ C=0.1, gamma=1, score=0.25320970042796004, total=   0.5s\n",
      "[CV] C=0.1, gamma=1 ..................................................\n"
     ]
    },
    {
     "name": "stderr",
     "output_type": "stream",
     "text": [
      "[Parallel(n_jobs=1)]: Done   1 out of   1 | elapsed:    0.8s remaining:    0.0s\n"
     ]
    },
    {
     "name": "stdout",
     "output_type": "stream",
     "text": [
      "[CV] ........ C=0.1, gamma=1, score=0.25303788420300216, total=   0.6s\n",
      "[CV] C=0.1, gamma=1 ..................................................\n"
     ]
    },
    {
     "name": "stderr",
     "output_type": "stream",
     "text": [
      "[Parallel(n_jobs=1)]: Done   2 out of   2 | elapsed:    1.6s remaining:    0.0s\n"
     ]
    },
    {
     "name": "stdout",
     "output_type": "stream",
     "text": [
      "[CV] ........ C=0.1, gamma=1, score=0.25303788420300216, total=   0.6s\n",
      "[CV] C=0.1, gamma=0.1 ................................................\n",
      "[CV] ....... C=0.1, gamma=0.1, score=0.7617689015691869, total=   0.4s\n",
      "[CV] C=0.1, gamma=0.1 ................................................\n",
      "[CV] ....... C=0.1, gamma=0.1, score=0.7405289492494639, total=   0.3s\n",
      "[CV] C=0.1, gamma=0.1 ................................................\n",
      "[CV] ....... C=0.1, gamma=0.1, score=0.7619728377412437, total=   0.4s\n",
      "[CV] C=0.1, gamma=0.01 ...............................................\n",
      "[CV] ...... C=0.1, gamma=0.01, score=0.7738944365192582, total=   0.4s\n",
      "[CV] C=0.1, gamma=0.01 ...............................................\n",
      "[CV] ...... C=0.1, gamma=0.01, score=0.7355253752680486, total=   0.3s\n",
      "[CV] C=0.1, gamma=0.01 ...............................................\n",
      "[CV] ...... C=0.1, gamma=0.01, score=0.7605432451751251, total=   0.4s\n",
      "[CV] C=0.1, gamma=0.001 ..............................................\n",
      "[CV] ..... C=0.1, gamma=0.001, score=0.6626248216833096, total=   0.5s\n",
      "[CV] C=0.1, gamma=0.001 ..............................................\n",
      "[CV] ..... C=0.1, gamma=0.001, score=0.6661901358112938, total=   0.5s\n",
      "[CV] C=0.1, gamma=0.001 ..............................................\n",
      "[CV] ..... C=0.1, gamma=0.001, score=0.6547533952823446, total=   0.5s\n",
      "[CV] C=1, gamma=1 ....................................................\n",
      "[CV] ........... C=1, gamma=1, score=0.5984308131241084, total=   0.6s\n",
      "[CV] C=1, gamma=1 ....................................................\n",
      "[CV] ........... C=1, gamma=1, score=0.6275911365260901, total=   0.7s\n",
      "[CV] C=1, gamma=1 ....................................................\n",
      "[CV] ........... C=1, gamma=1, score=0.6004288777698356, total=   0.7s\n",
      "[CV] C=1, gamma=0.1 ..................................................\n",
      "[CV] ......... C=1, gamma=0.1, score=0.7952924393723253, total=   0.3s\n",
      "[CV] C=1, gamma=0.1 ..................................................\n",
      "[CV] .......... C=1, gamma=0.1, score=0.781987133666905, total=   0.3s\n",
      "[CV] C=1, gamma=0.1 ..................................................\n",
      "[CV] .......... C=1, gamma=0.1, score=0.806290207290922, total=   0.3s\n",
      "[CV] C=1, gamma=0.01 .................................................\n",
      "[CV] ........ C=1, gamma=0.01, score=0.7817403708987162, total=   0.3s\n",
      "[CV] C=1, gamma=0.01 .................................................\n",
      "[CV] ........ C=1, gamma=0.01, score=0.7505360972122945, total=   0.2s\n",
      "[CV] C=1, gamma=0.01 .................................................\n",
      "[CV] ........ C=1, gamma=0.01, score=0.7719799857040743, total=   0.2s\n",
      "[CV] C=1, gamma=0.001 ................................................\n",
      "[CV] ........ C=1, gamma=0.001, score=0.776034236804565, total=   0.3s\n",
      "[CV] C=1, gamma=0.001 ................................................\n",
      "[CV] ....... C=1, gamma=0.001, score=0.7390993566833453, total=   0.3s\n",
      "[CV] C=1, gamma=0.001 ................................................\n",
      "[CV] ....... C=1, gamma=0.001, score=0.7612580414581844, total=   0.3s\n",
      "[CV] C=10, gamma=1 ...................................................\n",
      "[CV] .......... C=10, gamma=1, score=0.6226818830242511, total=   0.6s\n",
      "[CV] C=10, gamma=1 ...................................................\n",
      "[CV] ........... C=10, gamma=1, score=0.636168691922802, total=   0.6s\n",
      "[CV] C=10, gamma=1 ...................................................\n",
      "[CV] .......... C=10, gamma=1, score=0.6168691922802001, total=   0.6s\n",
      "[CV] C=10, gamma=0.1 .................................................\n",
      "[CV] ......... C=10, gamma=0.1, score=0.797432239657632, total=   0.4s\n",
      "[CV] C=10, gamma=0.1 .................................................\n",
      "[CV] ........ C=10, gamma=0.1, score=0.7912794853466762, total=   0.4s\n",
      "[CV] C=10, gamma=0.1 .................................................\n",
      "[CV] ........ C=10, gamma=0.1, score=0.8162973552537527, total=   0.4s\n",
      "[CV] C=10, gamma=0.01 ................................................\n",
      "[CV] ....... C=10, gamma=0.01, score=0.7924393723252496, total=   0.3s\n",
      "[CV] C=10, gamma=0.01 ................................................\n",
      "[CV] ....... C=10, gamma=0.01, score=0.7634024303073624, total=   0.3s\n",
      "[CV] C=10, gamma=0.01 ................................................\n",
      "[CV] ....... C=10, gamma=0.01, score=0.7955682630450321, total=   0.2s\n",
      "[CV] C=10, gamma=0.001 ...............................................\n",
      "[CV] ....... C=10, gamma=0.001, score=0.775320970042796, total=   0.2s\n",
      "[CV] C=10, gamma=0.001 ...............................................\n",
      "[CV] ...... C=10, gamma=0.001, score=0.7455325232308792, total=   0.2s\n",
      "[CV] C=10, gamma=0.001 ...............................................\n",
      "[CV] ...... C=10, gamma=0.001, score=0.7662616154395997, total=   0.2s\n"
     ]
    },
    {
     "name": "stderr",
     "output_type": "stream",
     "text": [
      "[Parallel(n_jobs=1)]: Done  36 out of  36 | elapsed:   20.8s finished\n"
     ]
    },
    {
     "data": {
      "text/plain": [
       "GridSearchCV(cv=None, error_score='raise',\n",
       "       estimator=SVC(C=1, cache_size=200, class_weight=None, coef0=0.0,\n",
       "  decision_function_shape='ovr', degree=3, gamma=1, kernel='rbf',\n",
       "  max_iter=-1, probability=False, random_state=None, shrinking=True,\n",
       "  tol=0.001, verbose=False),\n",
       "       fit_params=None, iid=True, n_jobs=1,\n",
       "       param_grid={'C': [0.1, 1, 10], 'gamma': [1, 0.1, 0.01, 0.001]},\n",
       "       pre_dispatch='2*n_jobs', refit=True, return_train_score='warn',\n",
       "       scoring=None, verbose=3)"
      ]
     },
     "execution_count": 1314,
     "metadata": {},
     "output_type": "execute_result"
    }
   ],
   "source": [
    "grid = GridSearchCV(svc_original, param_grid, verbose=3)\n",
    "grid.fit(X_train, y_train)"
   ]
  },
  {
   "cell_type": "code",
   "execution_count": 1315,
   "metadata": {},
   "outputs": [
    {
     "data": {
      "text/plain": [
       "{'C': 10, 'gamma': 0.1}"
      ]
     },
     "execution_count": 1315,
     "metadata": {},
     "output_type": "execute_result"
    }
   ],
   "source": [
    "grid.best_params_"
   ]
  },
  {
   "cell_type": "markdown",
   "metadata": {},
   "source": [
    "### Note: Make sure SVC has same C & gamma"
   ]
  },
  {
   "cell_type": "code",
   "execution_count": 1316,
   "metadata": {},
   "outputs": [
    {
     "name": "stdout",
     "output_type": "stream",
     "text": [
      "[[349  11  47  30]\n",
      " [  5 409   4  37]\n",
      " [ 36  15 389  15]\n",
      " [ 38  47  12 356]]\n",
      "             precision    recall  f1-score   support\n",
      "\n",
      "      dance       0.82      0.80      0.81       437\n",
      "       jazz       0.85      0.90      0.87       455\n",
      "        rap       0.86      0.85      0.86       455\n",
      "       rock       0.81      0.79      0.80       453\n",
      "\n",
      "avg / total       0.83      0.83      0.83      1800\n",
      "\n"
     ]
    }
   ],
   "source": [
    "svc_best = SVC(C=10, gamma=0.1)\n",
    "svc_best.fit(X_train, y_train)\n",
    "svc_predictions = svc_best.predict(X_test)\n",
    "print(confusion_matrix(y_test, svc_predictions))\n",
    "print(classification_report(list(y_test), list(svc_predictions)))"
   ]
  },
  {
   "cell_type": "markdown",
   "metadata": {},
   "source": [
    "## SVM - Select K Best"
   ]
  },
  {
   "cell_type": "code",
   "execution_count": 1317,
   "metadata": {},
   "outputs": [],
   "source": [
    "from sklearn.feature_selection import SelectKBest\n",
    "selector = SelectKBest(k=5)\n",
    "X_new = selector.fit_transform(X, y)"
   ]
  },
  {
   "cell_type": "code",
   "execution_count": 1318,
   "metadata": {},
   "outputs": [
    {
     "data": {
      "text/plain": [
       "(6000, 5)"
      ]
     },
     "execution_count": 1318,
     "metadata": {},
     "output_type": "execute_result"
    }
   ],
   "source": [
    "X_new.shape"
   ]
  },
  {
   "cell_type": "code",
   "execution_count": 1322,
   "metadata": {},
   "outputs": [
    {
     "data": {
      "text/plain": [
       "['energy', 'speechiness', 'acousticness', 'valence', 'mode']"
      ]
     },
     "execution_count": 1322,
     "metadata": {},
     "output_type": "execute_result"
    }
   ],
   "source": [
    "df_features.columns[selector.get_support(indices=True)].tolist()"
   ]
  },
  {
   "cell_type": "code",
   "execution_count": 1323,
   "metadata": {},
   "outputs": [],
   "source": [
    "X = X_new\n",
    "y = df_labels\n",
    "\n",
    "X_train, X_test, y_train, y_test = train_test_split(X, y, test_size=0.3, random_state=101)"
   ]
  },
  {
   "cell_type": "code",
   "execution_count": 1324,
   "metadata": {},
   "outputs": [
    {
     "name": "stdout",
     "output_type": "stream",
     "text": [
      "[[283  15  75  64]\n",
      " [ 17 390   9  39]\n",
      " [ 85  18 333  19]\n",
      " [ 54  84  10 305]]\n",
      "             precision    recall  f1-score   support\n",
      "\n",
      "      dance       0.64      0.65      0.65       437\n",
      "       jazz       0.77      0.86      0.81       455\n",
      "        rap       0.78      0.73      0.76       455\n",
      "       rock       0.71      0.67      0.69       453\n",
      "\n",
      "avg / total       0.73      0.73      0.73      1800\n",
      "\n"
     ]
    }
   ],
   "source": [
    "svc_optimized = SVC(C=1, gamma=0.1)\n",
    "svc_optimized.fit(X_train, y_train)\n",
    "svc_predictions = svc_optimized.predict(X_test)\n",
    "print(confusion_matrix(y_test, svc_predictions))\n",
    "print(classification_report(list(y_test), list(svc_predictions)))"
   ]
  },
  {
   "cell_type": "markdown",
   "metadata": {},
   "source": [
    "## Analysis:\n",
    "`svc_optimized` with the 5 best features is less accurate than `svc_best`, because more than 5 features is needed. "
   ]
  },
  {
   "cell_type": "markdown",
   "metadata": {},
   "source": [
    "# Random Forest Classifier"
   ]
  },
  {
   "cell_type": "code",
   "execution_count": 1325,
   "metadata": {},
   "outputs": [],
   "source": [
    "import numpy as np\n",
    "import matplotlib.pyplot as plt\n",
    "%matplotlib inline"
   ]
  },
  {
   "cell_type": "code",
   "execution_count": 1326,
   "metadata": {},
   "outputs": [],
   "source": [
    "from numpy import sort\n",
    "from sklearn.metrics import accuracy_score\n",
    "from sklearn.feature_selection import SelectFromModel"
   ]
  },
  {
   "cell_type": "code",
   "execution_count": 1401,
   "metadata": {},
   "outputs": [],
   "source": [
    "X = df_features_final\n",
    "y = df_labels\n",
    "\n",
    "X_train, X_test, y_train, y_test = train_test_split(X, y, test_size = 0.3, random_state = 101)"
   ]
  },
  {
   "cell_type": "code",
   "execution_count": 1328,
   "metadata": {},
   "outputs": [
    {
     "name": "stdout",
     "output_type": "stream",
     "text": [
      "(4200, 17)\n",
      "(1800, 17)\n",
      "(4200,)\n",
      "(1800,)\n"
     ]
    }
   ],
   "source": [
    "print(X_train.shape)\n",
    "print(X_test.shape)\n",
    "print(y_train.shape)\n",
    "print(y_test.shape)"
   ]
  },
  {
   "cell_type": "code",
   "execution_count": 1329,
   "metadata": {},
   "outputs": [
    {
     "data": {
      "text/plain": [
       "RandomForestClassifier(bootstrap=True, class_weight=None, criterion='gini',\n",
       "            max_depth=None, max_features='log2', max_leaf_nodes=None,\n",
       "            min_impurity_decrease=0.0, min_impurity_split=None,\n",
       "            min_samples_leaf=1, min_samples_split=2,\n",
       "            min_weight_fraction_leaf=0.0, n_estimators=5, n_jobs=1,\n",
       "            oob_score=False, random_state=None, verbose=0,\n",
       "            warm_start=False)"
      ]
     },
     "execution_count": 1329,
     "metadata": {},
     "output_type": "execute_result"
    }
   ],
   "source": [
    "from sklearn.ensemble import RandomForestClassifier\n",
    "rfc = RandomForestClassifier()\n",
    "rfc_original = RandomForestClassifier(n_estimators=5, min_samples_split=2, max_features='log2')\n",
    "rfc_original.fit(X_train, y_train)"
   ]
  },
  {
   "cell_type": "code",
   "execution_count": 1330,
   "metadata": {},
   "outputs": [],
   "source": [
    "rfc_predictions = rfc_original.predict(X_test)"
   ]
  },
  {
   "cell_type": "code",
   "execution_count": 1331,
   "metadata": {},
   "outputs": [
    {
     "data": {
      "text/plain": [
       "0.83"
      ]
     },
     "execution_count": 1331,
     "metadata": {},
     "output_type": "execute_result"
    }
   ],
   "source": [
    "np.round(accuracy_score(y_test, rfc_predictions), decimals=2)"
   ]
  },
  {
   "cell_type": "markdown",
   "metadata": {},
   "source": [
    "### Random Forest Classifier Original\n",
    "Confusion Matrix & Classification Report"
   ]
  },
  {
   "cell_type": "code",
   "execution_count": 1332,
   "metadata": {},
   "outputs": [
    {
     "name": "stdout",
     "output_type": "stream",
     "text": [
      "[[353  11  44  29]\n",
      " [ 16 407   5  27]\n",
      " [ 43  16 390   6]\n",
      " [ 45  52  20 336]]\n",
      "             precision    recall  f1-score   support\n",
      "\n",
      "      dance       0.77      0.81      0.79       437\n",
      "       jazz       0.84      0.89      0.87       455\n",
      "        rap       0.85      0.86      0.85       455\n",
      "       rock       0.84      0.74      0.79       453\n",
      "\n",
      "avg / total       0.83      0.83      0.82      1800\n",
      "\n"
     ]
    }
   ],
   "source": [
    "print(confusion_matrix(y_test, rfc_predictions))\n",
    "print(classification_report(list(y_test), list(rfc_predictions)))"
   ]
  },
  {
   "cell_type": "markdown",
   "metadata": {},
   "source": [
    "## RFC - GridSearchCV\n",
    "Trying to determine which parameters are the best"
   ]
  },
  {
   "cell_type": "code",
   "execution_count": 1333,
   "metadata": {},
   "outputs": [],
   "source": [
    "rfc = RandomForestClassifier()\n",
    "\n",
    "rfc_param_grid = {'n_estimators': [5, 10, 100], 'min_samples_split': [2, 3, 4, 5, 10], 'max_features': ['sqrt', 'log2', 'auto']}"
   ]
  },
  {
   "cell_type": "code",
   "execution_count": 1334,
   "metadata": {},
   "outputs": [
    {
     "name": "stdout",
     "output_type": "stream",
     "text": [
      "Fitting 3 folds for each of 45 candidates, totalling 135 fits\n",
      "[CV] max_features=sqrt, min_samples_split=2, n_estimators=5 ..........\n",
      "[CV]  max_features=sqrt, min_samples_split=2, n_estimators=5, score=0.7746077032810271, total=   0.0s\n",
      "[CV] max_features=sqrt, min_samples_split=2, n_estimators=5 ..........\n",
      "[CV]  max_features=sqrt, min_samples_split=2, n_estimators=5, score=0.7619728377412437, total=   0.0s\n",
      "[CV] max_features=sqrt, min_samples_split=2, n_estimators=5 ..........\n",
      "[CV]  max_features=sqrt, min_samples_split=2, n_estimators=5, score=0.771265189421015, total=   0.0s\n",
      "[CV] max_features=sqrt, min_samples_split=2, n_estimators=10 .........\n"
     ]
    },
    {
     "name": "stderr",
     "output_type": "stream",
     "text": [
      "[Parallel(n_jobs=1)]: Done   1 out of   1 | elapsed:    0.0s remaining:    0.0s\n",
      "[Parallel(n_jobs=1)]: Done   2 out of   2 | elapsed:    0.1s remaining:    0.0s\n"
     ]
    },
    {
     "name": "stdout",
     "output_type": "stream",
     "text": [
      "[CV]  max_features=sqrt, min_samples_split=2, n_estimators=10, score=0.8081312410841655, total=   0.1s\n",
      "[CV] max_features=sqrt, min_samples_split=2, n_estimators=10 .........\n",
      "[CV]  max_features=sqrt, min_samples_split=2, n_estimators=10, score=0.7941386704789135, total=   0.1s\n",
      "[CV] max_features=sqrt, min_samples_split=2, n_estimators=10 .........\n",
      "[CV]  max_features=sqrt, min_samples_split=2, n_estimators=10, score=0.8098641887062187, total=   0.1s\n",
      "[CV] max_features=sqrt, min_samples_split=2, n_estimators=100 ........\n",
      "[CV]  max_features=sqrt, min_samples_split=2, n_estimators=100, score=0.8395149786019972, total=   0.7s\n",
      "[CV] max_features=sqrt, min_samples_split=2, n_estimators=100 ........\n",
      "[CV]  max_features=sqrt, min_samples_split=2, n_estimators=100, score=0.81915654038599, total=   0.7s\n",
      "[CV] max_features=sqrt, min_samples_split=2, n_estimators=100 ........\n",
      "[CV]  max_features=sqrt, min_samples_split=2, n_estimators=100, score=0.8370264474624732, total=   0.7s\n",
      "[CV] max_features=sqrt, min_samples_split=3, n_estimators=5 ..........\n",
      "[CV]  max_features=sqrt, min_samples_split=3, n_estimators=5, score=0.7867332382310984, total=   0.0s\n",
      "[CV] max_features=sqrt, min_samples_split=3, n_estimators=5 ..........\n",
      "[CV]  max_features=sqrt, min_samples_split=3, n_estimators=5, score=0.7791279485346676, total=   0.0s\n",
      "[CV] max_features=sqrt, min_samples_split=3, n_estimators=5 ..........\n",
      "[CV]  max_features=sqrt, min_samples_split=3, n_estimators=5, score=0.7762687634024303, total=   0.0s\n",
      "[CV] max_features=sqrt, min_samples_split=3, n_estimators=10 .........\n",
      "[CV]  max_features=sqrt, min_samples_split=3, n_estimators=10, score=0.8195435092724679, total=   0.1s\n",
      "[CV] max_features=sqrt, min_samples_split=3, n_estimators=10 .........\n",
      "[CV]  max_features=sqrt, min_samples_split=3, n_estimators=10, score=0.7898498927805575, total=   0.1s\n",
      "[CV] max_features=sqrt, min_samples_split=3, n_estimators=10 .........\n",
      "[CV]  max_features=sqrt, min_samples_split=3, n_estimators=10, score=0.8012866333095068, total=   0.1s\n",
      "[CV] max_features=sqrt, min_samples_split=3, n_estimators=100 ........\n",
      "[CV]  max_features=sqrt, min_samples_split=3, n_estimators=100, score=0.8366619115549215, total=   0.7s\n",
      "[CV] max_features=sqrt, min_samples_split=3, n_estimators=100 ........\n",
      "[CV]  max_features=sqrt, min_samples_split=3, n_estimators=100, score=0.8205861329521087, total=   0.7s\n",
      "[CV] max_features=sqrt, min_samples_split=3, n_estimators=100 ........\n",
      "[CV]  max_features=sqrt, min_samples_split=3, n_estimators=100, score=0.8341672623302359, total=   0.7s\n",
      "[CV] max_features=sqrt, min_samples_split=4, n_estimators=5 ..........\n",
      "[CV]  max_features=sqrt, min_samples_split=4, n_estimators=5, score=0.7888730385164051, total=   0.0s\n",
      "[CV] max_features=sqrt, min_samples_split=4, n_estimators=5 ..........\n",
      "[CV]  max_features=sqrt, min_samples_split=4, n_estimators=5, score=0.7741243745532523, total=   0.0s\n",
      "[CV] max_features=sqrt, min_samples_split=4, n_estimators=5 ..........\n",
      "[CV]  max_features=sqrt, min_samples_split=4, n_estimators=5, score=0.7827019299499642, total=   0.0s\n",
      "[CV] max_features=sqrt, min_samples_split=4, n_estimators=10 .........\n",
      "[CV]  max_features=sqrt, min_samples_split=4, n_estimators=10, score=0.8102710413694721, total=   0.1s\n",
      "[CV] max_features=sqrt, min_samples_split=4, n_estimators=10 .........\n",
      "[CV]  max_features=sqrt, min_samples_split=4, n_estimators=10, score=0.7934238741958541, total=   0.1s\n",
      "[CV] max_features=sqrt, min_samples_split=4, n_estimators=10 .........\n",
      "[CV]  max_features=sqrt, min_samples_split=4, n_estimators=10, score=0.8120085775553967, total=   0.1s\n",
      "[CV] max_features=sqrt, min_samples_split=4, n_estimators=100 ........\n",
      "[CV]  max_features=sqrt, min_samples_split=4, n_estimators=100, score=0.8409415121255349, total=   0.7s\n",
      "[CV] max_features=sqrt, min_samples_split=4, n_estimators=100 ........\n",
      "[CV]  max_features=sqrt, min_samples_split=4, n_estimators=100, score=0.823445318084346, total=   0.7s\n",
      "[CV] max_features=sqrt, min_samples_split=4, n_estimators=100 ........\n",
      "[CV]  max_features=sqrt, min_samples_split=4, n_estimators=100, score=0.8398856325947105, total=   0.7s\n",
      "[CV] max_features=sqrt, min_samples_split=5, n_estimators=5 ..........\n",
      "[CV]  max_features=sqrt, min_samples_split=5, n_estimators=5, score=0.7738944365192582, total=   0.0s\n",
      "[CV] max_features=sqrt, min_samples_split=5, n_estimators=5 ..........\n",
      "[CV]  max_features=sqrt, min_samples_split=5, n_estimators=5, score=0.771265189421015, total=   0.0s\n",
      "[CV] max_features=sqrt, min_samples_split=5, n_estimators=5 ..........\n",
      "[CV]  max_features=sqrt, min_samples_split=5, n_estimators=5, score=0.781987133666905, total=   0.0s\n",
      "[CV] max_features=sqrt, min_samples_split=5, n_estimators=10 .........\n",
      "[CV]  max_features=sqrt, min_samples_split=5, n_estimators=10, score=0.8067047075606276, total=   0.1s\n",
      "[CV] max_features=sqrt, min_samples_split=5, n_estimators=10 .........\n",
      "[CV]  max_features=sqrt, min_samples_split=5, n_estimators=10, score=0.7969978556111508, total=   0.1s\n",
      "[CV] max_features=sqrt, min_samples_split=5, n_estimators=10 .........\n",
      "[CV]  max_features=sqrt, min_samples_split=5, n_estimators=10, score=0.8077197998570408, total=   0.1s\n",
      "[CV] max_features=sqrt, min_samples_split=5, n_estimators=100 ........\n",
      "[CV]  max_features=sqrt, min_samples_split=5, n_estimators=100, score=0.8388017118402282, total=   0.7s\n",
      "[CV] max_features=sqrt, min_samples_split=5, n_estimators=100 ........\n",
      "[CV]  max_features=sqrt, min_samples_split=5, n_estimators=100, score=0.8184417441029307, total=   0.7s\n",
      "[CV] max_features=sqrt, min_samples_split=5, n_estimators=100 ........\n",
      "[CV]  max_features=sqrt, min_samples_split=5, n_estimators=100, score=0.8320228734810579, total=   0.7s\n",
      "[CV] max_features=sqrt, min_samples_split=10, n_estimators=5 .........\n",
      "[CV]  max_features=sqrt, min_samples_split=10, n_estimators=5, score=0.7831669044222539, total=   0.0s\n",
      "[CV] max_features=sqrt, min_samples_split=10, n_estimators=5 .........\n",
      "[CV]  max_features=sqrt, min_samples_split=10, n_estimators=5, score=0.7691208005718371, total=   0.0s\n",
      "[CV] max_features=sqrt, min_samples_split=10, n_estimators=5 .........\n",
      "[CV]  max_features=sqrt, min_samples_split=10, n_estimators=5, score=0.7948534667619729, total=   0.0s\n",
      "[CV] max_features=sqrt, min_samples_split=10, n_estimators=10 ........\n",
      "[CV]  max_features=sqrt, min_samples_split=10, n_estimators=10, score=0.8166904422253923, total=   0.1s\n",
      "[CV] max_features=sqrt, min_samples_split=10, n_estimators=10 ........\n",
      "[CV]  max_features=sqrt, min_samples_split=10, n_estimators=10, score=0.8020014295925662, total=   0.1s\n",
      "[CV] max_features=sqrt, min_samples_split=10, n_estimators=10 ........\n",
      "[CV]  max_features=sqrt, min_samples_split=10, n_estimators=10, score=0.8077197998570408, total=   0.1s\n",
      "[CV] max_features=sqrt, min_samples_split=10, n_estimators=100 .......\n",
      "[CV]  max_features=sqrt, min_samples_split=10, n_estimators=100, score=0.8302425106990015, total=   0.7s\n",
      "[CV] max_features=sqrt, min_samples_split=10, n_estimators=100 .......\n",
      "[CV]  max_features=sqrt, min_samples_split=10, n_estimators=100, score=0.8148677626876341, total=   0.7s\n",
      "[CV] max_features=sqrt, min_samples_split=10, n_estimators=100 .......\n",
      "[CV]  max_features=sqrt, min_samples_split=10, n_estimators=100, score=0.82987848463188, total=   0.7s\n",
      "[CV] max_features=log2, min_samples_split=2, n_estimators=5 ..........\n",
      "[CV]  max_features=log2, min_samples_split=2, n_estimators=5, score=0.7803138373751783, total=   0.0s\n",
      "[CV] max_features=log2, min_samples_split=2, n_estimators=5 ..........\n",
      "[CV]  max_features=log2, min_samples_split=2, n_estimators=5, score=0.7569692637598284, total=   0.0s\n",
      "[CV] max_features=log2, min_samples_split=2, n_estimators=5 ..........\n",
      "[CV]  max_features=log2, min_samples_split=2, n_estimators=5, score=0.7841315225160829, total=   0.0s\n",
      "[CV] max_features=log2, min_samples_split=2, n_estimators=10 .........\n",
      "[CV]  max_features=log2, min_samples_split=2, n_estimators=10, score=0.8159771754636234, total=   0.1s\n",
      "[CV] max_features=log2, min_samples_split=2, n_estimators=10 .........\n",
      "[CV]  max_features=log2, min_samples_split=2, n_estimators=10, score=0.7998570407433881, total=   0.1s\n",
      "[CV] max_features=log2, min_samples_split=2, n_estimators=10 .........\n",
      "[CV]  max_features=log2, min_samples_split=2, n_estimators=10, score=0.8041458184417442, total=   0.1s\n",
      "[CV] max_features=log2, min_samples_split=2, n_estimators=100 ........\n"
     ]
    },
    {
     "name": "stdout",
     "output_type": "stream",
     "text": [
      "[CV]  max_features=log2, min_samples_split=2, n_estimators=100, score=0.833808844507846, total=   0.7s\n",
      "[CV] max_features=log2, min_samples_split=2, n_estimators=100 ........\n",
      "[CV]  max_features=log2, min_samples_split=2, n_estimators=100, score=0.8177269478198713, total=   0.7s\n",
      "[CV] max_features=log2, min_samples_split=2, n_estimators=100 ........\n",
      "[CV]  max_features=log2, min_samples_split=2, n_estimators=100, score=0.8427448177269479, total=   0.7s\n",
      "[CV] max_features=log2, min_samples_split=3, n_estimators=5 ..........\n",
      "[CV]  max_features=log2, min_samples_split=3, n_estimators=5, score=0.7810271041369472, total=   0.0s\n",
      "[CV] max_features=log2, min_samples_split=3, n_estimators=5 ..........\n",
      "[CV]  max_features=log2, min_samples_split=3, n_estimators=5, score=0.7634024303073624, total=   0.0s\n",
      "[CV] max_features=log2, min_samples_split=3, n_estimators=5 ..........\n",
      "[CV]  max_features=log2, min_samples_split=3, n_estimators=5, score=0.7698355968548963, total=   0.0s\n",
      "[CV] max_features=log2, min_samples_split=3, n_estimators=10 .........\n",
      "[CV]  max_features=log2, min_samples_split=3, n_estimators=10, score=0.8231098430813124, total=   0.1s\n",
      "[CV] max_features=log2, min_samples_split=3, n_estimators=10 .........\n",
      "[CV]  max_features=log2, min_samples_split=3, n_estimators=10, score=0.781987133666905, total=   0.1s\n",
      "[CV] max_features=log2, min_samples_split=3, n_estimators=10 .........\n",
      "[CV]  max_features=log2, min_samples_split=3, n_estimators=10, score=0.8070050035739814, total=   0.1s\n",
      "[CV] max_features=log2, min_samples_split=3, n_estimators=100 ........\n",
      "[CV]  max_features=log2, min_samples_split=3, n_estimators=100, score=0.8416547788873039, total=   0.7s\n",
      "[CV] max_features=log2, min_samples_split=3, n_estimators=100 ........\n",
      "[CV]  max_features=log2, min_samples_split=3, n_estimators=100, score=0.8198713366690493, total=   0.7s\n",
      "[CV] max_features=log2, min_samples_split=3, n_estimators=100 ........\n",
      "[CV]  max_features=log2, min_samples_split=3, n_estimators=100, score=0.8413152251608291, total=   0.7s\n",
      "[CV] max_features=log2, min_samples_split=4, n_estimators=5 ..........\n",
      "[CV]  max_features=log2, min_samples_split=4, n_estimators=5, score=0.8024251069900142, total=   0.0s\n",
      "[CV] max_features=log2, min_samples_split=4, n_estimators=5 ..........\n",
      "[CV]  max_features=log2, min_samples_split=4, n_estimators=5, score=0.7705503931379557, total=   0.0s\n",
      "[CV] max_features=log2, min_samples_split=4, n_estimators=5 ..........\n",
      "[CV]  max_features=log2, min_samples_split=4, n_estimators=5, score=0.7834167262330236, total=   0.0s\n",
      "[CV] max_features=log2, min_samples_split=4, n_estimators=10 .........\n",
      "[CV]  max_features=log2, min_samples_split=4, n_estimators=10, score=0.8231098430813124, total=   0.1s\n",
      "[CV] max_features=log2, min_samples_split=4, n_estimators=10 .........\n",
      "[CV]  max_features=log2, min_samples_split=4, n_estimators=10, score=0.7891350964974982, total=   0.1s\n",
      "[CV] max_features=log2, min_samples_split=4, n_estimators=10 .........\n",
      "[CV]  max_features=log2, min_samples_split=4, n_estimators=10, score=0.8005718370264474, total=   0.1s\n",
      "[CV] max_features=log2, min_samples_split=4, n_estimators=100 ........\n",
      "[CV]  max_features=log2, min_samples_split=4, n_estimators=100, score=0.8380884450784594, total=   0.7s\n",
      "[CV] max_features=log2, min_samples_split=4, n_estimators=100 ........\n",
      "[CV]  max_features=log2, min_samples_split=4, n_estimators=100, score=0.8241601143674053, total=   0.7s\n",
      "[CV] max_features=log2, min_samples_split=4, n_estimators=100 ........\n",
      "[CV]  max_features=log2, min_samples_split=4, n_estimators=100, score=0.8398856325947105, total=   0.7s\n",
      "[CV] max_features=log2, min_samples_split=5, n_estimators=5 ..........\n",
      "[CV]  max_features=log2, min_samples_split=5, n_estimators=5, score=0.7838801711840229, total=   0.0s\n",
      "[CV] max_features=log2, min_samples_split=5, n_estimators=5 ..........\n",
      "[CV]  max_features=log2, min_samples_split=5, n_estimators=5, score=0.775553967119371, total=   0.0s\n",
      "[CV] max_features=log2, min_samples_split=5, n_estimators=5 ..........\n",
      "[CV]  max_features=log2, min_samples_split=5, n_estimators=5, score=0.777698355968549, total=   0.0s\n",
      "[CV] max_features=log2, min_samples_split=5, n_estimators=10 .........\n",
      "[CV]  max_features=log2, min_samples_split=5, n_estimators=10, score=0.8131241084165478, total=   0.1s\n",
      "[CV] max_features=log2, min_samples_split=5, n_estimators=10 .........\n",
      "[CV]  max_features=log2, min_samples_split=5, n_estimators=10, score=0.7762687634024303, total=   0.1s\n",
      "[CV] max_features=log2, min_samples_split=5, n_estimators=10 .........\n",
      "[CV]  max_features=log2, min_samples_split=5, n_estimators=10, score=0.8155825589706933, total=   0.1s\n",
      "[CV] max_features=log2, min_samples_split=5, n_estimators=100 ........\n",
      "[CV]  max_features=log2, min_samples_split=5, n_estimators=100, score=0.833095577746077, total=   0.7s\n",
      "[CV] max_features=log2, min_samples_split=5, n_estimators=100 ........\n",
      "[CV]  max_features=log2, min_samples_split=5, n_estimators=100, score=0.8091493924231594, total=   0.7s\n",
      "[CV] max_features=log2, min_samples_split=5, n_estimators=100 ........\n",
      "[CV]  max_features=log2, min_samples_split=5, n_estimators=100, score=0.8355968548963545, total=   0.7s\n",
      "[CV] max_features=log2, min_samples_split=10, n_estimators=5 .........\n",
      "[CV]  max_features=log2, min_samples_split=10, n_estimators=5, score=0.7910128388017118, total=   0.0s\n",
      "[CV] max_features=log2, min_samples_split=10, n_estimators=5 .........\n",
      "[CV]  max_features=log2, min_samples_split=10, n_estimators=5, score=0.7591136526090064, total=   0.0s\n",
      "[CV] max_features=log2, min_samples_split=10, n_estimators=5 .........\n",
      "[CV]  max_features=log2, min_samples_split=10, n_estimators=5, score=0.7919942816297355, total=   0.0s\n",
      "[CV] max_features=log2, min_samples_split=10, n_estimators=10 ........\n",
      "[CV]  max_features=log2, min_samples_split=10, n_estimators=10, score=0.8031383737517832, total=   0.1s\n",
      "[CV] max_features=log2, min_samples_split=10, n_estimators=10 ........\n",
      "[CV]  max_features=log2, min_samples_split=10, n_estimators=10, score=0.8027162258756254, total=   0.1s\n",
      "[CV] max_features=log2, min_samples_split=10, n_estimators=10 ........\n",
      "[CV]  max_features=log2, min_samples_split=10, n_estimators=10, score=0.8070050035739814, total=   0.1s\n",
      "[CV] max_features=log2, min_samples_split=10, n_estimators=100 .......\n",
      "[CV]  max_features=log2, min_samples_split=10, n_estimators=100, score=0.8252496433666191, total=   0.7s\n",
      "[CV] max_features=log2, min_samples_split=10, n_estimators=100 .......\n",
      "[CV]  max_features=log2, min_samples_split=10, n_estimators=100, score=0.8134381701215153, total=   0.7s\n",
      "[CV] max_features=log2, min_samples_split=10, n_estimators=100 .......\n",
      "[CV]  max_features=log2, min_samples_split=10, n_estimators=100, score=0.8305932809149392, total=   0.7s\n",
      "[CV] max_features=auto, min_samples_split=2, n_estimators=5 ..........\n",
      "[CV]  max_features=auto, min_samples_split=2, n_estimators=5, score=0.7774607703281027, total=   0.0s\n",
      "[CV] max_features=auto, min_samples_split=2, n_estimators=5 ..........\n",
      "[CV]  max_features=auto, min_samples_split=2, n_estimators=5, score=0.7784131522516083, total=   0.0s\n",
      "[CV] max_features=auto, min_samples_split=2, n_estimators=5 ..........\n",
      "[CV]  max_features=auto, min_samples_split=2, n_estimators=5, score=0.7812723373838456, total=   0.0s\n",
      "[CV] max_features=auto, min_samples_split=2, n_estimators=10 .........\n",
      "[CV]  max_features=auto, min_samples_split=2, n_estimators=10, score=0.8102710413694721, total=   0.1s\n",
      "[CV] max_features=auto, min_samples_split=2, n_estimators=10 .........\n",
      "[CV]  max_features=auto, min_samples_split=2, n_estimators=10, score=0.7898498927805575, total=   0.1s\n",
      "[CV] max_features=auto, min_samples_split=2, n_estimators=10 .........\n",
      "[CV]  max_features=auto, min_samples_split=2, n_estimators=10, score=0.8041458184417442, total=   0.1s\n",
      "[CV] max_features=auto, min_samples_split=2, n_estimators=100 ........\n",
      "[CV]  max_features=auto, min_samples_split=2, n_estimators=100, score=0.8402282453637661, total=   0.7s\n",
      "[CV] max_features=auto, min_samples_split=2, n_estimators=100 ........\n",
      "[CV]  max_features=auto, min_samples_split=2, n_estimators=100, score=0.8263045032165832, total=   0.7s\n",
      "[CV] max_features=auto, min_samples_split=2, n_estimators=100 ........\n",
      "[CV]  max_features=auto, min_samples_split=2, n_estimators=100, score=0.8363116511794139, total=   0.7s\n",
      "[CV] max_features=auto, min_samples_split=3, n_estimators=5 ..........\n",
      "[CV]  max_features=auto, min_samples_split=3, n_estimators=5, score=0.7867332382310984, total=   0.0s\n",
      "[CV] max_features=auto, min_samples_split=3, n_estimators=5 ..........\n",
      "[CV]  max_features=auto, min_samples_split=3, n_estimators=5, score=0.7634024303073624, total=   0.0s\n",
      "[CV] max_features=auto, min_samples_split=3, n_estimators=5 ..........\n",
      "[CV]  max_features=auto, min_samples_split=3, n_estimators=5, score=0.7877055039313795, total=   0.0s\n",
      "[CV] max_features=auto, min_samples_split=3, n_estimators=10 .........\n"
     ]
    },
    {
     "name": "stdout",
     "output_type": "stream",
     "text": [
      "[CV]  max_features=auto, min_samples_split=3, n_estimators=10, score=0.8245363766048502, total=   0.1s\n",
      "[CV] max_features=auto, min_samples_split=3, n_estimators=10 .........\n",
      "[CV]  max_features=auto, min_samples_split=3, n_estimators=10, score=0.7962830593280915, total=   0.1s\n",
      "[CV] max_features=auto, min_samples_split=3, n_estimators=10 .........\n",
      "[CV]  max_features=auto, min_samples_split=3, n_estimators=10, score=0.8055754110078628, total=   0.1s\n",
      "[CV] max_features=auto, min_samples_split=3, n_estimators=100 ........\n",
      "[CV]  max_features=auto, min_samples_split=3, n_estimators=100, score=0.833808844507846, total=   0.7s\n",
      "[CV] max_features=auto, min_samples_split=3, n_estimators=100 ........\n",
      "[CV]  max_features=auto, min_samples_split=3, n_estimators=100, score=0.8155825589706933, total=   0.7s\n",
      "[CV] max_features=auto, min_samples_split=3, n_estimators=100 ........\n",
      "[CV]  max_features=auto, min_samples_split=3, n_estimators=100, score=0.8370264474624732, total=   0.7s\n",
      "[CV] max_features=auto, min_samples_split=4, n_estimators=5 ..........\n",
      "[CV]  max_features=auto, min_samples_split=4, n_estimators=5, score=0.7881597717546363, total=   0.0s\n",
      "[CV] max_features=auto, min_samples_split=4, n_estimators=5 ..........\n",
      "[CV]  max_features=auto, min_samples_split=4, n_estimators=5, score=0.7505360972122945, total=   0.0s\n",
      "[CV] max_features=auto, min_samples_split=4, n_estimators=5 ..........\n",
      "[CV]  max_features=auto, min_samples_split=4, n_estimators=5, score=0.781987133666905, total=   0.0s\n",
      "[CV] max_features=auto, min_samples_split=4, n_estimators=10 .........\n",
      "[CV]  max_features=auto, min_samples_split=4, n_estimators=10, score=0.8273894436519258, total=   0.1s\n",
      "[CV] max_features=auto, min_samples_split=4, n_estimators=10 .........\n",
      "[CV]  max_features=auto, min_samples_split=4, n_estimators=10, score=0.7784131522516083, total=   0.1s\n",
      "[CV] max_features=auto, min_samples_split=4, n_estimators=10 .........\n",
      "[CV]  max_features=auto, min_samples_split=4, n_estimators=10, score=0.8112937812723374, total=   0.1s\n",
      "[CV] max_features=auto, min_samples_split=4, n_estimators=100 ........\n",
      "[CV]  max_features=auto, min_samples_split=4, n_estimators=100, score=0.8416547788873039, total=   0.7s\n",
      "[CV] max_features=auto, min_samples_split=4, n_estimators=100 ........\n",
      "[CV]  max_features=auto, min_samples_split=4, n_estimators=100, score=0.8227305218012866, total=   0.7s\n",
      "[CV] max_features=auto, min_samples_split=4, n_estimators=100 ........\n",
      "[CV]  max_features=auto, min_samples_split=4, n_estimators=100, score=0.8334524660471766, total=   0.7s\n",
      "[CV] max_features=auto, min_samples_split=5, n_estimators=5 ..........\n",
      "[CV]  max_features=auto, min_samples_split=5, n_estimators=5, score=0.7981455064194009, total=   0.0s\n",
      "[CV] max_features=auto, min_samples_split=5, n_estimators=5 ..........\n",
      "[CV]  max_features=auto, min_samples_split=5, n_estimators=5, score=0.7512508934953538, total=   0.0s\n",
      "[CV] max_features=auto, min_samples_split=5, n_estimators=5 ..........\n",
      "[CV]  max_features=auto, min_samples_split=5, n_estimators=5, score=0.7884203002144389, total=   0.0s\n",
      "[CV] max_features=auto, min_samples_split=5, n_estimators=10 .........\n",
      "[CV]  max_features=auto, min_samples_split=5, n_estimators=10, score=0.8059914407988588, total=   0.1s\n",
      "[CV] max_features=auto, min_samples_split=5, n_estimators=10 .........\n",
      "[CV]  max_features=auto, min_samples_split=5, n_estimators=10, score=0.7898498927805575, total=   0.1s\n",
      "[CV] max_features=auto, min_samples_split=5, n_estimators=10 .........\n",
      "[CV]  max_features=auto, min_samples_split=5, n_estimators=10, score=0.8034310221586848, total=   0.1s\n",
      "[CV] max_features=auto, min_samples_split=5, n_estimators=100 ........\n",
      "[CV]  max_features=auto, min_samples_split=5, n_estimators=100, score=0.8388017118402282, total=   0.7s\n",
      "[CV] max_features=auto, min_samples_split=5, n_estimators=100 ........\n",
      "[CV]  max_features=auto, min_samples_split=5, n_estimators=100, score=0.812723373838456, total=   0.7s\n",
      "[CV] max_features=auto, min_samples_split=5, n_estimators=100 ........\n",
      "[CV]  max_features=auto, min_samples_split=5, n_estimators=100, score=0.8341672623302359, total=   0.7s\n",
      "[CV] max_features=auto, min_samples_split=10, n_estimators=5 .........\n",
      "[CV]  max_features=auto, min_samples_split=10, n_estimators=5, score=0.7867332382310984, total=   0.0s\n",
      "[CV] max_features=auto, min_samples_split=10, n_estimators=5 .........\n",
      "[CV]  max_features=auto, min_samples_split=10, n_estimators=5, score=0.7676912080057183, total=   0.0s\n",
      "[CV] max_features=auto, min_samples_split=10, n_estimators=5 .........\n",
      "[CV]  max_features=auto, min_samples_split=10, n_estimators=5, score=0.7848463187991422, total=   0.0s\n",
      "[CV] max_features=auto, min_samples_split=10, n_estimators=10 ........\n",
      "[CV]  max_features=auto, min_samples_split=10, n_estimators=10, score=0.8088445078459344, total=   0.1s\n",
      "[CV] max_features=auto, min_samples_split=10, n_estimators=10 ........\n",
      "[CV]  max_features=auto, min_samples_split=10, n_estimators=10, score=0.7877055039313795, total=   0.1s\n",
      "[CV] max_features=auto, min_samples_split=10, n_estimators=10 ........\n",
      "[CV]  max_features=auto, min_samples_split=10, n_estimators=10, score=0.812723373838456, total=   0.1s\n",
      "[CV] max_features=auto, min_samples_split=10, n_estimators=100 .......\n",
      "[CV]  max_features=auto, min_samples_split=10, n_estimators=100, score=0.8316690442225392, total=   0.7s\n",
      "[CV] max_features=auto, min_samples_split=10, n_estimators=100 .......\n",
      "[CV]  max_features=auto, min_samples_split=10, n_estimators=100, score=0.8170121515368121, total=   0.7s\n",
      "[CV] max_features=auto, min_samples_split=10, n_estimators=100 .......\n",
      "[CV]  max_features=auto, min_samples_split=10, n_estimators=100, score=0.8284488920657612, total=   0.7s\n"
     ]
    },
    {
     "name": "stderr",
     "output_type": "stream",
     "text": [
      "[Parallel(n_jobs=1)]: Done 135 out of 135 | elapsed:   39.2s finished\n"
     ]
    },
    {
     "data": {
      "text/plain": [
       "GridSearchCV(cv=None, error_score='raise',\n",
       "       estimator=RandomForestClassifier(bootstrap=True, class_weight=None, criterion='gini',\n",
       "            max_depth=None, max_features='auto', max_leaf_nodes=None,\n",
       "            min_impurity_decrease=0.0, min_impurity_split=None,\n",
       "            min_samples_leaf=1, min_samples_split=2,\n",
       "            min_weight_fraction_leaf=0.0, n_estimators=10, n_jobs=1,\n",
       "            oob_score=False, random_state=None, verbose=0,\n",
       "            warm_start=False),\n",
       "       fit_params=None, iid=True, n_jobs=1,\n",
       "       param_grid={'n_estimators': [5, 10, 100], 'min_samples_split': [2, 3, 4, 5, 10], 'max_features': ['sqrt', 'log2', 'auto']},\n",
       "       pre_dispatch='2*n_jobs', refit=True, return_train_score='warn',\n",
       "       scoring=None, verbose=3)"
      ]
     },
     "execution_count": 1334,
     "metadata": {},
     "output_type": "execute_result"
    }
   ],
   "source": [
    "rfc_grid = GridSearchCV(rfc, rfc_param_grid, verbose=3)\n",
    "rfc_grid.fit(X_train, y_train)"
   ]
  },
  {
   "cell_type": "code",
   "execution_count": 1336,
   "metadata": {},
   "outputs": [
    {
     "data": {
      "text/plain": [
       "{'max_features': 'sqrt', 'min_samples_split': 4, 'n_estimators': 100}"
      ]
     },
     "execution_count": 1336,
     "metadata": {},
     "output_type": "execute_result"
    }
   ],
   "source": [
    "rfc_grid.best_params_"
   ]
  },
  {
   "cell_type": "markdown",
   "metadata": {},
   "source": [
    "## RFC - Best"
   ]
  },
  {
   "cell_type": "code",
   "execution_count": 1341,
   "metadata": {},
   "outputs": [
    {
     "data": {
      "text/plain": [
       "RandomForestClassifier(bootstrap=True, class_weight=None, criterion='gini',\n",
       "            max_depth=None, max_features='sqrt', max_leaf_nodes=None,\n",
       "            min_impurity_decrease=0.0, min_impurity_split=None,\n",
       "            min_samples_leaf=1, min_samples_split=4,\n",
       "            min_weight_fraction_leaf=0.0, n_estimators=100, n_jobs=1,\n",
       "            oob_score=False, random_state=None, verbose=0,\n",
       "            warm_start=False)"
      ]
     },
     "execution_count": 1341,
     "metadata": {},
     "output_type": "execute_result"
    }
   ],
   "source": [
    "rfc_best = RandomForestClassifier(n_estimators=100, min_samples_split=4, max_features='sqrt')\n",
    "rfc_best.fit(X_train, y_train)"
   ]
  },
  {
   "cell_type": "code",
   "execution_count": 1342,
   "metadata": {},
   "outputs": [],
   "source": [
    "rfc_best_pred = rfc_best.predict(X_test)"
   ]
  },
  {
   "cell_type": "code",
   "execution_count": 1343,
   "metadata": {},
   "outputs": [
    {
     "data": {
      "text/plain": [
       "0.875"
      ]
     },
     "execution_count": 1343,
     "metadata": {},
     "output_type": "execute_result"
    }
   ],
   "source": [
    "np.round(accuracy_score(y_test, rfc_best_pred), decimals=3)"
   ]
  },
  {
   "cell_type": "code",
   "execution_count": 1344,
   "metadata": {},
   "outputs": [
    {
     "name": "stdout",
     "output_type": "stream",
     "text": [
      "[[367   9  36  25]\n",
      " [  9 419   7  20]\n",
      " [ 21   9 413  12]\n",
      " [ 27  42   8 376]]\n",
      "             precision    recall  f1-score   support\n",
      "\n",
      "      dance       0.87      0.84      0.85       437\n",
      "       jazz       0.87      0.92      0.90       455\n",
      "        rap       0.89      0.91      0.90       455\n",
      "       rock       0.87      0.83      0.85       453\n",
      "\n",
      "avg / total       0.87      0.88      0.87      1800\n",
      "\n"
     ]
    }
   ],
   "source": [
    "print(confusion_matrix(y_test, rfc_best_pred))\n",
    "print(classification_report(list(y_test), list(rfc_best_pred)))"
   ]
  },
  {
   "cell_type": "markdown",
   "metadata": {},
   "source": [
    "### Finding Best Features"
   ]
  },
  {
   "cell_type": "code",
   "execution_count": 1345,
   "metadata": {},
   "outputs": [
    {
     "data": {
      "text/plain": [
       "<bound method BaseForest.fit of RandomForestClassifier(bootstrap=True, class_weight=None, criterion='gini',\n",
       "            max_depth=None, max_features='auto', max_leaf_nodes=None,\n",
       "            min_impurity_decrease=0.0, min_impurity_split=None,\n",
       "            min_samples_leaf=1, min_samples_split=2,\n",
       "            min_weight_fraction_leaf=0.0, n_estimators=10, n_jobs=1,\n",
       "            oob_score=False, random_state=None, verbose=0,\n",
       "            warm_start=False)>"
      ]
     },
     "execution_count": 1345,
     "metadata": {},
     "output_type": "execute_result"
    }
   ],
   "source": [
    "rfc.fit\n"
   ]
  },
  {
   "cell_type": "code",
   "execution_count": 1411,
   "metadata": {},
   "outputs": [
    {
     "data": {
      "text/html": [
       "<div>\n",
       "<style scoped>\n",
       "    .dataframe tbody tr th:only-of-type {\n",
       "        vertical-align: middle;\n",
       "    }\n",
       "\n",
       "    .dataframe tbody tr th {\n",
       "        vertical-align: top;\n",
       "    }\n",
       "\n",
       "    .dataframe thead th {\n",
       "        text-align: right;\n",
       "    }\n",
       "</style>\n",
       "<table border=\"1\" class=\"dataframe\">\n",
       "  <thead>\n",
       "    <tr style=\"text-align: right;\">\n",
       "      <th></th>\n",
       "      <th>feature</th>\n",
       "      <th>importance</th>\n",
       "    </tr>\n",
       "  </thead>\n",
       "  <tbody>\n",
       "    <tr>\n",
       "      <th>0</th>\n",
       "      <td>key</td>\n",
       "      <td>0.0221</td>\n",
       "    </tr>\n",
       "    <tr>\n",
       "      <th>1</th>\n",
       "      <td>energy</td>\n",
       "      <td>0.0994</td>\n",
       "    </tr>\n",
       "    <tr>\n",
       "      <th>2</th>\n",
       "      <td>liveliness</td>\n",
       "      <td>0.0348</td>\n",
       "    </tr>\n",
       "    <tr>\n",
       "      <th>3</th>\n",
       "      <td>tempo</td>\n",
       "      <td>0.0710</td>\n",
       "    </tr>\n",
       "    <tr>\n",
       "      <th>4</th>\n",
       "      <td>speechiness</td>\n",
       "      <td>0.1152</td>\n",
       "    </tr>\n",
       "    <tr>\n",
       "      <th>5</th>\n",
       "      <td>acousticness</td>\n",
       "      <td>0.1191</td>\n",
       "    </tr>\n",
       "    <tr>\n",
       "      <th>6</th>\n",
       "      <td>instrumentalness</td>\n",
       "      <td>0.0641</td>\n",
       "    </tr>\n",
       "    <tr>\n",
       "      <th>7</th>\n",
       "      <td>time_signature</td>\n",
       "      <td>0.0087</td>\n",
       "    </tr>\n",
       "    <tr>\n",
       "      <th>8</th>\n",
       "      <td>duration</td>\n",
       "      <td>0.0034</td>\n",
       "    </tr>\n",
       "    <tr>\n",
       "      <th>9</th>\n",
       "      <td>loudness</td>\n",
       "      <td>0.0546</td>\n",
       "    </tr>\n",
       "    <tr>\n",
       "      <th>10</th>\n",
       "      <td>valence</td>\n",
       "      <td>0.0621</td>\n",
       "    </tr>\n",
       "    <tr>\n",
       "      <th>11</th>\n",
       "      <td>danceability</td>\n",
       "      <td>0.0402</td>\n",
       "    </tr>\n",
       "    <tr>\n",
       "      <th>12</th>\n",
       "      <td>mode</td>\n",
       "      <td>0.1359</td>\n",
       "    </tr>\n",
       "    <tr>\n",
       "      <th>13</th>\n",
       "      <td>time_signature_confidence</td>\n",
       "      <td>0.0388</td>\n",
       "    </tr>\n",
       "    <tr>\n",
       "      <th>14</th>\n",
       "      <td>tempo_confidence</td>\n",
       "      <td>0.0312</td>\n",
       "    </tr>\n",
       "    <tr>\n",
       "      <th>15</th>\n",
       "      <td>key_confidence</td>\n",
       "      <td>0.0752</td>\n",
       "    </tr>\n",
       "    <tr>\n",
       "      <th>16</th>\n",
       "      <td>mode_confidence</td>\n",
       "      <td>0.0241</td>\n",
       "    </tr>\n",
       "  </tbody>\n",
       "</table>\n",
       "</div>"
      ],
      "text/plain": [
       "                      feature  importance\n",
       "0                         key      0.0221\n",
       "1                      energy      0.0994\n",
       "2                  liveliness      0.0348\n",
       "3                       tempo      0.0710\n",
       "4                 speechiness      0.1152\n",
       "5                acousticness      0.1191\n",
       "6            instrumentalness      0.0641\n",
       "7              time_signature      0.0087\n",
       "8                    duration      0.0034\n",
       "9                    loudness      0.0546\n",
       "10                    valence      0.0621\n",
       "11               danceability      0.0402\n",
       "12                       mode      0.1359\n",
       "13  time_signature_confidence      0.0388\n",
       "14           tempo_confidence      0.0312\n",
       "15             key_confidence      0.0752\n",
       "16            mode_confidence      0.0241"
      ]
     },
     "execution_count": 1411,
     "metadata": {},
     "output_type": "execute_result"
    }
   ],
   "source": [
    "dictionary = {'feature':df_features.columns, 'importance': np.round(rfc_original.feature_importances_, decimals = 4)}\n",
    "importances = pd.DataFrame(dictionary)\n",
    "importances"
   ]
  },
  {
   "cell_type": "code",
   "execution_count": 1347,
   "metadata": {},
   "outputs": [],
   "source": [
    "importances = importances.sort_values(by='importance', ascending=False)\n",
    "importances = importances.set_index('feature')"
   ]
  },
  {
   "cell_type": "code",
   "execution_count": 1348,
   "metadata": {},
   "outputs": [
    {
     "name": "stdout",
     "output_type": "stream",
     "text": [
      "                           importance\n",
      "feature                              \n",
      "mode                           0.1359\n",
      "acousticness                   0.1191\n",
      "speechiness                    0.1152\n",
      "energy                         0.0994\n",
      "key_confidence                 0.0752\n",
      "tempo                          0.0710\n",
      "instrumentalness               0.0641\n",
      "valence                        0.0621\n",
      "loudness                       0.0546\n",
      "danceability                   0.0402\n",
      "time_signature_confidence      0.0388\n",
      "liveliness                     0.0348\n",
      "tempo_confidence               0.0312\n",
      "mode_confidence                0.0241\n",
      "key                            0.0221\n",
      "time_signature                 0.0087\n",
      "duration                       0.0034\n"
     ]
    }
   ],
   "source": [
    "print(importances)"
   ]
  },
  {
   "cell_type": "code",
   "execution_count": 1410,
   "metadata": {},
   "outputs": [
    {
     "data": {
      "text/plain": [
       "<matplotlib.axes._subplots.AxesSubplot at 0x1b06d57b00>"
      ]
     },
     "execution_count": 1410,
     "metadata": {},
     "output_type": "execute_result"
    },
    {
     "data": {
      "image/png": "[encoded data removed]",
      "text/plain": [
       "<matplotlib.figure.Figure at 0x1b0335f320>"
      ]
     },
     "metadata": {},
     "output_type": "display_data"
    }
   ],
   "source": [
    "importances.plot.bar()"
   ]
  },
  {
   "cell_type": "code",
   "execution_count": 1350,
   "metadata": {},
   "outputs": [
    {
     "data": {
      "text/plain": [
       "array([0.00335213, 0.00868999, 0.0220893 , 0.02409036, 0.03124585,\n",
       "       0.03482432, 0.0388039 , 0.04021329, 0.05459903, 0.06213089,\n",
       "       0.06408777, 0.07096968, 0.0751716 , 0.0994252 , 0.11524385,\n",
       "       0.1191493 , 0.13591353])"
      ]
     },
     "execution_count": 1350,
     "metadata": {},
     "output_type": "execute_result"
    }
   ],
   "source": [
    "thresholds = sort(rfc_original.feature_importances_)\n",
    "thresholds"
   ]
  },
  {
   "cell_type": "code",
   "execution_count": 1351,
   "metadata": {},
   "outputs": [
    {
     "data": {
      "text/plain": [
       "RandomForestClassifier(bootstrap=True, class_weight=None, criterion='gini',\n",
       "            max_depth=None, max_features='auto', max_leaf_nodes=None,\n",
       "            min_impurity_decrease=0.0, min_impurity_split=None,\n",
       "            min_samples_leaf=1, min_samples_split=2,\n",
       "            min_weight_fraction_leaf=0.0, n_estimators=10, n_jobs=1,\n",
       "            oob_score=False, random_state=None, verbose=0,\n",
       "            warm_start=False)"
      ]
     },
     "execution_count": 1351,
     "metadata": {},
     "output_type": "execute_result"
    }
   ],
   "source": [
    "rfc.fit(X_train, y_train)"
   ]
  },
  {
   "cell_type": "code",
   "execution_count": 1352,
   "metadata": {},
   "outputs": [
    {
     "name": "stdout",
     "output_type": "stream",
     "text": [
      "current threshold:  0.0033521303554453485\n",
      "how many features:  16\n",
      "accuracy score:  0.8389\n",
      "---\n",
      "current threshold:  0.008689988740848075\n",
      "how many features:  15\n",
      "accuracy score:  0.8383\n",
      "---\n",
      "current threshold:  0.022089303613333933\n",
      "how many features:  14\n",
      "accuracy score:  0.8472\n",
      "---\n",
      "current threshold:  0.024090361546886607\n",
      "how many features:  14\n",
      "accuracy score:  0.8361\n",
      "---\n",
      "current threshold:  0.031245853400645757\n",
      "how many features:  12\n",
      "accuracy score:  0.8339\n",
      "---\n",
      "current threshold:  0.0348243209967647\n",
      "how many features:  11\n",
      "accuracy score:  0.8483\n",
      "---\n",
      "current threshold:  0.03880389721675265\n",
      "how many features:  9\n",
      "accuracy score:  0.8228\n",
      "---\n",
      "current threshold:  0.04021328721920993\n",
      "how many features:  9\n",
      "accuracy score:  0.8383\n",
      "---\n",
      "current threshold:  0.0545990326393744\n",
      "how many features:  8\n",
      "accuracy score:  0.8344\n",
      "---\n",
      "current threshold:  0.062130894169071825\n",
      "how many features:  6\n",
      "accuracy score:  0.8244\n",
      "---\n",
      "current threshold:  0.06408776985009282\n",
      "how many features:  6\n",
      "accuracy score:  0.8306\n",
      "---\n",
      "current threshold:  0.07096968401622342\n",
      "how many features:  5\n",
      "accuracy score:  0.8239\n",
      "---\n",
      "current threshold:  0.07517159699750975\n",
      "how many features:  5\n",
      "accuracy score:  0.8183\n",
      "---\n",
      "current threshold:  0.09942519527230595\n",
      "how many features:  4\n",
      "accuracy score:  0.7956\n",
      "---\n",
      "current threshold:  0.11524384812377728\n",
      "how many features:  3\n",
      "accuracy score:  0.7806\n",
      "---\n",
      "current threshold:  0.11914930372168953\n",
      "how many features:  2\n",
      "accuracy score:  0.7122\n",
      "---\n",
      "current threshold:  0.13591353212006807\n",
      "how many features:  1\n",
      "accuracy score:  0.6078\n",
      "---\n"
     ]
    }
   ],
   "source": [
    "for threshold in thresholds:\n",
    "    sfm = SelectFromModel(rfc, threshold=threshold, prefit=True)\n",
    "    select_X_train = sfm.transform(X_train)\n",
    "    rfc_new = RandomForestClassifier()\n",
    "    rfc_new.fit(select_X_train, y_train)\n",
    "    select_X_test = sfm.transform(X_test)\n",
    "    predictions = rfc_new.predict(select_X_test)\n",
    "    accuracy_score(y_test, predictions)\n",
    "    print('current threshold: ', threshold)\n",
    "    print('how many features: ', select_X_train.shape[1])\n",
    "    print('accuracy score: ', np.round(accuracy_score(y_test, predictions), decimals=4))\n",
    "    print('---')"
   ]
  },
  {
   "cell_type": "code",
   "execution_count": 1355,
   "metadata": {},
   "outputs": [
    {
     "data": {
      "text/plain": [
       "SelectFromModel(estimator=RandomForestClassifier(bootstrap=True, class_weight=None, criterion='gini',\n",
       "            max_depth=None, max_features='auto', max_leaf_nodes=None,\n",
       "            min_impurity_decrease=0.0, min_impurity_split=None,\n",
       "            min_samples_leaf=1, min_samples_split=2,\n",
       "            min_weight_fraction_leaf=0.0, n_estimators=10, n_jobs=1,\n",
       "            oob_score=False, random_state=None, verbose=0,\n",
       "            warm_start=False),\n",
       "        norm_order=1, prefit=False, threshold=0.0348243209967647)"
      ]
     },
     "execution_count": 1355,
     "metadata": {},
     "output_type": "execute_result"
    }
   ],
   "source": [
    "sfm_test = SelectFromModel(rfc, threshold=0.0348243209967647) #threshold with highest accuracy score\n",
    "sfm_test.fit(X_train, y_train)"
   ]
  },
  {
   "cell_type": "code",
   "execution_count": 1356,
   "metadata": {},
   "outputs": [
    {
     "name": "stdout",
     "output_type": "stream",
     "text": [
      "energy\n",
      "tempo\n",
      "speechiness\n",
      "acousticness\n",
      "instrumentalness\n",
      "loudness\n",
      "valence\n",
      "mode\n",
      "key_confidence\n"
     ]
    }
   ],
   "source": [
    "for feature_list_index in sfm_test.get_support(indices=True):\n",
    "    print(df_features.columns[feature_list_index])"
   ]
  },
  {
   "cell_type": "markdown",
   "metadata": {},
   "source": [
    "### Analysis:\n",
    "In general, accuracy score stays relatively consistent as features decrease. It seems the best accuracy is around 10 - 15 features, going down in accuracy significantly from 4 features and below, with 'time_signature' and 'duration' being the least important. \n",
    "`SelectFromModel` chooses the top 9 features in order of importance:  'acousticness', 'speechiness', 'mode', 'energy', 'tempo', 'instrumentalness', 'key_confidence', loudness', and 'valence'. "
   ]
  },
  {
   "cell_type": "markdown",
   "metadata": {},
   "source": [
    "### RFC - RFE"
   ]
  },
  {
   "cell_type": "code",
   "execution_count": 1357,
   "metadata": {},
   "outputs": [],
   "source": [
    "from sklearn.feature_selection import RFE"
   ]
  },
  {
   "cell_type": "code",
   "execution_count": 1358,
   "metadata": {},
   "outputs": [],
   "source": [
    "rfc_rfe = RandomForestClassifier()"
   ]
  },
  {
   "cell_type": "code",
   "execution_count": 1359,
   "metadata": {},
   "outputs": [],
   "source": [
    "rfe_model = RFE(rfc_rfe, n_features_to_select=9)"
   ]
  },
  {
   "cell_type": "code",
   "execution_count": 1360,
   "metadata": {},
   "outputs": [],
   "source": [
    "rfe_model = rfe_model.fit(X_train, y_train)"
   ]
  },
  {
   "cell_type": "code",
   "execution_count": 1361,
   "metadata": {},
   "outputs": [
    {
     "name": "stdout",
     "output_type": "stream",
     "text": [
      "[False  True False  True  True  True  True False False  True  True False\n",
      "  True False False  True False]\n"
     ]
    }
   ],
   "source": [
    "print(rfe_model.support_)\n"
   ]
  },
  {
   "cell_type": "code",
   "execution_count": 1362,
   "metadata": {},
   "outputs": [
    {
     "name": "stdout",
     "output_type": "stream",
     "text": [
      "[7 1 4 1 1 1 1 8 9 1 1 2 1 3 5 1 6]\n",
      "Index(['key', 'energy', 'liveliness', 'tempo', 'speechiness', 'acousticness',\n",
      "       'instrumentalness', 'time_signature', 'duration', 'loudness', 'valence',\n",
      "       'danceability', 'mode', 'time_signature_confidence', 'tempo_confidence',\n",
      "       'key_confidence', 'mode_confidence'],\n",
      "      dtype='object')\n"
     ]
    }
   ],
   "source": [
    "print(rfe_model.ranking_)\n",
    "print(df_features.columns)"
   ]
  },
  {
   "cell_type": "code",
   "execution_count": 1363,
   "metadata": {},
   "outputs": [],
   "source": [
    "rfe_predictions = rfe_model.predict(X_test)"
   ]
  },
  {
   "cell_type": "code",
   "execution_count": 1364,
   "metadata": {},
   "outputs": [
    {
     "name": "stdout",
     "output_type": "stream",
     "text": [
      "0.8411111111111111\n"
     ]
    }
   ],
   "source": [
    "print(accuracy_score(y_test, rfe_predictions))"
   ]
  },
  {
   "cell_type": "code",
   "execution_count": 1365,
   "metadata": {},
   "outputs": [
    {
     "name": "stdout",
     "output_type": "stream",
     "text": [
      "[False  True False  True  True  True  True False False  True False  True\n",
      "  True False False  True False]\n",
      "[7 1 4 1 1 1 1 8 9 1 2 1 1 5 3 1 6]\n",
      "Index(['key', 'energy', 'liveliness', 'tempo', 'speechiness', 'acousticness',\n",
      "       'instrumentalness', 'time_signature', 'duration', 'loudness', 'valence',\n",
      "       'danceability', 'mode', 'time_signature_confidence', 'tempo_confidence',\n",
      "       'key_confidence', 'mode_confidence'],\n",
      "      dtype='object')\n",
      "0.8461111111111111\n"
     ]
    }
   ],
   "source": [
    "# testing 5 features\n",
    "rfe_model_5 = RFE(rfc_rfe, n_features_to_select=5)\n",
    "rfe_model_5 = rfe_model.fit(X_train, y_train)\n",
    "print(rfe_model_5.support_)\n",
    "print(rfe_model_5.ranking_)\n",
    "print(df_features.columns)\n",
    "rfe_predictions_5 = rfe_model_5.predict(X_test)\n",
    "print(accuracy_score(y_test, rfe_predictions_5))"
   ]
  },
  {
   "cell_type": "markdown",
   "metadata": {},
   "source": [
    "## RFC Optimized"
   ]
  },
  {
   "cell_type": "code",
   "execution_count": 1409,
   "metadata": {},
   "outputs": [],
   "source": [
    "rfc_optimized = RandomForestClassifier(n_estimators=100, min_samples_split=4, max_features='sqrt')"
   ]
  },
  {
   "cell_type": "code",
   "execution_count": 1403,
   "metadata": {},
   "outputs": [],
   "source": [
    "rfc_empty = RandomForestClassifier()"
   ]
  },
  {
   "cell_type": "code",
   "execution_count": 1404,
   "metadata": {},
   "outputs": [],
   "source": [
    "rfc_selector = SelectFromModel(rfc_empty)\n",
    "X_new_rfc = rfc_selector.fit_transform(X, y)"
   ]
  },
  {
   "cell_type": "code",
   "execution_count": 1405,
   "metadata": {},
   "outputs": [
    {
     "data": {
      "text/plain": [
       "(6000, 7)"
      ]
     },
     "execution_count": 1405,
     "metadata": {},
     "output_type": "execute_result"
    }
   ],
   "source": [
    "X_new_rfc.shape"
   ]
  },
  {
   "cell_type": "code",
   "execution_count": 1406,
   "metadata": {},
   "outputs": [
    {
     "data": {
      "text/plain": [
       "['energy',\n",
       " 'tempo',\n",
       " 'speechiness',\n",
       " 'acousticness',\n",
       " 'loudness',\n",
       " 'valence',\n",
       " 'mode']"
      ]
     },
     "execution_count": 1406,
     "metadata": {},
     "output_type": "execute_result"
    }
   ],
   "source": [
    "df_features.columns[rfc_selector.get_support(indices=True)].tolist()"
   ]
  },
  {
   "cell_type": "code",
   "execution_count": 1407,
   "metadata": {},
   "outputs": [],
   "source": [
    "X = X_new_rfc\n",
    "y = df_labels\n",
    "\n",
    "X_train, X_test, y_train, y_test = train_test_split(X, y, test_size=0.3, random_state=101)"
   ]
  },
  {
   "cell_type": "code",
   "execution_count": 1408,
   "metadata": {},
   "outputs": [
    {
     "name": "stdout",
     "output_type": "stream",
     "text": [
      "[[360   8  37  32]\n",
      " [  9 412   9  25]\n",
      " [ 35   9 397  14]\n",
      " [ 29  48  10 366]]\n",
      "----------------------\n",
      "             precision    recall  f1-score   support\n",
      "\n",
      "      dance       0.83      0.82      0.83       437\n",
      "       jazz       0.86      0.91      0.88       455\n",
      "        rap       0.88      0.87      0.87       455\n",
      "       rock       0.84      0.81      0.82       453\n",
      "\n",
      "avg / total       0.85      0.85      0.85      1800\n",
      "\n"
     ]
    }
   ],
   "source": [
    "rfc_optimized.fit(X_train, y_train)\n",
    "rfc_op_predictions = rfc_optimized.predict(X_test)\n",
    "np.round(accuracy_score(y_test, rfc_op_predictions), decimals=3)\n",
    "print(confusion_matrix(y_test, rfc_op_predictions))\n",
    "print('----------------------')\n",
    "print(classification_report(list(y_test), list(rfc_op_predictions)))"
   ]
  },
  {
   "cell_type": "markdown",
   "metadata": {},
   "source": [
    "## Analysis: \n",
    "    Random Forest Classifer — best and optimized yield similar accuracy score, because the accuracy is pretty consistent throughout the top 7-14 features with around 85 - 86% accuracy. But both are significantly better than the original RFC classifier. Top 7 features being: 'energy', 'tempo', 'speechiness', 'acousticness', 'loudness', 'valence', and 'mode'. "
   ]
  },
  {
   "cell_type": "markdown",
   "metadata": {},
   "source": [
    "# LOGISTIC REGRESSION"
   ]
  },
  {
   "cell_type": "code",
   "execution_count": 1277,
   "metadata": {},
   "outputs": [],
   "source": [
    "from sklearn.linear_model import LogisticRegression"
   ]
  },
  {
   "cell_type": "markdown",
   "metadata": {},
   "source": [
    "### Original"
   ]
  },
  {
   "cell_type": "code",
   "execution_count": 1412,
   "metadata": {},
   "outputs": [],
   "source": [
    "logreg = LogisticRegression()\n",
    "LR_original = LogisticRegression(solver='saga', multi_class='multinomial')"
   ]
  },
  {
   "cell_type": "code",
   "execution_count": 1413,
   "metadata": {},
   "outputs": [],
   "source": [
    "X = df_features_final\n",
    "y = df_labels\n",
    "\n",
    "X_train, X_test, y_train, y_test = train_test_split(X, y, test_size=0.3, random_state=101)"
   ]
  },
  {
   "cell_type": "code",
   "execution_count": 1414,
   "metadata": {},
   "outputs": [],
   "source": [
    "LR_original = LR_original.fit(X_train, y_train)"
   ]
  },
  {
   "cell_type": "code",
   "execution_count": 1415,
   "metadata": {},
   "outputs": [],
   "source": [
    "LR_og_pred = LR_original.predict(X_test)"
   ]
  },
  {
   "cell_type": "code",
   "execution_count": 1416,
   "metadata": {},
   "outputs": [
    {
     "name": "stdout",
     "output_type": "stream",
     "text": [
      "[[321  11  56  49]\n",
      " [ 17 393  13  32]\n",
      " [ 64  16 356  19]\n",
      " [ 42  56  18 337]]\n",
      "----------------------\n",
      "             precision    recall  f1-score   support\n",
      "\n",
      "      dance       0.72      0.73      0.73       437\n",
      "       jazz       0.83      0.86      0.84       455\n",
      "        rap       0.80      0.78      0.79       455\n",
      "       rock       0.77      0.74      0.76       453\n",
      "\n",
      "avg / total       0.78      0.78      0.78      1800\n",
      "\n"
     ]
    }
   ],
   "source": [
    "print(confusion_matrix(y_test, LR_og_pred))\n",
    "print('----------------------')\n",
    "print(classification_report(list(y_test), list(LR_og_pred)))"
   ]
  },
  {
   "cell_type": "markdown",
   "metadata": {},
   "source": [
    "# LR - Grid Search CV"
   ]
  },
  {
   "cell_type": "code",
   "execution_count": 1417,
   "metadata": {},
   "outputs": [],
   "source": [
    "LR_param_grid = {'solver': ['newton-cg', 'sag', 'saga', 'lbfgs'], 'multi_class': ['ovr', 'multinomial']}"
   ]
  },
  {
   "cell_type": "code",
   "execution_count": 1418,
   "metadata": {},
   "outputs": [],
   "source": [
    "LR_grid = GridSearchCV(logreg, LR_param_grid, verbose=3)"
   ]
  },
  {
   "cell_type": "code",
   "execution_count": 1419,
   "metadata": {
    "scrolled": true
   },
   "outputs": [
    {
     "name": "stdout",
     "output_type": "stream",
     "text": [
      "Fitting 3 folds for each of 8 candidates, totalling 24 fits\n",
      "[CV] multi_class=ovr, solver=newton-cg ...............................\n",
      "[CV]  multi_class=ovr, solver=newton-cg, score=0.7781740370898717, total=   0.1s\n",
      "[CV] multi_class=ovr, solver=newton-cg ...............................\n",
      "[CV]  multi_class=ovr, solver=newton-cg, score=0.7412437455325233, total=   0.1s\n",
      "[CV] multi_class=ovr, solver=newton-cg ...............................\n",
      "[CV]  multi_class=ovr, solver=newton-cg, score=0.7684060042887777, total=   0.1s\n",
      "[CV] multi_class=ovr, solver=sag .....................................\n"
     ]
    },
    {
     "name": "stderr",
     "output_type": "stream",
     "text": [
      "[Parallel(n_jobs=1)]: Done   1 out of   1 | elapsed:    0.1s remaining:    0.0s\n",
      "[Parallel(n_jobs=1)]: Done   2 out of   2 | elapsed:    0.1s remaining:    0.0s\n"
     ]
    },
    {
     "name": "stdout",
     "output_type": "stream",
     "text": [
      "[CV]  multi_class=ovr, solver=sag, score=0.7781740370898717, total=   0.1s\n",
      "[CV] multi_class=ovr, solver=sag .....................................\n",
      "[CV]  multi_class=ovr, solver=sag, score=0.7412437455325233, total=   0.1s\n",
      "[CV] multi_class=ovr, solver=sag .....................................\n",
      "[CV]  multi_class=ovr, solver=sag, score=0.7684060042887777, total=   0.1s\n",
      "[CV] multi_class=ovr, solver=saga ....................................\n",
      "[CV]  multi_class=ovr, solver=saga, score=0.7781740370898717, total=   0.1s\n",
      "[CV] multi_class=ovr, solver=saga ....................................\n",
      "[CV]  multi_class=ovr, solver=saga, score=0.7412437455325233, total=   0.1s\n",
      "[CV] multi_class=ovr, solver=saga ....................................\n",
      "[CV]  multi_class=ovr, solver=saga, score=0.7684060042887777, total=   0.1s\n",
      "[CV] multi_class=ovr, solver=lbfgs ...................................\n",
      "[CV]  multi_class=ovr, solver=lbfgs, score=0.7781740370898717, total=   0.0s\n",
      "[CV] multi_class=ovr, solver=lbfgs ...................................\n",
      "[CV]  multi_class=ovr, solver=lbfgs, score=0.7412437455325233, total=   0.0s\n",
      "[CV] multi_class=ovr, solver=lbfgs ...................................\n",
      "[CV]  multi_class=ovr, solver=lbfgs, score=0.7684060042887777, total=   0.0s\n",
      "[CV] multi_class=multinomial, solver=newton-cg .......................\n",
      "[CV]  multi_class=multinomial, solver=newton-cg, score=0.7788873038516405, total=   0.1s\n",
      "[CV] multi_class=multinomial, solver=newton-cg .......................\n",
      "[CV]  multi_class=multinomial, solver=newton-cg, score=0.7362401715511079, total=   0.1s\n",
      "[CV] multi_class=multinomial, solver=newton-cg .......................\n",
      "[CV]  multi_class=multinomial, solver=newton-cg, score=0.771265189421015, total=   0.1s\n",
      "[CV] multi_class=multinomial, solver=sag .............................\n",
      "[CV]  multi_class=multinomial, solver=sag, score=0.7788873038516405, total=   0.1s\n",
      "[CV] multi_class=multinomial, solver=sag .............................\n",
      "[CV]  multi_class=multinomial, solver=sag, score=0.7362401715511079, total=   0.1s\n",
      "[CV] multi_class=multinomial, solver=sag .............................\n",
      "[CV]  multi_class=multinomial, solver=sag, score=0.771265189421015, total=   0.1s\n",
      "[CV] multi_class=multinomial, solver=saga ............................\n",
      "[CV]  multi_class=multinomial, solver=saga, score=0.7788873038516405, total=   0.1s\n",
      "[CV] multi_class=multinomial, solver=saga ............................\n",
      "[CV]  multi_class=multinomial, solver=saga, score=0.7362401715511079, total=   0.1s\n",
      "[CV] multi_class=multinomial, solver=saga ............................\n",
      "[CV]  multi_class=multinomial, solver=saga, score=0.771265189421015, total=   0.1s\n",
      "[CV] multi_class=multinomial, solver=lbfgs ...........................\n",
      "[CV]  multi_class=multinomial, solver=lbfgs, score=0.7788873038516405, total=   0.0s\n",
      "[CV] multi_class=multinomial, solver=lbfgs ...........................\n",
      "[CV]  multi_class=multinomial, solver=lbfgs, score=0.7362401715511079, total=   0.0s\n",
      "[CV] multi_class=multinomial, solver=lbfgs ...........................\n",
      "[CV]  multi_class=multinomial, solver=lbfgs, score=0.771265189421015, total=   0.0s\n"
     ]
    },
    {
     "name": "stderr",
     "output_type": "stream",
     "text": [
      "[Parallel(n_jobs=1)]: Done  24 out of  24 | elapsed:    1.6s finished\n"
     ]
    },
    {
     "data": {
      "text/plain": [
       "GridSearchCV(cv=None, error_score='raise',\n",
       "       estimator=LogisticRegression(C=1.0, class_weight=None, dual=False, fit_intercept=True,\n",
       "          intercept_scaling=1, max_iter=100, multi_class='ovr', n_jobs=1,\n",
       "          penalty='l2', random_state=None, solver='liblinear', tol=0.0001,\n",
       "          verbose=0, warm_start=False),\n",
       "       fit_params=None, iid=True, n_jobs=1,\n",
       "       param_grid={'solver': ['newton-cg', 'sag', 'saga', 'lbfgs'], 'multi_class': ['ovr', 'multinomial']},\n",
       "       pre_dispatch='2*n_jobs', refit=True, return_train_score='warn',\n",
       "       scoring=None, verbose=3)"
      ]
     },
     "execution_count": 1419,
     "metadata": {},
     "output_type": "execute_result"
    }
   ],
   "source": [
    "LR_grid.fit(X_train, y_train)"
   ]
  },
  {
   "cell_type": "code",
   "execution_count": 1420,
   "metadata": {},
   "outputs": [
    {
     "data": {
      "text/plain": [
       "{'multi_class': 'ovr', 'solver': 'newton-cg'}"
      ]
     },
     "execution_count": 1420,
     "metadata": {},
     "output_type": "execute_result"
    }
   ],
   "source": [
    "LR_grid.best_params_"
   ]
  },
  {
   "cell_type": "markdown",
   "metadata": {},
   "source": [
    "### Logistic Regression - Best"
   ]
  },
  {
   "cell_type": "code",
   "execution_count": 1287,
   "metadata": {},
   "outputs": [
    {
     "data": {
      "text/plain": [
       "LogisticRegression(C=1.0, class_weight=None, dual=False, fit_intercept=True,\n",
       "          intercept_scaling=1, max_iter=100, multi_class='multinomial',\n",
       "          n_jobs=1, penalty='l2', random_state=None, solver='newton-cg',\n",
       "          tol=0.0001, verbose=0, warm_start=False)"
      ]
     },
     "execution_count": 1287,
     "metadata": {},
     "output_type": "execute_result"
    }
   ],
   "source": [
    "LR_best = LogisticRegression(solver='newton-cg', multi_class='multinomial')\n",
    "LR_best.fit(X_train, y_train)"
   ]
  },
  {
   "cell_type": "code",
   "execution_count": 1288,
   "metadata": {},
   "outputs": [],
   "source": [
    "LR_best_pred = LR_best.predict(X_test)"
   ]
  },
  {
   "cell_type": "code",
   "execution_count": 1289,
   "metadata": {},
   "outputs": [
    {
     "data": {
      "text/plain": [
       "0.782"
      ]
     },
     "execution_count": 1289,
     "metadata": {},
     "output_type": "execute_result"
    }
   ],
   "source": [
    "np.round(accuracy_score(y_test, LR_best_pred), decimals=3)"
   ]
  },
  {
   "cell_type": "code",
   "execution_count": 1290,
   "metadata": {},
   "outputs": [
    {
     "name": "stdout",
     "output_type": "stream",
     "text": [
      "[[321  11  56  49]\n",
      " [ 17 393  13  32]\n",
      " [ 64  16 356  19]\n",
      " [ 42  56  18 337]]\n",
      "             precision    recall  f1-score   support\n",
      "\n",
      "      dance       0.72      0.73      0.73       437\n",
      "       jazz       0.83      0.86      0.84       455\n",
      "        rap       0.80      0.78      0.79       455\n",
      "       rock       0.77      0.74      0.76       453\n",
      "\n",
      "avg / total       0.78      0.78      0.78      1800\n",
      "\n"
     ]
    }
   ],
   "source": [
    "print(confusion_matrix(y_test, LR_best_pred))\n",
    "print(classification_report(list(y_test), list(LR_best_pred)))"
   ]
  },
  {
   "cell_type": "markdown",
   "metadata": {},
   "source": [
    "### Selecting Best Features"
   ]
  },
  {
   "cell_type": "code",
   "execution_count": 1421,
   "metadata": {},
   "outputs": [],
   "source": [
    "logreg_selector = SelectFromModel(LR_original, prefit=True)"
   ]
  },
  {
   "cell_type": "code",
   "execution_count": 1422,
   "metadata": {},
   "outputs": [],
   "source": [
    "X_new_logreg = logreg_selector.transform(X)"
   ]
  },
  {
   "cell_type": "code",
   "execution_count": 1423,
   "metadata": {},
   "outputs": [
    {
     "data": {
      "text/plain": [
       "(6000, 7)"
      ]
     },
     "execution_count": 1423,
     "metadata": {},
     "output_type": "execute_result"
    }
   ],
   "source": [
    "X_new_logreg.shape"
   ]
  },
  {
   "cell_type": "code",
   "execution_count": 1424,
   "metadata": {},
   "outputs": [
    {
     "data": {
      "text/plain": [
       "['energy',\n",
       " 'speechiness',\n",
       " 'acousticness',\n",
       " 'valence',\n",
       " 'danceability',\n",
       " 'mode',\n",
       " 'key_confidence']"
      ]
     },
     "execution_count": 1424,
     "metadata": {},
     "output_type": "execute_result"
    }
   ],
   "source": [
    "df_features.columns[logreg_selector.get_support(indices=True)].tolist()"
   ]
  },
  {
   "cell_type": "markdown",
   "metadata": {},
   "source": [
    "### LR - RFE"
   ]
  },
  {
   "cell_type": "code",
   "execution_count": 1425,
   "metadata": {},
   "outputs": [],
   "source": [
    "rfe_lr = RFE(logreg, n_features_to_select=5)"
   ]
  },
  {
   "cell_type": "code",
   "execution_count": 1426,
   "metadata": {},
   "outputs": [],
   "source": [
    "rfe_lr = rfe_lr.fit(X_train, y_train)"
   ]
  },
  {
   "cell_type": "code",
   "execution_count": 1427,
   "metadata": {},
   "outputs": [
    {
     "name": "stdout",
     "output_type": "stream",
     "text": [
      "[False  True False False  True  True  True False False False False False\n",
      "  True False False False False]\n"
     ]
    }
   ],
   "source": [
    "print(rfe_lr.support_)\n"
   ]
  },
  {
   "cell_type": "code",
   "execution_count": 1428,
   "metadata": {},
   "outputs": [
    {
     "name": "stdout",
     "output_type": "stream",
     "text": [
      "[13  1 11  7  1  1  1  8 12  4  5  3  1  6 10  2  9]\n",
      "Index(['key', 'energy', 'liveliness', 'tempo', 'speechiness', 'acousticness',\n",
      "       'instrumentalness', 'time_signature', 'duration', 'loudness', 'valence',\n",
      "       'danceability', 'mode', 'time_signature_confidence', 'tempo_confidence',\n",
      "       'key_confidence', 'mode_confidence'],\n",
      "      dtype='object')\n"
     ]
    }
   ],
   "source": [
    "print(rfe_lr.ranking_)\n",
    "print(df_features.columns)"
   ]
  },
  {
   "cell_type": "code",
   "execution_count": 1429,
   "metadata": {},
   "outputs": [],
   "source": [
    "rfe_logreg_predictions = rfe_lr.predict(X_test)"
   ]
  },
  {
   "cell_type": "code",
   "execution_count": 1430,
   "metadata": {},
   "outputs": [
    {
     "name": "stdout",
     "output_type": "stream",
     "text": [
      "0.7305555555555555\n"
     ]
    }
   ],
   "source": [
    "print(accuracy_score(y_test, rfe_logreg_predictions))"
   ]
  },
  {
   "cell_type": "markdown",
   "metadata": {},
   "source": [
    "## Logistic Regression Optimized"
   ]
  },
  {
   "cell_type": "code",
   "execution_count": 1431,
   "metadata": {},
   "outputs": [],
   "source": [
    "logreg_optimized = LogisticRegression(solver='newton-cg', multi_class='multinomial')"
   ]
  },
  {
   "cell_type": "code",
   "execution_count": 1432,
   "metadata": {},
   "outputs": [],
   "source": [
    "X = X_new_logreg\n",
    "y = df_labels\n",
    "\n",
    "X_train, X_test, y_train, y_test = train_test_split(X, y, test_size=0.3, random_state=101)"
   ]
  },
  {
   "cell_type": "code",
   "execution_count": 1433,
   "metadata": {},
   "outputs": [
    {
     "name": "stdout",
     "output_type": "stream",
     "text": [
      "accuracy score:  0.745\n",
      "[[320   9  64  44]\n",
      " [ 11 383  13  48]\n",
      " [ 75  15 337  28]\n",
      " [ 60  79  13 301]]\n",
      "---------------------\n",
      "             precision    recall  f1-score   support\n",
      "\n",
      "      dance       0.69      0.73      0.71       437\n",
      "       jazz       0.79      0.84      0.81       455\n",
      "        rap       0.79      0.74      0.76       455\n",
      "       rock       0.71      0.66      0.69       453\n",
      "\n",
      "avg / total       0.75      0.74      0.74      1800\n",
      "\n"
     ]
    }
   ],
   "source": [
    "logreg_optimized.fit(X_train, y_train)\n",
    "logreg_op_pred = logreg_optimized.predict(X_test)\n",
    "print('accuracy score: ', np.round(accuracy_score(y_test, logreg_op_pred), decimals=3))\n",
    "print(confusion_matrix(y_test, logreg_op_pred))\n",
    "print('---------------------')\n",
    "print(classification_report(list(y_test), list(logreg_op_pred)))"
   ]
  },
  {
   "cell_type": "markdown",
   "metadata": {},
   "source": [
    "# Analysis: Logistic Regression"
   ]
  },
  {
   "cell_type": "markdown",
   "metadata": {},
   "source": [
    "Logistic regression original performed best with 78% accuracy. After best params were determined, accuracy went down. SelectFromModel method on Logistic Regression returned the top 57 features as 'energy', 'speechiness', 'acousticness', 'danceability', 'valence', 'key_confidence', 'mode'. When these features alone were used, accuracy was only 73%, probably because it was not big enough. "
   ]
  },
  {
   "cell_type": "code",
   "execution_count": null,
   "metadata": {},
   "outputs": [],
   "source": []
  }
 ],
 "metadata": {
  "kernelspec": {
   "display_name": "Python 3",
   "language": "python",
   "name": "python3"
  },
  "language_info": {
   "codemirror_mode": {
    "name": "ipython",
    "version": 3
   },
   "file_extension": ".py",
   "mimetype": "text/x-python",
   "name": "python",
   "nbconvert_exporter": "python",
   "pygments_lexer": "ipython3",
   "version": "3.6.4"
  }
 },
 "nbformat": 4,
 "nbformat_minor": 2
}
