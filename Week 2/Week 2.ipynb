{
 "cells": [
  {
   "cell_type": "code",
   "execution_count": 1204,
   "metadata": {},
   "outputs": [],
   "source": [
    "import pandas as pd"
   ]
  },
  {
   "cell_type": "code",
   "execution_count": 1205,
   "metadata": {},
   "outputs": [],
   "source": [
    "songs_dataset = pd.read_json('MasterSongList.json')"
   ]
  },
  {
   "cell_type": "code",
   "execution_count": 1206,
   "metadata": {},
   "outputs": [],
   "source": [
    "#checking\n",
    "#songs_dataset.head(10)"
   ]
  },
  {
   "cell_type": "code",
   "execution_count": 1207,
   "metadata": {},
   "outputs": [],
   "source": [
    "songs_dataset.loc[:, 'genres'] = songs_dataset['genres'].apply(''.join)\n",
    "\n",
    "def consolidateGenre(genre):\n",
    "    if (len(genre) > 0):\n",
    "        return genre.split(':')[0]\n",
    "    else:\n",
    "        return genre\n",
    "    \n",
    "songs_dataset.loc[:, 'genres'] = songs_dataset['genres'].apply(consolidateGenre)"
   ]
  },
  {
   "cell_type": "code",
   "execution_count": 1208,
   "metadata": {},
   "outputs": [],
   "source": [
    "#songs_dataset.head(10)"
   ]
  },
  {
   "cell_type": "code",
   "execution_count": 1209,
   "metadata": {},
   "outputs": [],
   "source": [
    "#songs_dataset.head(1).to_dict()"
   ]
  },
  {
   "cell_type": "code",
   "execution_count": 1210,
   "metadata": {},
   "outputs": [
    {
     "name": "stdout",
     "output_type": "stream",
     "text": [
      "(1973, 16)\n",
      "(2285, 16)\n",
      "(7174, 16)\n",
      "(2855, 16)\n"
     ]
    }
   ],
   "source": [
    "jazz_df = songs_dataset[(songs_dataset['genres'] == 'jazz') & (songs_dataset['yt_views'] > 1000)]\n",
    "print(jazz_df.shape)\n",
    "dance_df = songs_dataset[(songs_dataset['genres'] == 'dance') & (songs_dataset['yt_views'] > 1000)]\n",
    "print(dance_df.shape)\n",
    "rock_df = songs_dataset[(songs_dataset['genres'] == 'rock') & (songs_dataset['yt_views'] > 1000)]\n",
    "print(rock_df.shape)\n",
    "rap_df = songs_dataset[(songs_dataset['genres'] == 'rap') & (songs_dataset['yt_views'] > 1000)]\n",
    "print(rap_df.shape)"
   ]
  },
  {
   "cell_type": "code",
   "execution_count": 1211,
   "metadata": {},
   "outputs": [
    {
     "name": "stdout",
     "output_type": "stream",
     "text": [
      "(1973, 16)\n",
      "(1677, 17)\n"
     ]
    }
   ],
   "source": [
    "#consolidating jazz audio features\n",
    "\n",
    "jazz_df = songs_dataset[(songs_dataset['genres'] == 'jazz') & (songs_dataset['yt_views'] > 1000)]\n",
    "print(jazz_df.shape) #1973 rows\n",
    "\n",
    "jazzAFL = [] #AFL - audio_feature_list\n",
    "for audio_feature in jazz_df['audio_features']:\n",
    "    jazzAFL.append(audio_feature)\n",
    "\n",
    "audio_feature_headers = ['key', 'energy', 'liveliness', 'tempo', 'speechiness', 'acousticness', 'instrumentalness', 'time_signature', 'duration', 'loudness', 'valence', 'danceability', 'mode', 'time_signature_confidence', 'tempo_confidence', 'key_confidence', 'mode_confidence']\n",
    "\n",
    "jazz_AF = pd.DataFrame(jazzAFL, columns=audio_feature_headers).dropna() #AF - audio_features\n",
    "print(jazz_AF.dropna().shape) #1677 rows of jazz\n"
   ]
  },
  {
   "cell_type": "code",
   "execution_count": 1212,
   "metadata": {},
   "outputs": [],
   "source": [
    "jazz_AF['genres'] = jazz_df['genres']\n",
    "jazz_AF['genres'].fillna(value='jazz', inplace=True)"
   ]
  },
  {
   "cell_type": "code",
   "execution_count": 1213,
   "metadata": {},
   "outputs": [
    {
     "name": "stdout",
     "output_type": "stream",
     "text": [
      "(2285, 16)\n",
      "(1938, 17)\n"
     ]
    }
   ],
   "source": [
    "#consolidating dance audio features\n",
    "dance_df = songs_dataset[(songs_dataset['genres'] == 'dance') & (songs_dataset['yt_views'] > 1000)]\n",
    "print(dance_df.shape)\n",
    "\n",
    "danceAFL = []\n",
    "for audio_feature in dance_df['audio_features']:\n",
    "    danceAFL.append(audio_feature)\n",
    "    \n",
    "dance_AF = pd.DataFrame(danceAFL, columns=audio_feature_headers).dropna()\n",
    "print(dance_AF.shape) #1938 rows of dance"
   ]
  },
  {
   "cell_type": "code",
   "execution_count": 1214,
   "metadata": {},
   "outputs": [],
   "source": [
    "dance_AF['genres'] = dance_df['genres']\n",
    "dance_AF['genres'].fillna(value='dance', inplace=True)"
   ]
  },
  {
   "cell_type": "code",
   "execution_count": 1215,
   "metadata": {},
   "outputs": [
    {
     "name": "stdout",
     "output_type": "stream",
     "text": [
      "(7174, 16)\n",
      "(6245, 17)\n"
     ]
    }
   ],
   "source": [
    "#consolidating rock audio features\n",
    "\n",
    "rock_df = songs_dataset[(songs_dataset['genres'] == 'rock') & (songs_dataset['yt_views'] > 1000)]\n",
    "print(rock_df.shape)\n",
    "\n",
    "rockAFL = []\n",
    "for audio_feature in rock_df['audio_features']:\n",
    "    rockAFL.append(audio_feature)\n",
    "    \n",
    "rock_AF = pd.DataFrame(rockAFL, columns=audio_feature_headers).dropna()\n",
    "print(rock_AF.shape) #6245 rock songs"
   ]
  },
  {
   "cell_type": "code",
   "execution_count": 1216,
   "metadata": {},
   "outputs": [],
   "source": [
    "rock_AF['genres'] = rock_df['genres'] #adding genre column\n",
    "rock_AF['genres'].fillna(value='rock', inplace=True) "
   ]
  },
  {
   "cell_type": "code",
   "execution_count": 1217,
   "metadata": {},
   "outputs": [
    {
     "name": "stdout",
     "output_type": "stream",
     "text": [
      "(2855, 16)\n",
      "(2411, 17)\n"
     ]
    }
   ],
   "source": [
    "# consolidating rap audio features\n",
    "rap_df = songs_dataset[(songs_dataset['genres'] == 'rap') & (songs_dataset['yt_views'] > 1000)]\n",
    "print(rap_df.shape)\n",
    "\n",
    "rapAFL = []\n",
    "for audio_feature in rap_df['audio_features']:\n",
    "    rapAFL.append(audio_feature)\n",
    "    \n",
    "rap_AF = pd.DataFrame(rapAFL, columns=audio_feature_headers).dropna()\n",
    "print(rap_AF.shape) #2411 rap songs"
   ]
  },
  {
   "cell_type": "code",
   "execution_count": 1218,
   "metadata": {},
   "outputs": [],
   "source": [
    "rap_AF['genres'] = rap_df['genres'] #when i do this, many go NaN\n",
    "rap_AF['genres'].fillna(value='rap', inplace=True)\n",
    "#rap_AF"
   ]
  },
  {
   "cell_type": "markdown",
   "metadata": {},
   "source": [
    "## Consolidating & Balancing"
   ]
  },
  {
   "cell_type": "code",
   "execution_count": 1219,
   "metadata": {},
   "outputs": [],
   "source": [
    "#using below as guide\n",
    "#rap_df_features2 = df_features2[df_features2['genres'] == 'rap'].sample(n=1075, replace=True)\n",
    "#consolidatedRapCountry = consolidatedRapCountry[(songs_dataset['genres'] == 'rap') | (songs_dataset['genres'] == 'country')]\n",
    "#jazz_features.fillna(anime_dataset['rating'].median(), inplace=True)"
   ]
  },
  {
   "cell_type": "code",
   "execution_count": 1220,
   "metadata": {},
   "outputs": [
    {
     "data": {
      "text/plain": [
       "(6000, 18)"
      ]
     },
     "execution_count": 1220,
     "metadata": {},
     "output_type": "execute_result"
    }
   ],
   "source": [
    "#consolidating all the features picking 1500 from each\n",
    "consolidatedSongFeatures = pd.concat((jazz_AF.sample(n=1500, replace=True), dance_AF.sample(n=1500, replace=True), rock_AF.sample(n=1500, replace=True), rap_AF.sample(n=1500, replace=True)), axis=0)\n",
    "consolidatedSongFeatures.shape\n",
    "#consolidatedSongFeatures"
   ]
  },
  {
   "cell_type": "code",
   "execution_count": 1221,
   "metadata": {},
   "outputs": [],
   "source": [
    "df_labels = consolidatedSongFeatures['genres']\n",
    "df_features = consolidatedSongFeatures.drop('genres', axis=1)\n",
    "#df_features"
   ]
  },
  {
   "cell_type": "code",
   "execution_count": 1222,
   "metadata": {},
   "outputs": [],
   "source": [
    "from sklearn.preprocessing import StandardScaler\n",
    "standard_scaler = StandardScaler()\n",
    "df_features_final = standard_scaler.fit_transform(df_features)"
   ]
  },
  {
   "cell_type": "markdown",
   "metadata": {},
   "source": [
    "# Train Test Split"
   ]
  },
  {
   "cell_type": "code",
   "execution_count": 1223,
   "metadata": {},
   "outputs": [],
   "source": [
    "from sklearn.cross_validation import train_test_split\n",
    "X = df_features_final\n",
    "y = df_labels\n",
    "\n",
    "X_train, X_test, y_train, y_test = train_test_split(X, y, test_size=0.3, random_state=101)\n"
   ]
  },
  {
   "cell_type": "markdown",
   "metadata": {},
   "source": [
    "# Support Vector Machine"
   ]
  },
  {
   "cell_type": "code",
   "execution_count": 1224,
   "metadata": {},
   "outputs": [],
   "source": [
    "from sklearn.svm import SVC"
   ]
  },
  {
   "cell_type": "code",
   "execution_count": 1225,
   "metadata": {},
   "outputs": [],
   "source": [
    "svc_original = SVC(C=1, gamma=1)"
   ]
  },
  {
   "cell_type": "code",
   "execution_count": 1226,
   "metadata": {},
   "outputs": [],
   "source": [
    "svc_original.fit(X_train, y_train)\n",
    "svc_predictions = svc_original.predict(X_test)"
   ]
  },
  {
   "cell_type": "code",
   "execution_count": 1227,
   "metadata": {},
   "outputs": [
    {
     "name": "stdout",
     "output_type": "stream",
     "text": [
      "[[270   0  15 152]\n",
      " [  4 229   1 221]\n",
      " [ 10   0 292 153]\n",
      " [ 19   5   4 425]]\n",
      "             precision    recall  f1-score   support\n",
      "\n",
      "      dance       0.89      0.62      0.73       437\n",
      "       jazz       0.98      0.50      0.66       455\n",
      "        rap       0.94      0.64      0.76       455\n",
      "       rock       0.45      0.94      0.61       453\n",
      "\n",
      "avg / total       0.81      0.68      0.69      1800\n",
      "\n"
     ]
    }
   ],
   "source": [
    "from sklearn.metrics import confusion_matrix, classification_report\n",
    "print(confusion_matrix(y_test, svc_predictions))\n",
    "print(classification_report(list(y_test), list(svc_predictions)))"
   ]
  },
  {
   "cell_type": "markdown",
   "metadata": {},
   "source": [
    "### SVM - GridSearchCV"
   ]
  },
  {
   "cell_type": "code",
   "execution_count": 1228,
   "metadata": {},
   "outputs": [],
   "source": [
    "from sklearn.model_selection import GridSearchCV\n",
    "param_grid = {'C': [0.1,1, 10], 'gamma': [1,0.1,0.01,0.001]}\n"
   ]
  },
  {
   "cell_type": "code",
   "execution_count": 1229,
   "metadata": {},
   "outputs": [
    {
     "name": "stdout",
     "output_type": "stream",
     "text": [
      "Fitting 3 folds for each of 12 candidates, totalling 36 fits\n",
      "[CV] C=0.1, gamma=1 ..................................................\n",
      "[CV] ........ C=0.1, gamma=1, score=0.25320970042796004, total=   0.5s\n",
      "[CV] C=0.1, gamma=1 ..................................................\n"
     ]
    },
    {
     "name": "stderr",
     "output_type": "stream",
     "text": [
      "[Parallel(n_jobs=1)]: Done   1 out of   1 | elapsed:    0.8s remaining:    0.0s\n"
     ]
    },
    {
     "name": "stdout",
     "output_type": "stream",
     "text": [
      "[CV] ........ C=0.1, gamma=1, score=0.25303788420300216, total=   0.5s\n",
      "[CV] C=0.1, gamma=1 ..................................................\n"
     ]
    },
    {
     "name": "stderr",
     "output_type": "stream",
     "text": [
      "[Parallel(n_jobs=1)]: Done   2 out of   2 | elapsed:    1.5s remaining:    0.0s\n"
     ]
    },
    {
     "name": "stdout",
     "output_type": "stream",
     "text": [
      "[CV] ........ C=0.1, gamma=1, score=0.25303788420300216, total=   0.5s\n",
      "[CV] C=0.1, gamma=0.1 ................................................\n",
      "[CV] ....... C=0.1, gamma=0.1, score=0.7617689015691869, total=   0.3s\n",
      "[CV] C=0.1, gamma=0.1 ................................................\n",
      "[CV] ....... C=0.1, gamma=0.1, score=0.7405289492494639, total=   0.3s\n",
      "[CV] C=0.1, gamma=0.1 ................................................\n",
      "[CV] ....... C=0.1, gamma=0.1, score=0.7619728377412437, total=   0.3s\n",
      "[CV] C=0.1, gamma=0.01 ...............................................\n",
      "[CV] ...... C=0.1, gamma=0.01, score=0.7738944365192582, total=   0.3s\n",
      "[CV] C=0.1, gamma=0.01 ...............................................\n",
      "[CV] ...... C=0.1, gamma=0.01, score=0.7355253752680486, total=   0.3s\n",
      "[CV] C=0.1, gamma=0.01 ...............................................\n",
      "[CV] ...... C=0.1, gamma=0.01, score=0.7605432451751251, total=   0.3s\n",
      "[CV] C=0.1, gamma=0.001 ..............................................\n",
      "[CV] ..... C=0.1, gamma=0.001, score=0.6626248216833096, total=   0.5s\n",
      "[CV] C=0.1, gamma=0.001 ..............................................\n",
      "[CV] ..... C=0.1, gamma=0.001, score=0.6661901358112938, total=   0.5s\n",
      "[CV] C=0.1, gamma=0.001 ..............................................\n",
      "[CV] ..... C=0.1, gamma=0.001, score=0.6547533952823446, total=   0.5s\n",
      "[CV] C=1, gamma=1 ....................................................\n",
      "[CV] ........... C=1, gamma=1, score=0.5984308131241084, total=   0.6s\n",
      "[CV] C=1, gamma=1 ....................................................\n",
      "[CV] ........... C=1, gamma=1, score=0.6275911365260901, total=   0.6s\n",
      "[CV] C=1, gamma=1 ....................................................\n",
      "[CV] ........... C=1, gamma=1, score=0.6004288777698356, total=   0.6s\n",
      "[CV] C=1, gamma=0.1 ..................................................\n",
      "[CV] ......... C=1, gamma=0.1, score=0.7952924393723253, total=   0.3s\n",
      "[CV] C=1, gamma=0.1 ..................................................\n",
      "[CV] .......... C=1, gamma=0.1, score=0.781987133666905, total=   0.3s\n",
      "[CV] C=1, gamma=0.1 ..................................................\n",
      "[CV] .......... C=1, gamma=0.1, score=0.806290207290922, total=   0.3s\n",
      "[CV] C=1, gamma=0.01 .................................................\n",
      "[CV] ........ C=1, gamma=0.01, score=0.7817403708987162, total=   0.2s\n",
      "[CV] C=1, gamma=0.01 .................................................\n",
      "[CV] ........ C=1, gamma=0.01, score=0.7505360972122945, total=   0.2s\n",
      "[CV] C=1, gamma=0.01 .................................................\n",
      "[CV] ........ C=1, gamma=0.01, score=0.7719799857040743, total=   0.2s\n",
      "[CV] C=1, gamma=0.001 ................................................\n",
      "[CV] ........ C=1, gamma=0.001, score=0.776034236804565, total=   0.3s\n",
      "[CV] C=1, gamma=0.001 ................................................\n",
      "[CV] ....... C=1, gamma=0.001, score=0.7390993566833453, total=   0.3s\n",
      "[CV] C=1, gamma=0.001 ................................................\n",
      "[CV] ....... C=1, gamma=0.001, score=0.7612580414581844, total=   0.3s\n",
      "[CV] C=10, gamma=1 ...................................................\n",
      "[CV] .......... C=10, gamma=1, score=0.6226818830242511, total=   0.6s\n",
      "[CV] C=10, gamma=1 ...................................................\n",
      "[CV] ........... C=10, gamma=1, score=0.636168691922802, total=   0.6s\n",
      "[CV] C=10, gamma=1 ...................................................\n",
      "[CV] .......... C=10, gamma=1, score=0.6168691922802001, total=   0.6s\n",
      "[CV] C=10, gamma=0.1 .................................................\n",
      "[CV] ......... C=10, gamma=0.1, score=0.797432239657632, total=   0.3s\n",
      "[CV] C=10, gamma=0.1 .................................................\n",
      "[CV] ........ C=10, gamma=0.1, score=0.7912794853466762, total=   0.3s\n",
      "[CV] C=10, gamma=0.1 .................................................\n",
      "[CV] ........ C=10, gamma=0.1, score=0.8162973552537527, total=   0.3s\n",
      "[CV] C=10, gamma=0.01 ................................................\n",
      "[CV] ....... C=10, gamma=0.01, score=0.7924393723252496, total=   0.2s\n",
      "[CV] C=10, gamma=0.01 ................................................\n",
      "[CV] ....... C=10, gamma=0.01, score=0.7634024303073624, total=   0.2s\n",
      "[CV] C=10, gamma=0.01 ................................................\n",
      "[CV] ....... C=10, gamma=0.01, score=0.7955682630450321, total=   0.2s\n",
      "[CV] C=10, gamma=0.001 ...............................................\n",
      "[CV] ....... C=10, gamma=0.001, score=0.775320970042796, total=   0.2s\n",
      "[CV] C=10, gamma=0.001 ...............................................\n",
      "[CV] ...... C=10, gamma=0.001, score=0.7455325232308792, total=   0.2s\n",
      "[CV] C=10, gamma=0.001 ...............................................\n",
      "[CV] ...... C=10, gamma=0.001, score=0.7662616154395997, total=   0.2s\n"
     ]
    },
    {
     "name": "stderr",
     "output_type": "stream",
     "text": [
      "[Parallel(n_jobs=1)]: Done  36 out of  36 | elapsed:   19.7s finished\n"
     ]
    },
    {
     "data": {
      "text/plain": [
       "GridSearchCV(cv=None, error_score='raise',\n",
       "       estimator=SVC(C=1, cache_size=200, class_weight=None, coef0=0.0,\n",
       "  decision_function_shape='ovr', degree=3, gamma=1, kernel='rbf',\n",
       "  max_iter=-1, probability=False, random_state=None, shrinking=True,\n",
       "  tol=0.001, verbose=False),\n",
       "       fit_params=None, iid=True, n_jobs=1,\n",
       "       param_grid={'C': [0.1, 1, 10], 'gamma': [1, 0.1, 0.01, 0.001]},\n",
       "       pre_dispatch='2*n_jobs', refit=True, return_train_score='warn',\n",
       "       scoring=None, verbose=3)"
      ]
     },
     "execution_count": 1229,
     "metadata": {},
     "output_type": "execute_result"
    }
   ],
   "source": [
    "grid = GridSearchCV(svc_original, param_grid, verbose=3)\n",
    "grid.fit(X_train, y_train)"
   ]
  },
  {
   "cell_type": "code",
   "execution_count": 1230,
   "metadata": {},
   "outputs": [
    {
     "data": {
      "text/plain": [
       "{'C': 10, 'gamma': 0.1}"
      ]
     },
     "execution_count": 1230,
     "metadata": {},
     "output_type": "execute_result"
    }
   ],
   "source": [
    "grid.best_params_"
   ]
  },
  {
   "cell_type": "markdown",
   "metadata": {},
   "source": [
    "### Note: Make sure SVC has same C & gamma"
   ]
  },
  {
   "cell_type": "code",
   "execution_count": 1231,
   "metadata": {},
   "outputs": [
    {
     "name": "stdout",
     "output_type": "stream",
     "text": [
      "[[349  11  47  30]\n",
      " [  5 409   4  37]\n",
      " [ 36  15 389  15]\n",
      " [ 38  47  12 356]]\n",
      "             precision    recall  f1-score   support\n",
      "\n",
      "      dance       0.82      0.80      0.81       437\n",
      "       jazz       0.85      0.90      0.87       455\n",
      "        rap       0.86      0.85      0.86       455\n",
      "       rock       0.81      0.79      0.80       453\n",
      "\n",
      "avg / total       0.83      0.83      0.83      1800\n",
      "\n"
     ]
    }
   ],
   "source": [
    "svc_best = SVC(C=10, gamma=0.1)\n",
    "svc_best.fit(X_train, y_train)\n",
    "svc_predictions = svc_best.predict(X_test)\n",
    "print(confusion_matrix(y_test, svc_predictions))\n",
    "print(classification_report(list(y_test), list(svc_predictions)))"
   ]
  },
  {
   "cell_type": "markdown",
   "metadata": {},
   "source": [
    "## SVM - Select K Best"
   ]
  },
  {
   "cell_type": "code",
   "execution_count": 1232,
   "metadata": {},
   "outputs": [],
   "source": [
    "from sklearn.feature_selection import SelectKBest\n",
    "selector = SelectKBest(k=5)\n",
    "X_new = selector.fit_transform(X, y)"
   ]
  },
  {
   "cell_type": "code",
   "execution_count": 1233,
   "metadata": {},
   "outputs": [
    {
     "data": {
      "text/plain": [
       "(6000, 5)"
      ]
     },
     "execution_count": 1233,
     "metadata": {},
     "output_type": "execute_result"
    }
   ],
   "source": [
    "X_new.shape"
   ]
  },
  {
   "cell_type": "code",
   "execution_count": 1234,
   "metadata": {},
   "outputs": [
    {
     "data": {
      "text/plain": [
       "['energy', 'speechiness', 'acousticness', 'valence', 'mode']"
      ]
     },
     "execution_count": 1234,
     "metadata": {},
     "output_type": "execute_result"
    }
   ],
   "source": [
    "df_features.columns[selector.get_support(indices=True)].tolist()"
   ]
  },
  {
   "cell_type": "code",
   "execution_count": 1235,
   "metadata": {},
   "outputs": [],
   "source": [
    "X = X_new\n",
    "y = df_labels\n",
    "\n",
    "X_train, X_test, y_train, y_test = train_test_split(X, y, test_size=0.3, random_state=101)"
   ]
  },
  {
   "cell_type": "code",
   "execution_count": 1236,
   "metadata": {},
   "outputs": [
    {
     "name": "stdout",
     "output_type": "stream",
     "text": [
      "[[283  15  75  64]\n",
      " [ 17 390   9  39]\n",
      " [ 85  18 333  19]\n",
      " [ 54  84  10 305]]\n",
      "             precision    recall  f1-score   support\n",
      "\n",
      "      dance       0.64      0.65      0.65       437\n",
      "       jazz       0.77      0.86      0.81       455\n",
      "        rap       0.78      0.73      0.76       455\n",
      "       rock       0.71      0.67      0.69       453\n",
      "\n",
      "avg / total       0.73      0.73      0.73      1800\n",
      "\n"
     ]
    }
   ],
   "source": [
    "svc_optimized = SVC(C=1, gamma=0.1)\n",
    "svc_optimized.fit(X_train, y_train)\n",
    "svc_predictions = svc_optimized.predict(X_test)\n",
    "print(confusion_matrix(y_test, svc_predictions))\n",
    "print(classification_report(list(y_test), list(svc_predictions)))"
   ]
  },
  {
   "cell_type": "markdown",
   "metadata": {},
   "source": [
    "## Analysis:\n",
    "`svc_optimized` with the 5 best features is less accurate than `svc_best`, because more than 5 features is needed. "
   ]
  },
  {
   "cell_type": "markdown",
   "metadata": {},
   "source": [
    "# Random Forest Classifier"
   ]
  },
  {
   "cell_type": "code",
   "execution_count": 1237,
   "metadata": {},
   "outputs": [],
   "source": [
    "import numpy as np\n",
    "import matplotlib.pyplot as plt\n",
    "%matplotlib inline"
   ]
  },
  {
   "cell_type": "code",
   "execution_count": 1238,
   "metadata": {},
   "outputs": [],
   "source": [
    "from numpy import sort\n",
    "from sklearn.metrics import accuracy_score\n",
    "from sklearn.feature_selection import SelectFromModel"
   ]
  },
  {
   "cell_type": "code",
   "execution_count": 1239,
   "metadata": {},
   "outputs": [],
   "source": [
    "X = df_features_final\n",
    "y = df_labels\n",
    "\n",
    "X_train, X_test, y_train, y_test = train_test_split(X, y, test_size = 0.3, random_state = 101)"
   ]
  },
  {
   "cell_type": "code",
   "execution_count": 1240,
   "metadata": {},
   "outputs": [
    {
     "name": "stdout",
     "output_type": "stream",
     "text": [
      "(4200, 17)\n",
      "(1800, 17)\n",
      "(4200,)\n",
      "(1800,)\n"
     ]
    }
   ],
   "source": [
    "print(X_train.shape)\n",
    "print(X_test.shape)\n",
    "print(y_train.shape)\n",
    "print(y_test.shape)"
   ]
  },
  {
   "cell_type": "code",
   "execution_count": 1241,
   "metadata": {},
   "outputs": [
    {
     "data": {
      "text/plain": [
       "RandomForestClassifier(bootstrap=True, class_weight=None, criterion='gini',\n",
       "            max_depth=None, max_features='log2', max_leaf_nodes=None,\n",
       "            min_impurity_decrease=0.0, min_impurity_split=None,\n",
       "            min_samples_leaf=1, min_samples_split=2,\n",
       "            min_weight_fraction_leaf=0.0, n_estimators=5, n_jobs=1,\n",
       "            oob_score=False, random_state=None, verbose=0,\n",
       "            warm_start=False)"
      ]
     },
     "execution_count": 1241,
     "metadata": {},
     "output_type": "execute_result"
    }
   ],
   "source": [
    "from sklearn.ensemble import RandomForestClassifier\n",
    "rfc = RandomForestClassifier()\n",
    "rfc_original = RandomForestClassifier(n_estimators=5, min_samples_split=2, max_features='log2')\n",
    "rfc_original.fit(X_train, y_train)"
   ]
  },
  {
   "cell_type": "code",
   "execution_count": 1242,
   "metadata": {},
   "outputs": [],
   "source": [
    "rfc_predictions = rfc_original.predict(X_test)"
   ]
  },
  {
   "cell_type": "code",
   "execution_count": 1243,
   "metadata": {},
   "outputs": [
    {
     "data": {
      "text/plain": [
       "0.81"
      ]
     },
     "execution_count": 1243,
     "metadata": {},
     "output_type": "execute_result"
    }
   ],
   "source": [
    "np.round(accuracy_score(y_test, rfc_predictions), decimals=2)"
   ]
  },
  {
   "cell_type": "markdown",
   "metadata": {},
   "source": [
    "### Random Forest Classifier Original\n",
    "Confusion Matrix & Classification Report"
   ]
  },
  {
   "cell_type": "code",
   "execution_count": 1244,
   "metadata": {},
   "outputs": [
    {
     "name": "stdout",
     "output_type": "stream",
     "text": [
      "[[359   9  41  28]\n",
      " [ 23 390  11  31]\n",
      " [ 47   7 382  19]\n",
      " [ 46  59  18 330]]\n",
      "             precision    recall  f1-score   support\n",
      "\n",
      "      dance       0.76      0.82      0.79       437\n",
      "       jazz       0.84      0.86      0.85       455\n",
      "        rap       0.85      0.84      0.84       455\n",
      "       rock       0.81      0.73      0.77       453\n",
      "\n",
      "avg / total       0.81      0.81      0.81      1800\n",
      "\n"
     ]
    }
   ],
   "source": [
    "print(confusion_matrix(y_test, rfc_predictions))\n",
    "print(classification_report(list(y_test), list(rfc_predictions)))"
   ]
  },
  {
   "cell_type": "markdown",
   "metadata": {},
   "source": [
    "## RFC - GridSearchCV\n",
    "Trying to determine which parameters are the best"
   ]
  },
  {
   "cell_type": "code",
   "execution_count": 1245,
   "metadata": {},
   "outputs": [],
   "source": [
    "rfc = RandomForestClassifier()\n",
    "\n",
    "rfc_param_grid = {'n_estimators': [5, 10, 100], 'min_samples_split': [2, 3, 4, 5, 10], 'max_features': ['sqrt', 'log2', 'auto']}"
   ]
  },
  {
   "cell_type": "code",
   "execution_count": 1246,
   "metadata": {},
   "outputs": [
    {
     "name": "stdout",
     "output_type": "stream",
     "text": [
      "Fitting 3 folds for each of 45 candidates, totalling 135 fits\n",
      "[CV] max_features=sqrt, min_samples_split=2, n_estimators=5 ..........\n",
      "[CV]  max_features=sqrt, min_samples_split=2, n_estimators=5, score=0.7724679029957204, total=   0.0s\n",
      "[CV] max_features=sqrt, min_samples_split=2, n_estimators=5 ..........\n",
      "[CV]  max_features=sqrt, min_samples_split=2, n_estimators=5, score=0.7655468191565404, total=   0.0s\n",
      "[CV] max_features=sqrt, min_samples_split=2, n_estimators=5 ..........\n",
      "[CV]  max_features=sqrt, min_samples_split=2, n_estimators=5, score=0.7741243745532523, total=   0.0s\n",
      "[CV] max_features=sqrt, min_samples_split=2, n_estimators=10 .........\n"
     ]
    },
    {
     "name": "stderr",
     "output_type": "stream",
     "text": [
      "[Parallel(n_jobs=1)]: Done   1 out of   1 | elapsed:    0.0s remaining:    0.0s\n",
      "[Parallel(n_jobs=1)]: Done   2 out of   2 | elapsed:    0.1s remaining:    0.0s\n"
     ]
    },
    {
     "name": "stdout",
     "output_type": "stream",
     "text": [
      "[CV]  max_features=sqrt, min_samples_split=2, n_estimators=10, score=0.7952924393723253, total=   0.1s\n",
      "[CV] max_features=sqrt, min_samples_split=2, n_estimators=10 .........\n",
      "[CV]  max_features=sqrt, min_samples_split=2, n_estimators=10, score=0.7998570407433881, total=   0.1s\n",
      "[CV] max_features=sqrt, min_samples_split=2, n_estimators=10 .........\n",
      "[CV]  max_features=sqrt, min_samples_split=2, n_estimators=10, score=0.8162973552537527, total=   0.1s\n",
      "[CV] max_features=sqrt, min_samples_split=2, n_estimators=100 ........\n",
      "[CV]  max_features=sqrt, min_samples_split=2, n_estimators=100, score=0.8345221112696148, total=   0.7s\n",
      "[CV] max_features=sqrt, min_samples_split=2, n_estimators=100 ........\n",
      "[CV]  max_features=sqrt, min_samples_split=2, n_estimators=100, score=0.8248749106504646, total=   0.7s\n",
      "[CV] max_features=sqrt, min_samples_split=2, n_estimators=100 ........\n",
      "[CV]  max_features=sqrt, min_samples_split=2, n_estimators=100, score=0.8320228734810579, total=   0.7s\n",
      "[CV] max_features=sqrt, min_samples_split=3, n_estimators=5 ..........\n",
      "[CV]  max_features=sqrt, min_samples_split=3, n_estimators=5, score=0.7845934379457917, total=   0.0s\n",
      "[CV] max_features=sqrt, min_samples_split=3, n_estimators=5 ..........\n",
      "[CV]  max_features=sqrt, min_samples_split=3, n_estimators=5, score=0.7655468191565404, total=   0.0s\n",
      "[CV] max_features=sqrt, min_samples_split=3, n_estimators=5 ..........\n",
      "[CV]  max_features=sqrt, min_samples_split=3, n_estimators=5, score=0.7791279485346676, total=   0.0s\n",
      "[CV] max_features=sqrt, min_samples_split=3, n_estimators=10 .........\n",
      "[CV]  max_features=sqrt, min_samples_split=3, n_estimators=10, score=0.8166904422253923, total=   0.1s\n",
      "[CV] max_features=sqrt, min_samples_split=3, n_estimators=10 .........\n",
      "[CV]  max_features=sqrt, min_samples_split=3, n_estimators=10, score=0.7905646890636169, total=   0.1s\n",
      "[CV] max_features=sqrt, min_samples_split=3, n_estimators=10 .........\n",
      "[CV]  max_features=sqrt, min_samples_split=3, n_estimators=10, score=0.8005718370264474, total=   0.1s\n",
      "[CV] max_features=sqrt, min_samples_split=3, n_estimators=100 ........\n",
      "[CV]  max_features=sqrt, min_samples_split=3, n_estimators=100, score=0.8359486447931527, total=   0.7s\n",
      "[CV] max_features=sqrt, min_samples_split=3, n_estimators=100 ........\n",
      "[CV]  max_features=sqrt, min_samples_split=3, n_estimators=100, score=0.8198713366690493, total=   0.7s\n",
      "[CV] max_features=sqrt, min_samples_split=3, n_estimators=100 ........\n",
      "[CV]  max_features=sqrt, min_samples_split=3, n_estimators=100, score=0.8441744102930665, total=   0.7s\n",
      "[CV] max_features=sqrt, min_samples_split=4, n_estimators=5 ..........\n",
      "[CV]  max_features=sqrt, min_samples_split=4, n_estimators=5, score=0.7902995720399429, total=   0.0s\n",
      "[CV] max_features=sqrt, min_samples_split=4, n_estimators=5 ..........\n",
      "[CV]  max_features=sqrt, min_samples_split=4, n_estimators=5, score=0.7669764117226591, total=   0.0s\n",
      "[CV] max_features=sqrt, min_samples_split=4, n_estimators=5 ..........\n",
      "[CV]  max_features=sqrt, min_samples_split=4, n_estimators=5, score=0.7719799857040743, total=   0.0s\n",
      "[CV] max_features=sqrt, min_samples_split=4, n_estimators=10 .........\n",
      "[CV]  max_features=sqrt, min_samples_split=4, n_estimators=10, score=0.8223965763195435, total=   0.1s\n",
      "[CV] max_features=sqrt, min_samples_split=4, n_estimators=10 .........\n",
      "[CV]  max_features=sqrt, min_samples_split=4, n_estimators=10, score=0.7941386704789135, total=   0.1s\n",
      "[CV] max_features=sqrt, min_samples_split=4, n_estimators=10 .........\n",
      "[CV]  max_features=sqrt, min_samples_split=4, n_estimators=10, score=0.810578984989278, total=   0.1s\n",
      "[CV] max_features=sqrt, min_samples_split=4, n_estimators=100 ........\n",
      "[CV]  max_features=sqrt, min_samples_split=4, n_estimators=100, score=0.8373751783166904, total=   0.7s\n",
      "[CV] max_features=sqrt, min_samples_split=4, n_estimators=100 ........\n",
      "[CV]  max_features=sqrt, min_samples_split=4, n_estimators=100, score=0.8155825589706933, total=   0.7s\n",
      "[CV] max_features=sqrt, min_samples_split=4, n_estimators=100 ........\n",
      "[CV]  max_features=sqrt, min_samples_split=4, n_estimators=100, score=0.8420300214438885, total=   0.7s\n",
      "[CV] max_features=sqrt, min_samples_split=5, n_estimators=5 ..........\n",
      "[CV]  max_features=sqrt, min_samples_split=5, n_estimators=5, score=0.7952924393723253, total=   0.0s\n",
      "[CV] max_features=sqrt, min_samples_split=5, n_estimators=5 ..........\n",
      "[CV]  max_features=sqrt, min_samples_split=5, n_estimators=5, score=0.7827019299499642, total=   0.0s\n",
      "[CV] max_features=sqrt, min_samples_split=5, n_estimators=5 ..........\n",
      "[CV]  max_features=sqrt, min_samples_split=5, n_estimators=5, score=0.779842744817727, total=   0.0s\n",
      "[CV] max_features=sqrt, min_samples_split=5, n_estimators=10 .........\n",
      "[CV]  max_features=sqrt, min_samples_split=5, n_estimators=10, score=0.81169757489301, total=   0.1s\n",
      "[CV] max_features=sqrt, min_samples_split=5, n_estimators=10 .........\n",
      "[CV]  max_features=sqrt, min_samples_split=5, n_estimators=10, score=0.7855611150822016, total=   0.1s\n",
      "[CV] max_features=sqrt, min_samples_split=5, n_estimators=10 .........\n",
      "[CV]  max_features=sqrt, min_samples_split=5, n_estimators=10, score=0.812723373838456, total=   0.1s\n",
      "[CV] max_features=sqrt, min_samples_split=5, n_estimators=100 ........\n",
      "[CV]  max_features=sqrt, min_samples_split=5, n_estimators=100, score=0.8416547788873039, total=   0.7s\n",
      "[CV] max_features=sqrt, min_samples_split=5, n_estimators=100 ........\n",
      "[CV]  max_features=sqrt, min_samples_split=5, n_estimators=100, score=0.8220157255182273, total=   0.7s\n",
      "[CV] max_features=sqrt, min_samples_split=5, n_estimators=100 ........\n",
      "[CV]  max_features=sqrt, min_samples_split=5, n_estimators=100, score=0.8348820586132952, total=   0.7s\n",
      "[CV] max_features=sqrt, min_samples_split=10, n_estimators=5 .........\n",
      "[CV]  max_features=sqrt, min_samples_split=10, n_estimators=5, score=0.7995720399429387, total=   0.0s\n",
      "[CV] max_features=sqrt, min_samples_split=10, n_estimators=5 .........\n",
      "[CV]  max_features=sqrt, min_samples_split=10, n_estimators=5, score=0.775553967119371, total=   0.0s\n",
      "[CV] max_features=sqrt, min_samples_split=10, n_estimators=5 .........\n",
      "[CV]  max_features=sqrt, min_samples_split=10, n_estimators=5, score=0.7812723373838456, total=   0.0s\n",
      "[CV] max_features=sqrt, min_samples_split=10, n_estimators=10 ........\n",
      "[CV]  max_features=sqrt, min_samples_split=10, n_estimators=10, score=0.8009985734664765, total=   0.1s\n",
      "[CV] max_features=sqrt, min_samples_split=10, n_estimators=10 ........\n",
      "[CV]  max_features=sqrt, min_samples_split=10, n_estimators=10, score=0.7955682630450321, total=   0.1s\n",
      "[CV] max_features=sqrt, min_samples_split=10, n_estimators=10 ........\n",
      "[CV]  max_features=sqrt, min_samples_split=10, n_estimators=10, score=0.8177269478198713, total=   0.1s\n",
      "[CV] max_features=sqrt, min_samples_split=10, n_estimators=100 .......\n",
      "[CV]  max_features=sqrt, min_samples_split=10, n_estimators=100, score=0.8288159771754636, total=   0.7s\n",
      "[CV] max_features=sqrt, min_samples_split=10, n_estimators=100 .......\n",
      "[CV]  max_features=sqrt, min_samples_split=10, n_estimators=100, score=0.812723373838456, total=   0.7s\n",
      "[CV] max_features=sqrt, min_samples_split=10, n_estimators=100 .......\n",
      "[CV]  max_features=sqrt, min_samples_split=10, n_estimators=100, score=0.8263045032165832, total=   0.6s\n",
      "[CV] max_features=log2, min_samples_split=2, n_estimators=5 ..........\n",
      "[CV]  max_features=log2, min_samples_split=2, n_estimators=5, score=0.7895863052781741, total=   0.0s\n",
      "[CV] max_features=log2, min_samples_split=2, n_estimators=5 ..........\n",
      "[CV]  max_features=log2, min_samples_split=2, n_estimators=5, score=0.7655468191565404, total=   0.0s\n",
      "[CV] max_features=log2, min_samples_split=2, n_estimators=5 ..........\n",
      "[CV]  max_features=log2, min_samples_split=2, n_estimators=5, score=0.771265189421015, total=   0.0s\n",
      "[CV] max_features=log2, min_samples_split=2, n_estimators=10 .........\n",
      "[CV]  max_features=log2, min_samples_split=2, n_estimators=10, score=0.8102710413694721, total=   0.1s\n",
      "[CV] max_features=log2, min_samples_split=2, n_estimators=10 .........\n",
      "[CV]  max_features=log2, min_samples_split=2, n_estimators=10, score=0.7905646890636169, total=   0.1s\n",
      "[CV] max_features=log2, min_samples_split=2, n_estimators=10 .........\n",
      "[CV]  max_features=log2, min_samples_split=2, n_estimators=10, score=0.8055754110078628, total=   0.1s\n",
      "[CV] max_features=log2, min_samples_split=2, n_estimators=100 ........\n"
     ]
    },
    {
     "name": "stdout",
     "output_type": "stream",
     "text": [
      "[CV]  max_features=log2, min_samples_split=2, n_estimators=100, score=0.8359486447931527, total=   0.7s\n",
      "[CV] max_features=log2, min_samples_split=2, n_estimators=100 ........\n",
      "[CV]  max_features=log2, min_samples_split=2, n_estimators=100, score=0.8220157255182273, total=   0.7s\n",
      "[CV] max_features=log2, min_samples_split=2, n_estimators=100 ........\n",
      "[CV]  max_features=log2, min_samples_split=2, n_estimators=100, score=0.8384560400285919, total=   0.7s\n",
      "[CV] max_features=log2, min_samples_split=3, n_estimators=5 ..........\n",
      "[CV]  max_features=log2, min_samples_split=3, n_estimators=5, score=0.7874465049928673, total=   0.0s\n",
      "[CV] max_features=log2, min_samples_split=3, n_estimators=5 ..........\n",
      "[CV]  max_features=log2, min_samples_split=3, n_estimators=5, score=0.781987133666905, total=   0.0s\n",
      "[CV] max_features=log2, min_samples_split=3, n_estimators=5 ..........\n",
      "[CV]  max_features=log2, min_samples_split=3, n_estimators=5, score=0.7805575411007862, total=   0.0s\n",
      "[CV] max_features=log2, min_samples_split=3, n_estimators=10 .........\n",
      "[CV]  max_features=log2, min_samples_split=3, n_estimators=10, score=0.8145506419400856, total=   0.1s\n",
      "[CV] max_features=log2, min_samples_split=3, n_estimators=10 .........\n",
      "[CV]  max_features=log2, min_samples_split=3, n_estimators=10, score=0.8048606147248034, total=   0.1s\n",
      "[CV] max_features=log2, min_samples_split=3, n_estimators=10 .........\n",
      "[CV]  max_features=log2, min_samples_split=3, n_estimators=10, score=0.7955682630450321, total=   0.1s\n",
      "[CV] max_features=log2, min_samples_split=3, n_estimators=100 ........\n",
      "[CV]  max_features=log2, min_samples_split=3, n_estimators=100, score=0.8388017118402282, total=   0.7s\n",
      "[CV] max_features=log2, min_samples_split=3, n_estimators=100 ........\n",
      "[CV]  max_features=log2, min_samples_split=3, n_estimators=100, score=0.8205861329521087, total=   0.7s\n",
      "[CV] max_features=log2, min_samples_split=3, n_estimators=100 ........\n",
      "[CV]  max_features=log2, min_samples_split=3, n_estimators=100, score=0.8413152251608291, total=   0.7s\n",
      "[CV] max_features=log2, min_samples_split=4, n_estimators=5 ..........\n",
      "[CV]  max_features=log2, min_samples_split=4, n_estimators=5, score=0.7788873038516405, total=   0.0s\n",
      "[CV] max_features=log2, min_samples_split=4, n_estimators=5 ..........\n",
      "[CV]  max_features=log2, min_samples_split=4, n_estimators=5, score=0.7726947819871337, total=   0.0s\n",
      "[CV] max_features=log2, min_samples_split=4, n_estimators=5 ..........\n",
      "[CV]  max_features=log2, min_samples_split=4, n_estimators=5, score=0.7898498927805575, total=   0.0s\n",
      "[CV] max_features=log2, min_samples_split=4, n_estimators=10 .........\n",
      "[CV]  max_features=log2, min_samples_split=4, n_estimators=10, score=0.8259629101283881, total=   0.1s\n",
      "[CV] max_features=log2, min_samples_split=4, n_estimators=10 .........\n",
      "[CV]  max_features=log2, min_samples_split=4, n_estimators=10, score=0.7948534667619729, total=   0.1s\n",
      "[CV] max_features=log2, min_samples_split=4, n_estimators=10 .........\n",
      "[CV]  max_features=log2, min_samples_split=4, n_estimators=10, score=0.8098641887062187, total=   0.1s\n",
      "[CV] max_features=log2, min_samples_split=4, n_estimators=100 ........\n",
      "[CV]  max_features=log2, min_samples_split=4, n_estimators=100, score=0.8359486447931527, total=   0.7s\n",
      "[CV] max_features=log2, min_samples_split=4, n_estimators=100 ........\n",
      "[CV]  max_features=log2, min_samples_split=4, n_estimators=100, score=0.8227305218012866, total=   0.7s\n",
      "[CV] max_features=log2, min_samples_split=4, n_estimators=100 ........\n",
      "[CV]  max_features=log2, min_samples_split=4, n_estimators=100, score=0.8406004288777699, total=   0.7s\n",
      "[CV] max_features=log2, min_samples_split=5, n_estimators=5 ..........\n",
      "[CV]  max_features=log2, min_samples_split=5, n_estimators=5, score=0.8145506419400856, total=   0.0s\n",
      "[CV] max_features=log2, min_samples_split=5, n_estimators=5 ..........\n",
      "[CV]  max_features=log2, min_samples_split=5, n_estimators=5, score=0.773409578270193, total=   0.0s\n",
      "[CV] max_features=log2, min_samples_split=5, n_estimators=5 ..........\n",
      "[CV]  max_features=log2, min_samples_split=5, n_estimators=5, score=0.7769835596854896, total=   0.0s\n",
      "[CV] max_features=log2, min_samples_split=5, n_estimators=10 .........\n",
      "[CV]  max_features=log2, min_samples_split=5, n_estimators=10, score=0.8166904422253923, total=   0.1s\n",
      "[CV] max_features=log2, min_samples_split=5, n_estimators=10 .........\n",
      "[CV]  max_features=log2, min_samples_split=5, n_estimators=10, score=0.7905646890636169, total=   0.1s\n",
      "[CV] max_features=log2, min_samples_split=5, n_estimators=10 .........\n",
      "[CV]  max_features=log2, min_samples_split=5, n_estimators=10, score=0.8084345961401, total=   0.1s\n",
      "[CV] max_features=log2, min_samples_split=5, n_estimators=100 ........\n",
      "[CV]  max_features=log2, min_samples_split=5, n_estimators=100, score=0.8345221112696148, total=   0.7s\n",
      "[CV] max_features=log2, min_samples_split=5, n_estimators=100 ........\n",
      "[CV]  max_features=log2, min_samples_split=5, n_estimators=100, score=0.8177269478198713, total=   0.7s\n",
      "[CV] max_features=log2, min_samples_split=5, n_estimators=100 ........\n",
      "[CV]  max_features=log2, min_samples_split=5, n_estimators=100, score=0.8384560400285919, total=   0.7s\n",
      "[CV] max_features=log2, min_samples_split=10, n_estimators=5 .........\n",
      "[CV]  max_features=log2, min_samples_split=10, n_estimators=5, score=0.7631954350927247, total=   0.0s\n",
      "[CV] max_features=log2, min_samples_split=10, n_estimators=5 .........\n",
      "[CV]  max_features=log2, min_samples_split=10, n_estimators=5, score=0.7605432451751251, total=   0.0s\n",
      "[CV] max_features=log2, min_samples_split=10, n_estimators=5 .........\n",
      "[CV]  max_features=log2, min_samples_split=10, n_estimators=5, score=0.7898498927805575, total=   0.0s\n",
      "[CV] max_features=log2, min_samples_split=10, n_estimators=10 ........\n",
      "[CV]  max_features=log2, min_samples_split=10, n_estimators=10, score=0.8166904422253923, total=   0.1s\n",
      "[CV] max_features=log2, min_samples_split=10, n_estimators=10 ........\n",
      "[CV]  max_features=log2, min_samples_split=10, n_estimators=10, score=0.7877055039313795, total=   0.1s\n",
      "[CV] max_features=log2, min_samples_split=10, n_estimators=10 ........\n",
      "[CV]  max_features=log2, min_samples_split=10, n_estimators=10, score=0.8034310221586848, total=   0.1s\n",
      "[CV] max_features=log2, min_samples_split=10, n_estimators=100 .......\n",
      "[CV]  max_features=log2, min_samples_split=10, n_estimators=100, score=0.8323823109843081, total=   0.7s\n",
      "[CV] max_features=log2, min_samples_split=10, n_estimators=100 .......\n",
      "[CV]  max_features=log2, min_samples_split=10, n_estimators=100, score=0.8134381701215153, total=   0.6s\n",
      "[CV] max_features=log2, min_samples_split=10, n_estimators=100 .......\n",
      "[CV]  max_features=log2, min_samples_split=10, n_estimators=100, score=0.8384560400285919, total=   0.7s\n",
      "[CV] max_features=auto, min_samples_split=2, n_estimators=5 ..........\n",
      "[CV]  max_features=auto, min_samples_split=2, n_estimators=5, score=0.7924393723252496, total=   0.0s\n",
      "[CV] max_features=auto, min_samples_split=2, n_estimators=5 ..........\n",
      "[CV]  max_features=auto, min_samples_split=2, n_estimators=5, score=0.771265189421015, total=   0.0s\n",
      "[CV] max_features=auto, min_samples_split=2, n_estimators=5 ..........\n",
      "[CV]  max_features=auto, min_samples_split=2, n_estimators=5, score=0.777698355968549, total=   0.0s\n",
      "[CV] max_features=auto, min_samples_split=2, n_estimators=10 .........\n",
      "[CV]  max_features=auto, min_samples_split=2, n_estimators=10, score=0.8074179743223966, total=   0.1s\n",
      "[CV] max_features=auto, min_samples_split=2, n_estimators=10 .........\n",
      "[CV]  max_features=auto, min_samples_split=2, n_estimators=10, score=0.8034310221586848, total=   0.1s\n",
      "[CV] max_features=auto, min_samples_split=2, n_estimators=10 .........\n",
      "[CV]  max_features=auto, min_samples_split=2, n_estimators=10, score=0.810578984989278, total=   0.1s\n",
      "[CV] max_features=auto, min_samples_split=2, n_estimators=100 ........\n",
      "[CV]  max_features=auto, min_samples_split=2, n_estimators=100, score=0.8373751783166904, total=   0.7s\n",
      "[CV] max_features=auto, min_samples_split=2, n_estimators=100 ........\n",
      "[CV]  max_features=auto, min_samples_split=2, n_estimators=100, score=0.812723373838456, total=   0.7s\n",
      "[CV] max_features=auto, min_samples_split=2, n_estimators=100 ........\n",
      "[CV]  max_features=auto, min_samples_split=2, n_estimators=100, score=0.8398856325947105, total=   0.7s\n",
      "[CV] max_features=auto, min_samples_split=3, n_estimators=5 ..........\n",
      "[CV]  max_features=auto, min_samples_split=3, n_estimators=5, score=0.7924393723252496, total=   0.0s\n",
      "[CV] max_features=auto, min_samples_split=3, n_estimators=5 ..........\n",
      "[CV]  max_features=auto, min_samples_split=3, n_estimators=5, score=0.7605432451751251, total=   0.0s\n",
      "[CV] max_features=auto, min_samples_split=3, n_estimators=5 ..........\n",
      "[CV]  max_features=auto, min_samples_split=3, n_estimators=5, score=0.7741243745532523, total=   0.0s\n",
      "[CV] max_features=auto, min_samples_split=3, n_estimators=10 .........\n"
     ]
    },
    {
     "name": "stdout",
     "output_type": "stream",
     "text": [
      "[CV]  max_features=auto, min_samples_split=3, n_estimators=10, score=0.8152639087018545, total=   0.1s\n",
      "[CV] max_features=auto, min_samples_split=3, n_estimators=10 .........\n",
      "[CV]  max_features=auto, min_samples_split=3, n_estimators=10, score=0.8041458184417442, total=   0.1s\n",
      "[CV] max_features=auto, min_samples_split=3, n_estimators=10 .........\n",
      "[CV]  max_features=auto, min_samples_split=3, n_estimators=10, score=0.8084345961401, total=   0.1s\n",
      "[CV] max_features=auto, min_samples_split=3, n_estimators=100 ........\n",
      "[CV]  max_features=auto, min_samples_split=3, n_estimators=100, score=0.8395149786019972, total=   0.7s\n",
      "[CV] max_features=auto, min_samples_split=3, n_estimators=100 ........\n",
      "[CV]  max_features=auto, min_samples_split=3, n_estimators=100, score=0.81915654038599, total=   0.7s\n",
      "[CV] max_features=auto, min_samples_split=3, n_estimators=100 ........\n",
      "[CV]  max_features=auto, min_samples_split=3, n_estimators=100, score=0.8413152251608291, total=   0.7s\n",
      "[CV] max_features=auto, min_samples_split=4, n_estimators=5 ..........\n",
      "[CV]  max_features=auto, min_samples_split=4, n_estimators=5, score=0.8024251069900142, total=   0.0s\n",
      "[CV] max_features=auto, min_samples_split=4, n_estimators=5 ..........\n",
      "[CV]  max_features=auto, min_samples_split=4, n_estimators=5, score=0.7598284488920658, total=   0.0s\n",
      "[CV] max_features=auto, min_samples_split=4, n_estimators=5 ..........\n",
      "[CV]  max_features=auto, min_samples_split=4, n_estimators=5, score=0.777698355968549, total=   0.0s\n",
      "[CV] max_features=auto, min_samples_split=4, n_estimators=10 .........\n",
      "[CV]  max_features=auto, min_samples_split=4, n_estimators=10, score=0.8145506419400856, total=   0.1s\n",
      "[CV] max_features=auto, min_samples_split=4, n_estimators=10 .........\n",
      "[CV]  max_features=auto, min_samples_split=4, n_estimators=10, score=0.7905646890636169, total=   0.1s\n",
      "[CV] max_features=auto, min_samples_split=4, n_estimators=10 .........\n",
      "[CV]  max_features=auto, min_samples_split=4, n_estimators=10, score=0.8041458184417442, total=   0.1s\n",
      "[CV] max_features=auto, min_samples_split=4, n_estimators=100 ........\n",
      "[CV]  max_features=auto, min_samples_split=4, n_estimators=100, score=0.8437945791726106, total=   0.7s\n",
      "[CV] max_features=auto, min_samples_split=4, n_estimators=100 ........\n",
      "[CV]  max_features=auto, min_samples_split=4, n_estimators=100, score=0.8184417441029307, total=   0.7s\n",
      "[CV] max_features=auto, min_samples_split=4, n_estimators=100 ........\n",
      "[CV]  max_features=auto, min_samples_split=4, n_estimators=100, score=0.8391708363116511, total=   0.7s\n",
      "[CV] max_features=auto, min_samples_split=5, n_estimators=5 ..........\n",
      "[CV]  max_features=auto, min_samples_split=5, n_estimators=5, score=0.8038516405135521, total=   0.0s\n",
      "[CV] max_features=auto, min_samples_split=5, n_estimators=5 ..........\n",
      "[CV]  max_features=auto, min_samples_split=5, n_estimators=5, score=0.7791279485346676, total=   0.0s\n",
      "[CV] max_features=auto, min_samples_split=5, n_estimators=5 ..........\n",
      "[CV]  max_features=auto, min_samples_split=5, n_estimators=5, score=0.7855611150822016, total=   0.0s\n",
      "[CV] max_features=auto, min_samples_split=5, n_estimators=10 .........\n",
      "[CV]  max_features=auto, min_samples_split=5, n_estimators=10, score=0.8124108416547788, total=   0.1s\n",
      "[CV] max_features=auto, min_samples_split=5, n_estimators=10 .........\n",
      "[CV]  max_features=auto, min_samples_split=5, n_estimators=10, score=0.7919942816297355, total=   0.1s\n",
      "[CV] max_features=auto, min_samples_split=5, n_estimators=10 .........\n",
      "[CV]  max_features=auto, min_samples_split=5, n_estimators=10, score=0.8141529664045747, total=   0.1s\n",
      "[CV] max_features=auto, min_samples_split=5, n_estimators=100 ........\n",
      "[CV]  max_features=auto, min_samples_split=5, n_estimators=100, score=0.8395149786019972, total=   0.7s\n",
      "[CV] max_features=auto, min_samples_split=5, n_estimators=100 ........\n",
      "[CV]  max_features=auto, min_samples_split=5, n_estimators=100, score=0.823445318084346, total=   0.7s\n",
      "[CV] max_features=auto, min_samples_split=5, n_estimators=100 ........\n",
      "[CV]  max_features=auto, min_samples_split=5, n_estimators=100, score=0.8377412437455325, total=   0.7s\n",
      "[CV] max_features=auto, min_samples_split=10, n_estimators=5 .........\n",
      "[CV]  max_features=auto, min_samples_split=10, n_estimators=5, score=0.7924393723252496, total=   0.0s\n",
      "[CV] max_features=auto, min_samples_split=10, n_estimators=5 .........\n",
      "[CV]  max_features=auto, min_samples_split=10, n_estimators=5, score=0.7648320228734811, total=   0.0s\n",
      "[CV] max_features=auto, min_samples_split=10, n_estimators=5 .........\n",
      "[CV]  max_features=auto, min_samples_split=10, n_estimators=5, score=0.771265189421015, total=   0.0s\n",
      "[CV] max_features=auto, min_samples_split=10, n_estimators=10 ........\n",
      "[CV]  max_features=auto, min_samples_split=10, n_estimators=10, score=0.8102710413694721, total=   0.1s\n",
      "[CV] max_features=auto, min_samples_split=10, n_estimators=10 ........\n",
      "[CV]  max_features=auto, min_samples_split=10, n_estimators=10, score=0.7977126518942101, total=   0.1s\n",
      "[CV] max_features=auto, min_samples_split=10, n_estimators=10 ........\n",
      "[CV]  max_features=auto, min_samples_split=10, n_estimators=10, score=0.8120085775553967, total=   0.1s\n",
      "[CV] max_features=auto, min_samples_split=10, n_estimators=100 .......\n",
      "[CV]  max_features=auto, min_samples_split=10, n_estimators=100, score=0.8323823109843081, total=   0.7s\n",
      "[CV] max_features=auto, min_samples_split=10, n_estimators=100 .......\n",
      "[CV]  max_features=auto, min_samples_split=10, n_estimators=100, score=0.810578984989278, total=   0.7s\n",
      "[CV] max_features=auto, min_samples_split=10, n_estimators=100 .......\n",
      "[CV]  max_features=auto, min_samples_split=10, n_estimators=100, score=0.8305932809149392, total=   0.7s\n"
     ]
    },
    {
     "name": "stderr",
     "output_type": "stream",
     "text": [
      "[Parallel(n_jobs=1)]: Done 135 out of 135 | elapsed:   37.7s finished\n"
     ]
    },
    {
     "data": {
      "text/plain": [
       "GridSearchCV(cv=None, error_score='raise',\n",
       "       estimator=RandomForestClassifier(bootstrap=True, class_weight=None, criterion='gini',\n",
       "            max_depth=None, max_features='auto', max_leaf_nodes=None,\n",
       "            min_impurity_decrease=0.0, min_impurity_split=None,\n",
       "            min_samples_leaf=1, min_samples_split=2,\n",
       "            min_weight_fraction_leaf=0.0, n_estimators=10, n_jobs=1,\n",
       "            oob_score=False, random_state=None, verbose=0,\n",
       "            warm_start=False),\n",
       "       fit_params=None, iid=True, n_jobs=1,\n",
       "       param_grid={'n_estimators': [5, 10, 100], 'min_samples_split': [2, 3, 4, 5, 10], 'max_features': ['sqrt', 'log2', 'auto']},\n",
       "       pre_dispatch='2*n_jobs', refit=True, return_train_score='warn',\n",
       "       scoring=None, verbose=3)"
      ]
     },
     "execution_count": 1246,
     "metadata": {},
     "output_type": "execute_result"
    }
   ],
   "source": [
    "rfc_grid = GridSearchCV(rfc, rfc_param_grid, verbose=3)\n",
    "rfc_grid.fit(X_train, y_train)"
   ]
  },
  {
   "cell_type": "code",
   "execution_count": 1247,
   "metadata": {},
   "outputs": [
    {
     "data": {
      "text/plain": [
       "{'max_features': 'auto', 'min_samples_split': 4, 'n_estimators': 100}"
      ]
     },
     "execution_count": 1247,
     "metadata": {},
     "output_type": "execute_result"
    }
   ],
   "source": [
    "rfc_grid.best_params_"
   ]
  },
  {
   "cell_type": "markdown",
   "metadata": {},
   "source": [
    "## RFC - Best"
   ]
  },
  {
   "cell_type": "code",
   "execution_count": 1248,
   "metadata": {},
   "outputs": [
    {
     "data": {
      "text/plain": [
       "RandomForestClassifier(bootstrap=True, class_weight=None, criterion='gini',\n",
       "            max_depth=None, max_features='auto', max_leaf_nodes=None,\n",
       "            min_impurity_decrease=0.0, min_impurity_split=None,\n",
       "            min_samples_leaf=1, min_samples_split=4,\n",
       "            min_weight_fraction_leaf=0.0, n_estimators=100, n_jobs=1,\n",
       "            oob_score=False, random_state=None, verbose=0,\n",
       "            warm_start=False)"
      ]
     },
     "execution_count": 1248,
     "metadata": {},
     "output_type": "execute_result"
    }
   ],
   "source": [
    "rfc_best = RandomForestClassifier(n_estimators=100, min_samples_split=4, max_features='auto')\n",
    "rfc_best.fit(X_train, y_train)"
   ]
  },
  {
   "cell_type": "code",
   "execution_count": 1249,
   "metadata": {},
   "outputs": [],
   "source": [
    "rfc_best_pred = rfc_best.predict(X_test)"
   ]
  },
  {
   "cell_type": "code",
   "execution_count": 1250,
   "metadata": {},
   "outputs": [
    {
     "data": {
      "text/plain": [
       "0.878"
      ]
     },
     "execution_count": 1250,
     "metadata": {},
     "output_type": "execute_result"
    }
   ],
   "source": [
    "np.round(accuracy_score(y_test, rfc_best_pred), decimals=3)"
   ]
  },
  {
   "cell_type": "code",
   "execution_count": 1251,
   "metadata": {},
   "outputs": [
    {
     "name": "stdout",
     "output_type": "stream",
     "text": [
      "[[372   6  34  25]\n",
      " [  9 417   6  23]\n",
      " [ 24   9 410  12]\n",
      " [ 23  42   7 381]]\n",
      "             precision    recall  f1-score   support\n",
      "\n",
      "      dance       0.87      0.85      0.86       437\n",
      "       jazz       0.88      0.92      0.90       455\n",
      "        rap       0.90      0.90      0.90       455\n",
      "       rock       0.86      0.84      0.85       453\n",
      "\n",
      "avg / total       0.88      0.88      0.88      1800\n",
      "\n"
     ]
    }
   ],
   "source": [
    "print(confusion_matrix(y_test, rfc_best_pred))\n",
    "print(classification_report(list(y_test), list(rfc_best_pred)))"
   ]
  },
  {
   "cell_type": "markdown",
   "metadata": {},
   "source": [
    "### Finding Best Features"
   ]
  },
  {
   "cell_type": "code",
   "execution_count": 1252,
   "metadata": {},
   "outputs": [
    {
     "data": {
      "text/plain": [
       "<bound method BaseForest.fit of RandomForestClassifier(bootstrap=True, class_weight=None, criterion='gini',\n",
       "            max_depth=None, max_features='auto', max_leaf_nodes=None,\n",
       "            min_impurity_decrease=0.0, min_impurity_split=None,\n",
       "            min_samples_leaf=1, min_samples_split=2,\n",
       "            min_weight_fraction_leaf=0.0, n_estimators=10, n_jobs=1,\n",
       "            oob_score=False, random_state=None, verbose=0,\n",
       "            warm_start=False)>"
      ]
     },
     "execution_count": 1252,
     "metadata": {},
     "output_type": "execute_result"
    }
   ],
   "source": [
    "rfc.fit\n"
   ]
  },
  {
   "cell_type": "code",
   "execution_count": 1253,
   "metadata": {},
   "outputs": [
    {
     "data": {
      "text/html": [
       "<div>\n",
       "<style scoped>\n",
       "    .dataframe tbody tr th:only-of-type {\n",
       "        vertical-align: middle;\n",
       "    }\n",
       "\n",
       "    .dataframe tbody tr th {\n",
       "        vertical-align: top;\n",
       "    }\n",
       "\n",
       "    .dataframe thead th {\n",
       "        text-align: right;\n",
       "    }\n",
       "</style>\n",
       "<table border=\"1\" class=\"dataframe\">\n",
       "  <thead>\n",
       "    <tr style=\"text-align: right;\">\n",
       "      <th></th>\n",
       "      <th>feature</th>\n",
       "      <th>importance</th>\n",
       "    </tr>\n",
       "  </thead>\n",
       "  <tbody>\n",
       "    <tr>\n",
       "      <th>0</th>\n",
       "      <td>key</td>\n",
       "      <td>0.0227</td>\n",
       "    </tr>\n",
       "    <tr>\n",
       "      <th>1</th>\n",
       "      <td>energy</td>\n",
       "      <td>0.1150</td>\n",
       "    </tr>\n",
       "    <tr>\n",
       "      <th>2</th>\n",
       "      <td>liveliness</td>\n",
       "      <td>0.0248</td>\n",
       "    </tr>\n",
       "    <tr>\n",
       "      <th>3</th>\n",
       "      <td>tempo</td>\n",
       "      <td>0.0939</td>\n",
       "    </tr>\n",
       "    <tr>\n",
       "      <th>4</th>\n",
       "      <td>speechiness</td>\n",
       "      <td>0.0984</td>\n",
       "    </tr>\n",
       "    <tr>\n",
       "      <th>5</th>\n",
       "      <td>acousticness</td>\n",
       "      <td>0.1178</td>\n",
       "    </tr>\n",
       "    <tr>\n",
       "      <th>6</th>\n",
       "      <td>instrumentalness</td>\n",
       "      <td>0.0576</td>\n",
       "    </tr>\n",
       "    <tr>\n",
       "      <th>7</th>\n",
       "      <td>time_signature</td>\n",
       "      <td>0.0075</td>\n",
       "    </tr>\n",
       "    <tr>\n",
       "      <th>8</th>\n",
       "      <td>duration</td>\n",
       "      <td>0.0048</td>\n",
       "    </tr>\n",
       "    <tr>\n",
       "      <th>9</th>\n",
       "      <td>loudness</td>\n",
       "      <td>0.0512</td>\n",
       "    </tr>\n",
       "    <tr>\n",
       "      <th>10</th>\n",
       "      <td>valence</td>\n",
       "      <td>0.0561</td>\n",
       "    </tr>\n",
       "    <tr>\n",
       "      <th>11</th>\n",
       "      <td>danceability</td>\n",
       "      <td>0.0435</td>\n",
       "    </tr>\n",
       "    <tr>\n",
       "      <th>12</th>\n",
       "      <td>mode</td>\n",
       "      <td>0.1460</td>\n",
       "    </tr>\n",
       "    <tr>\n",
       "      <th>13</th>\n",
       "      <td>time_signature_confidence</td>\n",
       "      <td>0.0402</td>\n",
       "    </tr>\n",
       "    <tr>\n",
       "      <th>14</th>\n",
       "      <td>tempo_confidence</td>\n",
       "      <td>0.0310</td>\n",
       "    </tr>\n",
       "    <tr>\n",
       "      <th>15</th>\n",
       "      <td>key_confidence</td>\n",
       "      <td>0.0661</td>\n",
       "    </tr>\n",
       "    <tr>\n",
       "      <th>16</th>\n",
       "      <td>mode_confidence</td>\n",
       "      <td>0.0235</td>\n",
       "    </tr>\n",
       "  </tbody>\n",
       "</table>\n",
       "</div>"
      ],
      "text/plain": [
       "                      feature  importance\n",
       "0                         key      0.0227\n",
       "1                      energy      0.1150\n",
       "2                  liveliness      0.0248\n",
       "3                       tempo      0.0939\n",
       "4                 speechiness      0.0984\n",
       "5                acousticness      0.1178\n",
       "6            instrumentalness      0.0576\n",
       "7              time_signature      0.0075\n",
       "8                    duration      0.0048\n",
       "9                    loudness      0.0512\n",
       "10                    valence      0.0561\n",
       "11               danceability      0.0435\n",
       "12                       mode      0.1460\n",
       "13  time_signature_confidence      0.0402\n",
       "14           tempo_confidence      0.0310\n",
       "15             key_confidence      0.0661\n",
       "16            mode_confidence      0.0235"
      ]
     },
     "execution_count": 1253,
     "metadata": {},
     "output_type": "execute_result"
    }
   ],
   "source": [
    "dictionary = {'feature':df_features.columns, 'importance': np.round(rfc_original.feature_importances_, decimals = 4)}\n",
    "importances = pd.DataFrame(dictionary)\n",
    "importances"
   ]
  },
  {
   "cell_type": "code",
   "execution_count": 1254,
   "metadata": {},
   "outputs": [],
   "source": [
    "importances = importances.sort_values(by='importance', ascending=False)\n",
    "importances = importances.set_index('feature')"
   ]
  },
  {
   "cell_type": "code",
   "execution_count": 1255,
   "metadata": {},
   "outputs": [
    {
     "name": "stdout",
     "output_type": "stream",
     "text": [
      "                           importance\n",
      "feature                              \n",
      "mode                           0.1460\n",
      "acousticness                   0.1178\n",
      "energy                         0.1150\n",
      "speechiness                    0.0984\n",
      "tempo                          0.0939\n",
      "key_confidence                 0.0661\n",
      "instrumentalness               0.0576\n",
      "valence                        0.0561\n",
      "loudness                       0.0512\n",
      "danceability                   0.0435\n",
      "time_signature_confidence      0.0402\n",
      "tempo_confidence               0.0310\n",
      "liveliness                     0.0248\n",
      "mode_confidence                0.0235\n",
      "key                            0.0227\n",
      "time_signature                 0.0075\n",
      "duration                       0.0048\n"
     ]
    }
   ],
   "source": [
    "print(importances)"
   ]
  },
  {
   "cell_type": "code",
   "execution_count": 1256,
   "metadata": {},
   "outputs": [
    {
     "data": {
      "text/plain": [
       "<matplotlib.axes._subplots.AxesSubplot at 0x1b03c72a90>"
      ]
     },
     "execution_count": 1256,
     "metadata": {},
     "output_type": "execute_result"
    },
    {
     "data": {
      "image/png": "[encoded data removed]",
      "text/plain": [
       "<matplotlib.figure.Figure at 0x1b03382fd0>"
      ]
     },
     "metadata": {},
     "output_type": "display_data"
    }
   ],
   "source": [
    "importances.plot.bar()"
   ]
  },
  {
   "cell_type": "code",
   "execution_count": 1257,
   "metadata": {},
   "outputs": [
    {
     "data": {
      "text/plain": [
       "array([0.00477804, 0.00745449, 0.02265241, 0.02348986, 0.02476794,\n",
       "       0.03100638, 0.04022876, 0.04353131, 0.05115062, 0.05608149,\n",
       "       0.05762294, 0.06605676, 0.09392558, 0.0984166 , 0.11500216,\n",
       "       0.11781599, 0.14601866])"
      ]
     },
     "execution_count": 1257,
     "metadata": {},
     "output_type": "execute_result"
    }
   ],
   "source": [
    "thresholds = sort(rfc_original.feature_importances_)\n",
    "thresholds"
   ]
  },
  {
   "cell_type": "code",
   "execution_count": 1258,
   "metadata": {},
   "outputs": [
    {
     "data": {
      "text/plain": [
       "RandomForestClassifier(bootstrap=True, class_weight=None, criterion='gini',\n",
       "            max_depth=None, max_features='auto', max_leaf_nodes=None,\n",
       "            min_impurity_decrease=0.0, min_impurity_split=None,\n",
       "            min_samples_leaf=1, min_samples_split=2,\n",
       "            min_weight_fraction_leaf=0.0, n_estimators=10, n_jobs=1,\n",
       "            oob_score=False, random_state=None, verbose=0,\n",
       "            warm_start=False)"
      ]
     },
     "execution_count": 1258,
     "metadata": {},
     "output_type": "execute_result"
    }
   ],
   "source": [
    "rfc.fit(X_train, y_train)"
   ]
  },
  {
   "cell_type": "code",
   "execution_count": 1259,
   "metadata": {},
   "outputs": [
    {
     "name": "stdout",
     "output_type": "stream",
     "text": [
      "current threshold:  0.004778039426286788\n",
      "how many features:  16\n",
      "accuracy score:  0.8444\n",
      "---\n",
      "current threshold:  0.00745448931965851\n",
      "how many features:  15\n",
      "accuracy score:  0.8428\n",
      "---\n",
      "current threshold:  0.02265240687353175\n",
      "how many features:  14\n",
      "accuracy score:  0.8367\n",
      "---\n",
      "current threshold:  0.023489863769816134\n",
      "how many features:  14\n",
      "accuracy score:  0.8461\n",
      "---\n",
      "current threshold:  0.024767941265605626\n",
      "how many features:  14\n",
      "accuracy score:  0.8411\n",
      "---\n",
      "current threshold:  0.0310063783604686\n",
      "how many features:  13\n",
      "accuracy score:  0.8489\n",
      "---\n",
      "current threshold:  0.04022876088242904\n",
      "how many features:  11\n",
      "accuracy score:  0.8456\n",
      "---\n",
      "current threshold:  0.04353130757851372\n",
      "how many features:  8\n",
      "accuracy score:  0.8344\n",
      "---\n",
      "current threshold:  0.05115061722690144\n",
      "how many features:  8\n",
      "accuracy score:  0.8411\n",
      "---\n",
      "current threshold:  0.05608149222493676\n",
      "how many features:  7\n",
      "accuracy score:  0.8311\n",
      "---\n",
      "current threshold:  0.057622944575312994\n",
      "how many features:  7\n",
      "accuracy score:  0.8222\n",
      "---\n",
      "current threshold:  0.0660567580829358\n",
      "how many features:  7\n",
      "accuracy score:  0.8439\n",
      "---\n",
      "current threshold:  0.09392558377229991\n",
      "how many features:  4\n",
      "accuracy score:  0.7972\n",
      "---\n",
      "current threshold:  0.09841660350213281\n",
      "how many features:  3\n",
      "accuracy score:  0.7733\n",
      "---\n",
      "current threshold:  0.11500216471329885\n",
      "how many features:  3\n",
      "accuracy score:  0.7933\n",
      "---\n",
      "current threshold:  0.11781599141520593\n",
      "how many features:  3\n",
      "accuracy score:  0.7833\n",
      "---\n"
     ]
    },
    {
     "name": "stderr",
     "output_type": "stream",
     "text": [
      "/Users/Steve/anaconda3/lib/python3.6/site-packages/sklearn/feature_selection/base.py:80: UserWarning: No features were selected: either the data is too noisy or the selection test too strict.\n",
      "  UserWarning)\n"
     ]
    },
    {
     "ename": "ValueError",
     "evalue": "Found array with 0 feature(s) (shape=(4200, 0)) while a minimum of 1 is required.",
     "output_type": "error",
     "traceback": [
      "\u001b[0;31m---------------------------------------------------------------------------\u001b[0m",
      "\u001b[0;31mValueError\u001b[0m                                Traceback (most recent call last)",
      "\u001b[0;32m<ipython-input-1259-fcff00834628>\u001b[0m in \u001b[0;36m<module>\u001b[0;34m()\u001b[0m\n\u001b[1;32m      3\u001b[0m     \u001b[0mselect_X_train\u001b[0m \u001b[0;34m=\u001b[0m \u001b[0msfm\u001b[0m\u001b[0;34m.\u001b[0m\u001b[0mtransform\u001b[0m\u001b[0;34m(\u001b[0m\u001b[0mX_train\u001b[0m\u001b[0;34m)\u001b[0m\u001b[0;34m\u001b[0m\u001b[0m\n\u001b[1;32m      4\u001b[0m     \u001b[0mrfc_new\u001b[0m \u001b[0;34m=\u001b[0m \u001b[0mRandomForestClassifier\u001b[0m\u001b[0;34m(\u001b[0m\u001b[0;34m)\u001b[0m\u001b[0;34m\u001b[0m\u001b[0m\n\u001b[0;32m----> 5\u001b[0;31m     \u001b[0mrfc_new\u001b[0m\u001b[0;34m.\u001b[0m\u001b[0mfit\u001b[0m\u001b[0;34m(\u001b[0m\u001b[0mselect_X_train\u001b[0m\u001b[0;34m,\u001b[0m \u001b[0my_train\u001b[0m\u001b[0;34m)\u001b[0m\u001b[0;34m\u001b[0m\u001b[0m\n\u001b[0m\u001b[1;32m      6\u001b[0m     \u001b[0mselect_X_test\u001b[0m \u001b[0;34m=\u001b[0m \u001b[0msfm\u001b[0m\u001b[0;34m.\u001b[0m\u001b[0mtransform\u001b[0m\u001b[0;34m(\u001b[0m\u001b[0mX_test\u001b[0m\u001b[0;34m)\u001b[0m\u001b[0;34m\u001b[0m\u001b[0m\n\u001b[1;32m      7\u001b[0m     \u001b[0mpredictions\u001b[0m \u001b[0;34m=\u001b[0m \u001b[0mrfc_new\u001b[0m\u001b[0;34m.\u001b[0m\u001b[0mpredict\u001b[0m\u001b[0;34m(\u001b[0m\u001b[0mselect_X_test\u001b[0m\u001b[0;34m)\u001b[0m\u001b[0;34m\u001b[0m\u001b[0m\n",
      "\u001b[0;32m~/anaconda3/lib/python3.6/site-packages/sklearn/ensemble/forest.py\u001b[0m in \u001b[0;36mfit\u001b[0;34m(self, X, y, sample_weight)\u001b[0m\n\u001b[1;32m    245\u001b[0m         \"\"\"\n\u001b[1;32m    246\u001b[0m         \u001b[0;31m# Validate or convert input data\u001b[0m\u001b[0;34m\u001b[0m\u001b[0;34m\u001b[0m\u001b[0m\n\u001b[0;32m--> 247\u001b[0;31m         \u001b[0mX\u001b[0m \u001b[0;34m=\u001b[0m \u001b[0mcheck_array\u001b[0m\u001b[0;34m(\u001b[0m\u001b[0mX\u001b[0m\u001b[0;34m,\u001b[0m \u001b[0maccept_sparse\u001b[0m\u001b[0;34m=\u001b[0m\u001b[0;34m\"csc\"\u001b[0m\u001b[0;34m,\u001b[0m \u001b[0mdtype\u001b[0m\u001b[0;34m=\u001b[0m\u001b[0mDTYPE\u001b[0m\u001b[0;34m)\u001b[0m\u001b[0;34m\u001b[0m\u001b[0m\n\u001b[0m\u001b[1;32m    248\u001b[0m         \u001b[0my\u001b[0m \u001b[0;34m=\u001b[0m \u001b[0mcheck_array\u001b[0m\u001b[0;34m(\u001b[0m\u001b[0my\u001b[0m\u001b[0;34m,\u001b[0m \u001b[0maccept_sparse\u001b[0m\u001b[0;34m=\u001b[0m\u001b[0;34m'csc'\u001b[0m\u001b[0;34m,\u001b[0m \u001b[0mensure_2d\u001b[0m\u001b[0;34m=\u001b[0m\u001b[0;32mFalse\u001b[0m\u001b[0;34m,\u001b[0m \u001b[0mdtype\u001b[0m\u001b[0;34m=\u001b[0m\u001b[0;32mNone\u001b[0m\u001b[0;34m)\u001b[0m\u001b[0;34m\u001b[0m\u001b[0m\n\u001b[1;32m    249\u001b[0m         \u001b[0;32mif\u001b[0m \u001b[0msample_weight\u001b[0m \u001b[0;32mis\u001b[0m \u001b[0;32mnot\u001b[0m \u001b[0;32mNone\u001b[0m\u001b[0;34m:\u001b[0m\u001b[0;34m\u001b[0m\u001b[0m\n",
      "\u001b[0;32m~/anaconda3/lib/python3.6/site-packages/sklearn/utils/validation.py\u001b[0m in \u001b[0;36mcheck_array\u001b[0;34m(array, accept_sparse, dtype, order, copy, force_all_finite, ensure_2d, allow_nd, ensure_min_samples, ensure_min_features, warn_on_dtype, estimator)\u001b[0m\n\u001b[1;32m    468\u001b[0m                              \u001b[0;34m\" a minimum of %d is required%s.\"\u001b[0m\u001b[0;34m\u001b[0m\u001b[0m\n\u001b[1;32m    469\u001b[0m                              % (n_features, shape_repr, ensure_min_features,\n\u001b[0;32m--> 470\u001b[0;31m                                 context))\n\u001b[0m\u001b[1;32m    471\u001b[0m \u001b[0;34m\u001b[0m\u001b[0m\n\u001b[1;32m    472\u001b[0m     \u001b[0;32mif\u001b[0m \u001b[0mwarn_on_dtype\u001b[0m \u001b[0;32mand\u001b[0m \u001b[0mdtype_orig\u001b[0m \u001b[0;32mis\u001b[0m \u001b[0;32mnot\u001b[0m \u001b[0;32mNone\u001b[0m \u001b[0;32mand\u001b[0m \u001b[0marray\u001b[0m\u001b[0;34m.\u001b[0m\u001b[0mdtype\u001b[0m \u001b[0;34m!=\u001b[0m \u001b[0mdtype_orig\u001b[0m\u001b[0;34m:\u001b[0m\u001b[0;34m\u001b[0m\u001b[0m\n",
      "\u001b[0;31mValueError\u001b[0m: Found array with 0 feature(s) (shape=(4200, 0)) while a minimum of 1 is required."
     ]
    }
   ],
   "source": [
    "for threshold in thresholds:\n",
    "    sfm = SelectFromModel(rfc, threshold=threshold, prefit=True)\n",
    "    select_X_train = sfm.transform(X_train)\n",
    "    rfc_new = RandomForestClassifier()\n",
    "    rfc_new.fit(select_X_train, y_train)\n",
    "    select_X_test = sfm.transform(X_test)\n",
    "    predictions = rfc_new.predict(select_X_test)\n",
    "    accuracy_score(y_test, predictions)\n",
    "    print('current threshold: ', threshold)\n",
    "    print('how many features: ', select_X_train.shape[1])\n",
    "    print('accuracy score: ', np.round(accuracy_score(y_test, predictions), decimals=4))\n",
    "    print('---')"
   ]
  },
  {
   "cell_type": "code",
   "execution_count": null,
   "metadata": {},
   "outputs": [],
   "source": []
  },
  {
   "cell_type": "code",
   "execution_count": 1260,
   "metadata": {},
   "outputs": [
    {
     "data": {
      "text/plain": [
       "SelectFromModel(estimator=RandomForestClassifier(bootstrap=True, class_weight=None, criterion='gini',\n",
       "            max_depth=None, max_features='auto', max_leaf_nodes=None,\n",
       "            min_impurity_decrease=0.0, min_impurity_split=None,\n",
       "            min_samples_leaf=1, min_samples_split=2,\n",
       "            min_weight_fraction_leaf=0.0, n_estimators=10, n_jobs=1,\n",
       "            oob_score=False, random_state=None, verbose=0,\n",
       "            warm_start=False),\n",
       "        norm_order=1, prefit=False, threshold=None)"
      ]
     },
     "execution_count": 1260,
     "metadata": {},
     "output_type": "execute_result"
    }
   ],
   "source": [
    "sfm_test = SelectFromModel(rfc) #threshold with highest accuracy score\n",
    "sfm_test.fit(X_train, y_train)"
   ]
  },
  {
   "cell_type": "code",
   "execution_count": 1261,
   "metadata": {},
   "outputs": [
    {
     "name": "stdout",
     "output_type": "stream",
     "text": [
      "energy\n",
      "tempo\n",
      "speechiness\n",
      "acousticness\n",
      "instrumentalness\n",
      "loudness\n",
      "valence\n",
      "mode\n"
     ]
    }
   ],
   "source": [
    "for feature_list_index in sfm_test.get_support(indices=True):\n",
    "    print(df_features.columns[feature_list_index])"
   ]
  },
  {
   "cell_type": "markdown",
   "metadata": {},
   "source": [
    "### Analysis:\n",
    "In general, accuracy score stays relatively consistent as features decrease. It seems the best accuracy is around 10 - 15 features, going down in accuracy significantly from 4 features and below, with 'time_signature' and 'duration' being the least important. \n",
    "`SelectFromModel` chooses the top 9 features in order of importance:  'acousticness', 'speechiness', 'mode', 'energy', 'tempo', 'instrumentalness', 'key_confidence', loudness', and 'valence'. "
   ]
  },
  {
   "cell_type": "markdown",
   "metadata": {},
   "source": [
    "### RFC - RFE"
   ]
  },
  {
   "cell_type": "code",
   "execution_count": 1262,
   "metadata": {},
   "outputs": [],
   "source": [
    "from sklearn.feature_selection import RFE"
   ]
  },
  {
   "cell_type": "code",
   "execution_count": 1263,
   "metadata": {},
   "outputs": [],
   "source": [
    "rfc_rfe = RandomForestClassifier()"
   ]
  },
  {
   "cell_type": "code",
   "execution_count": 1264,
   "metadata": {},
   "outputs": [],
   "source": [
    "rfe_model = RFE(rfc_rfe, n_features_to_select=9)"
   ]
  },
  {
   "cell_type": "code",
   "execution_count": 1265,
   "metadata": {},
   "outputs": [],
   "source": [
    "rfe_model = rfe_model.fit(X_train, y_train)"
   ]
  },
  {
   "cell_type": "code",
   "execution_count": 1266,
   "metadata": {},
   "outputs": [
    {
     "name": "stdout",
     "output_type": "stream",
     "text": [
      "[False  True False  True  True  True  True False False  True  True False\n",
      "  True False False  True False]\n"
     ]
    }
   ],
   "source": [
    "print(rfe_model.support_)\n"
   ]
  },
  {
   "cell_type": "code",
   "execution_count": 1267,
   "metadata": {},
   "outputs": [
    {
     "name": "stdout",
     "output_type": "stream",
     "text": [
      "[7 1 4 1 1 1 1 8 9 1 1 2 1 3 5 1 6]\n",
      "Index(['key', 'energy', 'liveliness', 'tempo', 'speechiness', 'acousticness',\n",
      "       'instrumentalness', 'time_signature', 'duration', 'loudness', 'valence',\n",
      "       'danceability', 'mode', 'time_signature_confidence', 'tempo_confidence',\n",
      "       'key_confidence', 'mode_confidence'],\n",
      "      dtype='object')\n"
     ]
    }
   ],
   "source": [
    "print(rfe_model.ranking_)\n",
    "print(df_features.columns)"
   ]
  },
  {
   "cell_type": "code",
   "execution_count": 1268,
   "metadata": {},
   "outputs": [],
   "source": [
    "rfe_predictions = rfe_model.predict(X_test)"
   ]
  },
  {
   "cell_type": "code",
   "execution_count": 1269,
   "metadata": {},
   "outputs": [
    {
     "name": "stdout",
     "output_type": "stream",
     "text": [
      "0.84\n"
     ]
    }
   ],
   "source": [
    "print(accuracy_score(y_test, rfe_predictions))"
   ]
  },
  {
   "cell_type": "code",
   "execution_count": 1270,
   "metadata": {},
   "outputs": [
    {
     "name": "stdout",
     "output_type": "stream",
     "text": [
      "[False  True False  True  True  True  True False False  True  True False\n",
      "  True False False  True False]\n",
      "[7 1 4 1 1 1 1 8 9 1 1 2 1 3 5 1 6]\n",
      "Index(['key', 'energy', 'liveliness', 'tempo', 'speechiness', 'acousticness',\n",
      "       'instrumentalness', 'time_signature', 'duration', 'loudness', 'valence',\n",
      "       'danceability', 'mode', 'time_signature_confidence', 'tempo_confidence',\n",
      "       'key_confidence', 'mode_confidence'],\n",
      "      dtype='object')\n",
      "0.8422222222222222\n"
     ]
    }
   ],
   "source": [
    "# testing 5 features\n",
    "rfe_model_5 = RFE(rfc_rfe, n_features_to_select=5)\n",
    "rfe_model_5 = rfe_model.fit(X_train, y_train)\n",
    "print(rfe_model_5.support_)\n",
    "print(rfe_model_5.ranking_)\n",
    "print(df_features.columns)\n",
    "rfe_predictions_5 = rfe_model_5.predict(X_test)\n",
    "print(accuracy_score(y_test, rfe_predictions_5))"
   ]
  },
  {
   "cell_type": "markdown",
   "metadata": {},
   "source": [
    "## RFC Optimized"
   ]
  },
  {
   "cell_type": "code",
   "execution_count": 1271,
   "metadata": {},
   "outputs": [],
   "source": [
    "rfc_optimized = RandomForestClassifier(n_estimators=100, min_samples_split=4, max_features='sqrt')"
   ]
  },
  {
   "cell_type": "code",
   "execution_count": 1272,
   "metadata": {},
   "outputs": [],
   "source": [
    "rfc_selector = SelectFromModel(rfc_optimized)\n",
    "X_new_rfc = rfc_selector.fit_transform(X, y)"
   ]
  },
  {
   "cell_type": "code",
   "execution_count": 1273,
   "metadata": {},
   "outputs": [
    {
     "data": {
      "text/plain": [
       "(6000, 6)"
      ]
     },
     "execution_count": 1273,
     "metadata": {},
     "output_type": "execute_result"
    }
   ],
   "source": [
    "X_new_rfc.shape"
   ]
  },
  {
   "cell_type": "code",
   "execution_count": 1274,
   "metadata": {},
   "outputs": [
    {
     "data": {
      "text/plain": [
       "['energy', 'tempo', 'speechiness', 'acousticness', 'instrumentalness', 'mode']"
      ]
     },
     "execution_count": 1274,
     "metadata": {},
     "output_type": "execute_result"
    }
   ],
   "source": [
    "df_features.columns[rfc_selector.get_support(indices=True)].tolist()"
   ]
  },
  {
   "cell_type": "code",
   "execution_count": 1275,
   "metadata": {},
   "outputs": [],
   "source": [
    "X = X_new_rfc\n",
    "y = df_labels\n",
    "\n",
    "X_train, X_test, y_train, y_test = train_test_split(X, y, test_size=0.3, random_state=101)"
   ]
  },
  {
   "cell_type": "code",
   "execution_count": 1276,
   "metadata": {},
   "outputs": [
    {
     "name": "stdout",
     "output_type": "stream",
     "text": [
      "[[366  10  35  26]\n",
      " [ 12 411   7  25]\n",
      " [ 39   9 392  15]\n",
      " [ 29  48  10 366]]\n",
      "----------------------\n",
      "             precision    recall  f1-score   support\n",
      "\n",
      "      dance       0.82      0.84      0.83       437\n",
      "       jazz       0.86      0.90      0.88       455\n",
      "        rap       0.88      0.86      0.87       455\n",
      "       rock       0.85      0.81      0.83       453\n",
      "\n",
      "avg / total       0.85      0.85      0.85      1800\n",
      "\n"
     ]
    }
   ],
   "source": [
    "rfc_optimized.fit(X_train, y_train)\n",
    "rfc_op_predictions = rfc_optimized.predict(X_test)\n",
    "np.round(accuracy_score(y_test, rfc_op_predictions), decimals=3)\n",
    "print(confusion_matrix(y_test, rfc_op_predictions))\n",
    "print('----------------------')\n",
    "print(classification_report(list(y_test), list(rfc_op_predictions)))"
   ]
  },
  {
   "cell_type": "markdown",
   "metadata": {},
   "source": [
    "## Analysis: \n",
    "    Random Forest Classifer — best and optimized yield similar accuracy score, because the accuracy is pretty consistent throughout the top 9-14 features with around 85 - 86% accuracy. But both are significantly better than the original RFC classifier.  "
   ]
  },
  {
   "cell_type": "markdown",
   "metadata": {},
   "source": [
    "# LOGISTIC REGRESSION"
   ]
  },
  {
   "cell_type": "code",
   "execution_count": 1277,
   "metadata": {},
   "outputs": [],
   "source": [
    "from sklearn.linear_model import LogisticRegression"
   ]
  },
  {
   "cell_type": "markdown",
   "metadata": {},
   "source": [
    "### Original"
   ]
  },
  {
   "cell_type": "code",
   "execution_count": 1278,
   "metadata": {},
   "outputs": [],
   "source": [
    "logreg = LogisticRegression()\n",
    "LR_original = LogisticRegression(solver='saga', multi_class='multinomial')"
   ]
  },
  {
   "cell_type": "code",
   "execution_count": 1279,
   "metadata": {},
   "outputs": [],
   "source": [
    "X = df_features_final\n",
    "y = df_labels\n",
    "\n",
    "X_train, X_test, y_train, y_test = train_test_split(X, y, test_size=0.3, random_state=101)"
   ]
  },
  {
   "cell_type": "code",
   "execution_count": 1280,
   "metadata": {},
   "outputs": [],
   "source": [
    "LR_original = LR_original.fit(X_train, y_train)"
   ]
  },
  {
   "cell_type": "code",
   "execution_count": 1281,
   "metadata": {},
   "outputs": [],
   "source": [
    "LR_og_pred = LR_original.predict(X_test)"
   ]
  },
  {
   "cell_type": "code",
   "execution_count": 1282,
   "metadata": {},
   "outputs": [
    {
     "name": "stdout",
     "output_type": "stream",
     "text": [
      "[[321  11  56  49]\n",
      " [ 17 393  13  32]\n",
      " [ 64  16 356  19]\n",
      " [ 42  56  18 337]]\n",
      "----------------------\n",
      "             precision    recall  f1-score   support\n",
      "\n",
      "      dance       0.72      0.73      0.73       437\n",
      "       jazz       0.83      0.86      0.84       455\n",
      "        rap       0.80      0.78      0.79       455\n",
      "       rock       0.77      0.74      0.76       453\n",
      "\n",
      "avg / total       0.78      0.78      0.78      1800\n",
      "\n"
     ]
    }
   ],
   "source": [
    "print(confusion_matrix(y_test, LR_og_pred))\n",
    "print('----------------------')\n",
    "print(classification_report(list(y_test), list(LR_og_pred)))"
   ]
  },
  {
   "cell_type": "markdown",
   "metadata": {},
   "source": [
    "# LR - Grid Search CV"
   ]
  },
  {
   "cell_type": "code",
   "execution_count": 1283,
   "metadata": {},
   "outputs": [],
   "source": [
    "LR_param_grid = {'solver': ['newton-cg', 'sag', 'saga', 'lbfgs'], 'multi_class': ['ovr', 'multinomial']}"
   ]
  },
  {
   "cell_type": "code",
   "execution_count": 1284,
   "metadata": {},
   "outputs": [],
   "source": [
    "LR_grid = GridSearchCV(logreg, LR_param_grid, verbose=3)"
   ]
  },
  {
   "cell_type": "code",
   "execution_count": 1285,
   "metadata": {
    "scrolled": true
   },
   "outputs": [
    {
     "name": "stdout",
     "output_type": "stream",
     "text": [
      "Fitting 3 folds for each of 8 candidates, totalling 24 fits\n",
      "[CV] multi_class=ovr, solver=newton-cg ...............................\n",
      "[CV]  multi_class=ovr, solver=newton-cg, score=0.7781740370898717, total=   0.1s\n",
      "[CV] multi_class=ovr, solver=newton-cg ...............................\n",
      "[CV]  multi_class=ovr, solver=newton-cg, score=0.7412437455325233, total=   0.1s\n",
      "[CV] multi_class=ovr, solver=newton-cg ...............................\n",
      "[CV]  multi_class=ovr, solver=newton-cg, score=0.7684060042887777, total=   0.1s\n",
      "[CV] multi_class=ovr, solver=sag .....................................\n"
     ]
    },
    {
     "name": "stderr",
     "output_type": "stream",
     "text": [
      "[Parallel(n_jobs=1)]: Done   1 out of   1 | elapsed:    0.1s remaining:    0.0s\n",
      "[Parallel(n_jobs=1)]: Done   2 out of   2 | elapsed:    0.1s remaining:    0.0s\n"
     ]
    },
    {
     "name": "stdout",
     "output_type": "stream",
     "text": [
      "[CV]  multi_class=ovr, solver=sag, score=0.7781740370898717, total=   0.1s\n",
      "[CV] multi_class=ovr, solver=sag .....................................\n",
      "[CV]  multi_class=ovr, solver=sag, score=0.7412437455325233, total=   0.1s\n",
      "[CV] multi_class=ovr, solver=sag .....................................\n",
      "[CV]  multi_class=ovr, solver=sag, score=0.7684060042887777, total=   0.1s\n",
      "[CV] multi_class=ovr, solver=saga ....................................\n",
      "[CV]  multi_class=ovr, solver=saga, score=0.7781740370898717, total=   0.1s\n",
      "[CV] multi_class=ovr, solver=saga ....................................\n",
      "[CV]  multi_class=ovr, solver=saga, score=0.7412437455325233, total=   0.1s\n",
      "[CV] multi_class=ovr, solver=saga ....................................\n",
      "[CV]  multi_class=ovr, solver=saga, score=0.7684060042887777, total=   0.1s\n",
      "[CV] multi_class=ovr, solver=lbfgs ...................................\n",
      "[CV]  multi_class=ovr, solver=lbfgs, score=0.7781740370898717, total=   0.0s\n",
      "[CV] multi_class=ovr, solver=lbfgs ...................................\n",
      "[CV]  multi_class=ovr, solver=lbfgs, score=0.7412437455325233, total=   0.0s\n",
      "[CV] multi_class=ovr, solver=lbfgs ...................................\n",
      "[CV]  multi_class=ovr, solver=lbfgs, score=0.7684060042887777, total=   0.0s\n",
      "[CV] multi_class=multinomial, solver=newton-cg .......................\n",
      "[CV]  multi_class=multinomial, solver=newton-cg, score=0.7788873038516405, total=   0.1s\n",
      "[CV] multi_class=multinomial, solver=newton-cg .......................\n",
      "[CV]  multi_class=multinomial, solver=newton-cg, score=0.7362401715511079, total=   0.1s\n",
      "[CV] multi_class=multinomial, solver=newton-cg .......................\n",
      "[CV]  multi_class=multinomial, solver=newton-cg, score=0.771265189421015, total=   0.1s\n",
      "[CV] multi_class=multinomial, solver=sag .............................\n",
      "[CV]  multi_class=multinomial, solver=sag, score=0.7788873038516405, total=   0.1s\n",
      "[CV] multi_class=multinomial, solver=sag .............................\n",
      "[CV]  multi_class=multinomial, solver=sag, score=0.7362401715511079, total=   0.1s\n",
      "[CV] multi_class=multinomial, solver=sag .............................\n",
      "[CV]  multi_class=multinomial, solver=sag, score=0.771265189421015, total=   0.1s\n",
      "[CV] multi_class=multinomial, solver=saga ............................\n",
      "[CV]  multi_class=multinomial, solver=saga, score=0.7788873038516405, total=   0.1s\n",
      "[CV] multi_class=multinomial, solver=saga ............................\n",
      "[CV]  multi_class=multinomial, solver=saga, score=0.7362401715511079, total=   0.0s\n",
      "[CV] multi_class=multinomial, solver=saga ............................\n",
      "[CV]  multi_class=multinomial, solver=saga, score=0.771265189421015, total=   0.1s\n",
      "[CV] multi_class=multinomial, solver=lbfgs ...........................\n",
      "[CV]  multi_class=multinomial, solver=lbfgs, score=0.7788873038516405, total=   0.1s\n",
      "[CV] multi_class=multinomial, solver=lbfgs ...........................\n",
      "[CV]  multi_class=multinomial, solver=lbfgs, score=0.7362401715511079, total=   0.0s\n",
      "[CV] multi_class=multinomial, solver=lbfgs ...........................\n",
      "[CV]  multi_class=multinomial, solver=lbfgs, score=0.771265189421015, total=   0.0s\n"
     ]
    },
    {
     "name": "stderr",
     "output_type": "stream",
     "text": [
      "[Parallel(n_jobs=1)]: Done  24 out of  24 | elapsed:    1.6s finished\n"
     ]
    },
    {
     "data": {
      "text/plain": [
       "GridSearchCV(cv=None, error_score='raise',\n",
       "       estimator=LogisticRegression(C=1.0, class_weight=None, dual=False, fit_intercept=True,\n",
       "          intercept_scaling=1, max_iter=100, multi_class='ovr', n_jobs=1,\n",
       "          penalty='l2', random_state=None, solver='liblinear', tol=0.0001,\n",
       "          verbose=0, warm_start=False),\n",
       "       fit_params=None, iid=True, n_jobs=1,\n",
       "       param_grid={'solver': ['newton-cg', 'sag', 'saga', 'lbfgs'], 'multi_class': ['ovr', 'multinomial']},\n",
       "       pre_dispatch='2*n_jobs', refit=True, return_train_score='warn',\n",
       "       scoring=None, verbose=3)"
      ]
     },
     "execution_count": 1285,
     "metadata": {},
     "output_type": "execute_result"
    }
   ],
   "source": [
    "LR_grid.fit(X_train, y_train)"
   ]
  },
  {
   "cell_type": "code",
   "execution_count": 1286,
   "metadata": {},
   "outputs": [
    {
     "data": {
      "text/plain": [
       "{'multi_class': 'ovr', 'solver': 'newton-cg'}"
      ]
     },
     "execution_count": 1286,
     "metadata": {},
     "output_type": "execute_result"
    }
   ],
   "source": [
    "LR_grid.best_params_"
   ]
  },
  {
   "cell_type": "markdown",
   "metadata": {},
   "source": [
    "### Logistic Regression - Best"
   ]
  },
  {
   "cell_type": "code",
   "execution_count": 1287,
   "metadata": {},
   "outputs": [
    {
     "data": {
      "text/plain": [
       "LogisticRegression(C=1.0, class_weight=None, dual=False, fit_intercept=True,\n",
       "          intercept_scaling=1, max_iter=100, multi_class='multinomial',\n",
       "          n_jobs=1, penalty='l2', random_state=None, solver='newton-cg',\n",
       "          tol=0.0001, verbose=0, warm_start=False)"
      ]
     },
     "execution_count": 1287,
     "metadata": {},
     "output_type": "execute_result"
    }
   ],
   "source": [
    "LR_best = LogisticRegression(solver='newton-cg', multi_class='multinomial')\n",
    "LR_best.fit(X_train, y_train)"
   ]
  },
  {
   "cell_type": "code",
   "execution_count": 1288,
   "metadata": {},
   "outputs": [],
   "source": [
    "LR_best_pred = LR_best.predict(X_test)"
   ]
  },
  {
   "cell_type": "code",
   "execution_count": 1289,
   "metadata": {},
   "outputs": [
    {
     "data": {
      "text/plain": [
       "0.782"
      ]
     },
     "execution_count": 1289,
     "metadata": {},
     "output_type": "execute_result"
    }
   ],
   "source": [
    "np.round(accuracy_score(y_test, LR_best_pred), decimals=3)"
   ]
  },
  {
   "cell_type": "code",
   "execution_count": 1290,
   "metadata": {},
   "outputs": [
    {
     "name": "stdout",
     "output_type": "stream",
     "text": [
      "[[321  11  56  49]\n",
      " [ 17 393  13  32]\n",
      " [ 64  16 356  19]\n",
      " [ 42  56  18 337]]\n",
      "             precision    recall  f1-score   support\n",
      "\n",
      "      dance       0.72      0.73      0.73       437\n",
      "       jazz       0.83      0.86      0.84       455\n",
      "        rap       0.80      0.78      0.79       455\n",
      "       rock       0.77      0.74      0.76       453\n",
      "\n",
      "avg / total       0.78      0.78      0.78      1800\n",
      "\n"
     ]
    }
   ],
   "source": [
    "print(confusion_matrix(y_test, LR_best_pred))\n",
    "print(classification_report(list(y_test), list(LR_best_pred)))"
   ]
  },
  {
   "cell_type": "markdown",
   "metadata": {},
   "source": [
    "### Selecting Best Features"
   ]
  },
  {
   "cell_type": "code",
   "execution_count": 1291,
   "metadata": {},
   "outputs": [],
   "source": [
    "logreg_selector = SelectFromModel(LR_original, prefit=True)"
   ]
  },
  {
   "cell_type": "code",
   "execution_count": 1292,
   "metadata": {},
   "outputs": [],
   "source": [
    "X_new_logreg = logreg_selector.transform(X)"
   ]
  },
  {
   "cell_type": "code",
   "execution_count": 1293,
   "metadata": {},
   "outputs": [
    {
     "data": {
      "text/plain": [
       "(6000, 7)"
      ]
     },
     "execution_count": 1293,
     "metadata": {},
     "output_type": "execute_result"
    }
   ],
   "source": [
    "X_new_logreg.shape"
   ]
  },
  {
   "cell_type": "code",
   "execution_count": 1294,
   "metadata": {},
   "outputs": [
    {
     "data": {
      "text/plain": [
       "['energy',\n",
       " 'speechiness',\n",
       " 'acousticness',\n",
       " 'valence',\n",
       " 'danceability',\n",
       " 'mode',\n",
       " 'key_confidence']"
      ]
     },
     "execution_count": 1294,
     "metadata": {},
     "output_type": "execute_result"
    }
   ],
   "source": [
    "df_features.columns[logreg_selector.get_support(indices=True)].tolist()"
   ]
  },
  {
   "cell_type": "code",
   "execution_count": null,
   "metadata": {},
   "outputs": [],
   "source": []
  },
  {
   "cell_type": "markdown",
   "metadata": {},
   "source": [
    "### LR - RFE"
   ]
  },
  {
   "cell_type": "code",
   "execution_count": 1295,
   "metadata": {},
   "outputs": [],
   "source": [
    "rfe_lr = RFE(logreg, n_features_to_select=5)"
   ]
  },
  {
   "cell_type": "code",
   "execution_count": 1296,
   "metadata": {},
   "outputs": [],
   "source": [
    "rfe_lr = rfe_lr.fit(X_train, y_train)"
   ]
  },
  {
   "cell_type": "code",
   "execution_count": 1297,
   "metadata": {},
   "outputs": [
    {
     "name": "stdout",
     "output_type": "stream",
     "text": [
      "[False  True False False  True  True  True False False False False False\n",
      "  True False False False False]\n"
     ]
    }
   ],
   "source": [
    "print(rfe_lr.support_)\n"
   ]
  },
  {
   "cell_type": "code",
   "execution_count": 1298,
   "metadata": {},
   "outputs": [
    {
     "name": "stdout",
     "output_type": "stream",
     "text": [
      "[13  1 11  7  1  1  1  8 12  4  5  3  1  6 10  2  9]\n",
      "Index(['key', 'energy', 'liveliness', 'tempo', 'speechiness', 'acousticness',\n",
      "       'instrumentalness', 'time_signature', 'duration', 'loudness', 'valence',\n",
      "       'danceability', 'mode', 'time_signature_confidence', 'tempo_confidence',\n",
      "       'key_confidence', 'mode_confidence'],\n",
      "      dtype='object')\n"
     ]
    }
   ],
   "source": [
    "print(rfe_lr.ranking_)\n",
    "print(df_features.columns)"
   ]
  },
  {
   "cell_type": "code",
   "execution_count": 1299,
   "metadata": {},
   "outputs": [],
   "source": [
    "rfe_logreg_predictions = rfe_lr.predict(X_test)"
   ]
  },
  {
   "cell_type": "code",
   "execution_count": 1300,
   "metadata": {},
   "outputs": [
    {
     "name": "stdout",
     "output_type": "stream",
     "text": [
      "0.7305555555555555\n"
     ]
    }
   ],
   "source": [
    "print(accuracy_score(y_test, rfe_logreg_predictions))"
   ]
  },
  {
   "cell_type": "markdown",
   "metadata": {},
   "source": [
    "## Logistic Regression Optimized"
   ]
  },
  {
   "cell_type": "code",
   "execution_count": 1301,
   "metadata": {},
   "outputs": [],
   "source": [
    "logreg_optimized = LogisticRegression(solver='newton-cg', multi_class='multinomial')"
   ]
  },
  {
   "cell_type": "code",
   "execution_count": 1302,
   "metadata": {},
   "outputs": [],
   "source": [
    "X = X_new_logreg\n",
    "y = df_labels\n",
    "\n",
    "X_train, X_test, y_train, y_test = train_test_split(X, y, test_size=0.3, random_state=101)"
   ]
  },
  {
   "cell_type": "code",
   "execution_count": 1303,
   "metadata": {},
   "outputs": [
    {
     "name": "stdout",
     "output_type": "stream",
     "text": [
      "accuracy score:  0.745\n",
      "[[320   9  64  44]\n",
      " [ 11 383  13  48]\n",
      " [ 75  15 337  28]\n",
      " [ 60  79  13 301]]\n",
      "---------------------\n",
      "             precision    recall  f1-score   support\n",
      "\n",
      "      dance       0.69      0.73      0.71       437\n",
      "       jazz       0.79      0.84      0.81       455\n",
      "        rap       0.79      0.74      0.76       455\n",
      "       rock       0.71      0.66      0.69       453\n",
      "\n",
      "avg / total       0.75      0.74      0.74      1800\n",
      "\n"
     ]
    }
   ],
   "source": [
    "logreg_optimized.fit(X_train, y_train)\n",
    "logreg_op_pred = logreg_optimized.predict(X_test)\n",
    "print('accuracy score: ', np.round(accuracy_score(y_test, logreg_op_pred), decimals=3))\n",
    "print(confusion_matrix(y_test, logreg_op_pred))\n",
    "print('---------------------')\n",
    "print(classification_report(list(y_test), list(logreg_op_pred)))"
   ]
  },
  {
   "cell_type": "markdown",
   "metadata": {},
   "source": [
    "# Analysis: Logistic Regression"
   ]
  },
  {
   "cell_type": "markdown",
   "metadata": {},
   "source": [
    "Logistic regression original performed best with 78% accuracy. After best params were determined, accuracy went down. SelectFromModel method on Logistic Regression returned the top 57 features as 'energy', 'speechiness', 'acousticness', 'danceability', 'valence', 'key_confidence', 'mode'. When these features alone were used, accuracy was only 73%, probably because it was not big enough. "
   ]
  },
  {
   "cell_type": "code",
   "execution_count": null,
   "metadata": {},
   "outputs": [],
   "source": []
  }
 ],
 "metadata": {
  "kernelspec": {
   "display_name": "Python 3",
   "language": "python",
   "name": "python3"
  },
  "language_info": {
   "codemirror_mode": {
    "name": "ipython",
    "version": 3
   },
   "file_extension": ".py",
   "mimetype": "text/x-python",
   "name": "python",
   "nbconvert_exporter": "python",
   "pygments_lexer": "ipython3",
   "version": "3.6.4"
  }
 },
 "nbformat": 4,
 "nbformat_minor": 2
}
