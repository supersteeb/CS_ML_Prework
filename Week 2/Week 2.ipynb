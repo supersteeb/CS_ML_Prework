{
 "cells": [
  {
   "cell_type": "code",
   "execution_count": 594,
   "metadata": {},
   "outputs": [],
   "source": [
    "import pandas as pd"
   ]
  },
  {
   "cell_type": "code",
   "execution_count": 595,
   "metadata": {},
   "outputs": [],
   "source": [
    "songs_dataset = pd.read_json('MasterSongList.json')"
   ]
  },
  {
   "cell_type": "code",
   "execution_count": 596,
   "metadata": {},
   "outputs": [],
   "source": [
    "#checking\n",
    "#songs_dataset.head(10)"
   ]
  },
  {
   "cell_type": "code",
   "execution_count": 597,
   "metadata": {},
   "outputs": [],
   "source": [
    "songs_dataset.loc[:, 'genres'] = songs_dataset['genres'].apply(''.join)\n",
    "\n",
    "def consolidateGenre(genre):\n",
    "    if (len(genre) > 0):\n",
    "        return genre.split(':')[0]\n",
    "    else:\n",
    "        return genre\n",
    "    \n",
    "songs_dataset.loc[:, 'genres'] = songs_dataset['genres'].apply(consolidateGenre)"
   ]
  },
  {
   "cell_type": "code",
   "execution_count": 598,
   "metadata": {},
   "outputs": [],
   "source": [
    "#songs_dataset.head(10)"
   ]
  },
  {
   "cell_type": "code",
   "execution_count": 599,
   "metadata": {},
   "outputs": [],
   "source": [
    "#songs_dataset.head(1).to_dict()"
   ]
  },
  {
   "cell_type": "code",
   "execution_count": 600,
   "metadata": {},
   "outputs": [
    {
     "name": "stdout",
     "output_type": "stream",
     "text": [
      "(1973, 16)\n",
      "(2285, 16)\n",
      "(7174, 16)\n",
      "(2855, 16)\n"
     ]
    }
   ],
   "source": [
    "jazz_df = songs_dataset[(songs_dataset['genres'] == 'jazz') & (songs_dataset['yt_views'] > 1000)]\n",
    "print(jazz_df.shape)\n",
    "dance_df = songs_dataset[(songs_dataset['genres'] == 'dance') & (songs_dataset['yt_views'] > 1000)]\n",
    "print(dance_df.shape)\n",
    "rock_df = songs_dataset[(songs_dataset['genres'] == 'rock') & (songs_dataset['yt_views'] > 1000)]\n",
    "print(rock_df.shape)\n",
    "rap_df = songs_dataset[(songs_dataset['genres'] == 'rap') & (songs_dataset['yt_views'] > 1000)]\n",
    "print(rap_df.shape)"
   ]
  },
  {
   "cell_type": "code",
   "execution_count": 601,
   "metadata": {},
   "outputs": [
    {
     "name": "stdout",
     "output_type": "stream",
     "text": [
      "(1973, 16)\n",
      "(1677, 17)\n"
     ]
    }
   ],
   "source": [
    "#consolidating jazz audio features\n",
    "\n",
    "jazz_df = songs_dataset[(songs_dataset['genres'] == 'jazz') & (songs_dataset['yt_views'] > 1000)]\n",
    "print(jazz_df.shape) #1973 rows\n",
    "\n",
    "jazzAFL = [] #AFL - audio_feature_list\n",
    "for audio_feature in jazz_df['audio_features']:\n",
    "    jazzAFL.append(audio_feature)\n",
    "\n",
    "audio_feature_headers = ['key', 'energy', 'liveliness', 'tempo', 'speechiness', 'acousticness', 'instrumentalness', 'time_signature', 'duration', 'loudness', 'valence', 'danceability', 'mode', 'time_signature_confidence', 'tempo_confidence', 'key_confidence', 'mode_confidence']\n",
    "\n",
    "jazz_AF = pd.DataFrame(jazzAFL, columns=audio_feature_headers).dropna() #AF - audio_features\n",
    "print(jazz_AF.dropna().shape) #1677 rows of jazz\n"
   ]
  },
  {
   "cell_type": "code",
   "execution_count": 602,
   "metadata": {},
   "outputs": [],
   "source": [
    "jazz_AF['genres'] = jazz_df['genres']\n",
    "jazz_AF['genres'].fillna(value='jazz', inplace=True)"
   ]
  },
  {
   "cell_type": "code",
   "execution_count": 603,
   "metadata": {},
   "outputs": [
    {
     "name": "stdout",
     "output_type": "stream",
     "text": [
      "(2285, 16)\n",
      "(1938, 17)\n"
     ]
    }
   ],
   "source": [
    "#consolidating dance audio features\n",
    "dance_df = songs_dataset[(songs_dataset['genres'] == 'dance') & (songs_dataset['yt_views'] > 1000)]\n",
    "print(dance_df.shape)\n",
    "\n",
    "danceAFL = []\n",
    "for audio_feature in dance_df['audio_features']:\n",
    "    danceAFL.append(audio_feature)\n",
    "    \n",
    "dance_AF = pd.DataFrame(danceAFL, columns=audio_feature_headers).dropna()\n",
    "print(dance_AF.shape) #1938 rows of dance"
   ]
  },
  {
   "cell_type": "code",
   "execution_count": 604,
   "metadata": {},
   "outputs": [],
   "source": [
    "dance_AF['genres'] = dance_df['genres']\n",
    "dance_AF['genres'].fillna(value='dance', inplace=True)"
   ]
  },
  {
   "cell_type": "code",
   "execution_count": 605,
   "metadata": {},
   "outputs": [
    {
     "name": "stdout",
     "output_type": "stream",
     "text": [
      "(7174, 16)\n",
      "(6245, 17)\n"
     ]
    }
   ],
   "source": [
    "#consolidating rock audio features\n",
    "\n",
    "rock_df = songs_dataset[(songs_dataset['genres'] == 'rock') & (songs_dataset['yt_views'] > 1000)]\n",
    "print(rock_df.shape)\n",
    "\n",
    "rockAFL = []\n",
    "for audio_feature in rock_df['audio_features']:\n",
    "    rockAFL.append(audio_feature)\n",
    "    \n",
    "rock_AF = pd.DataFrame(rockAFL, columns=audio_feature_headers).dropna()\n",
    "print(rock_AF.shape) #6245 rock songs"
   ]
  },
  {
   "cell_type": "code",
   "execution_count": 606,
   "metadata": {},
   "outputs": [],
   "source": [
    "rock_AF['genres'] = rock_df['genres'] #adding genre column\n",
    "rock_AF['genres'].fillna(value='rock', inplace=True) "
   ]
  },
  {
   "cell_type": "code",
   "execution_count": 607,
   "metadata": {},
   "outputs": [
    {
     "name": "stdout",
     "output_type": "stream",
     "text": [
      "(2855, 16)\n",
      "(2411, 17)\n"
     ]
    }
   ],
   "source": [
    "# consolidating rap audio features\n",
    "rap_df = songs_dataset[(songs_dataset['genres'] == 'rap') & (songs_dataset['yt_views'] > 1000)]\n",
    "print(rap_df.shape)\n",
    "\n",
    "rapAFL = []\n",
    "for audio_feature in rap_df['audio_features']:\n",
    "    rapAFL.append(audio_feature)\n",
    "    \n",
    "rap_AF = pd.DataFrame(rapAFL, columns=audio_feature_headers).dropna()\n",
    "print(rap_AF.shape) #2411 rap songs"
   ]
  },
  {
   "cell_type": "code",
   "execution_count": 608,
   "metadata": {},
   "outputs": [],
   "source": [
    "rap_AF['genres'] = rap_df['genres'] #when i do this, many go NaN\n",
    "rap_AF['genres'].fillna(value='rap', inplace=True)\n",
    "#rap_AF"
   ]
  },
  {
   "cell_type": "markdown",
   "metadata": {},
   "source": [
    "## Consolidating & Balancing"
   ]
  },
  {
   "cell_type": "code",
   "execution_count": 609,
   "metadata": {},
   "outputs": [],
   "source": [
    "#using below as guide\n",
    "#rap_df_features2 = df_features2[df_features2['genres'] == 'rap'].sample(n=1075, replace=True)\n",
    "#consolidatedRapCountry = consolidatedRapCountry[(songs_dataset['genres'] == 'rap') | (songs_dataset['genres'] == 'country')]\n",
    "#jazz_features.fillna(anime_dataset['rating'].median(), inplace=True)"
   ]
  },
  {
   "cell_type": "code",
   "execution_count": 610,
   "metadata": {},
   "outputs": [
    {
     "data": {
      "text/plain": [
       "(6000, 18)"
      ]
     },
     "execution_count": 610,
     "metadata": {},
     "output_type": "execute_result"
    }
   ],
   "source": [
    "#consolidating all the features picking 1500 from each\n",
    "consolidatedSongFeatures = pd.concat((jazz_AF.sample(n=1500, replace=True), dance_AF.sample(n=1500, replace=True), rock_AF.sample(n=1500, replace=True), rap_AF.sample(n=1500, replace=True)), axis=0)\n",
    "consolidatedSongFeatures.shape\n",
    "#consolidatedSongFeatures"
   ]
  },
  {
   "cell_type": "code",
   "execution_count": 611,
   "metadata": {},
   "outputs": [],
   "source": [
    "df_labels = consolidatedSongFeatures['genres']\n",
    "df_features = consolidatedSongFeatures.drop('genres', axis=1)\n",
    "#df_features"
   ]
  },
  {
   "cell_type": "code",
   "execution_count": 612,
   "metadata": {},
   "outputs": [],
   "source": [
    "from sklearn.preprocessing import StandardScaler\n",
    "standard_scaler = StandardScaler()\n",
    "df_features_final = standard_scaler.fit_transform(df_features)"
   ]
  },
  {
   "cell_type": "markdown",
   "metadata": {},
   "source": [
    "# Train Test Split"
   ]
  },
  {
   "cell_type": "code",
   "execution_count": 613,
   "metadata": {},
   "outputs": [],
   "source": [
    "from sklearn.cross_validation import train_test_split\n",
    "X = df_features_final\n",
    "y = df_labels\n",
    "\n",
    "X_train, X_test, y_train, y_test = train_test_split(X, y, test_size=0.3, random_state=101)\n"
   ]
  },
  {
   "cell_type": "markdown",
   "metadata": {},
   "source": [
    "# Support Vector Machine"
   ]
  },
  {
   "cell_type": "code",
   "execution_count": 614,
   "metadata": {},
   "outputs": [],
   "source": [
    "from sklearn.svm import SVC"
   ]
  },
  {
   "cell_type": "code",
   "execution_count": 615,
   "metadata": {},
   "outputs": [],
   "source": [
    "svc_original = SVC(C=1, gamma=1)"
   ]
  },
  {
   "cell_type": "code",
   "execution_count": 616,
   "metadata": {},
   "outputs": [],
   "source": [
    "svc_original.fit(X_train, y_train)\n",
    "svc_predictions = svc_original.predict(X_test)"
   ]
  },
  {
   "cell_type": "code",
   "execution_count": 617,
   "metadata": {},
   "outputs": [
    {
     "name": "stdout",
     "output_type": "stream",
     "text": [
      "[[254   1  23 159]\n",
      " [  0 236   0 219]\n",
      " [  7   0 293 155]\n",
      " [  9   2   5 437]]\n",
      "             precision    recall  f1-score   support\n",
      "\n",
      "      dance       0.94      0.58      0.72       437\n",
      "       jazz       0.99      0.52      0.68       455\n",
      "        rap       0.91      0.64      0.76       455\n",
      "       rock       0.45      0.96      0.61       453\n",
      "\n",
      "avg / total       0.82      0.68      0.69      1800\n",
      "\n"
     ]
    }
   ],
   "source": [
    "from sklearn.metrics import confusion_matrix, classification_report\n",
    "print(confusion_matrix(y_test, svc_predictions))\n",
    "print(classification_report(list(y_test), list(svc_predictions)))"
   ]
  },
  {
   "cell_type": "markdown",
   "metadata": {},
   "source": [
    "### SVM - GridSearchCV"
   ]
  },
  {
   "cell_type": "code",
   "execution_count": 618,
   "metadata": {},
   "outputs": [],
   "source": [
    "from sklearn.model_selection import GridSearchCV\n",
    "param_grid = {'C': [0.1,1, 10], 'gamma': [1,0.1,0.01,0.001]}\n"
   ]
  },
  {
   "cell_type": "code",
   "execution_count": 619,
   "metadata": {},
   "outputs": [
    {
     "name": "stdout",
     "output_type": "stream",
     "text": [
      "Fitting 3 folds for each of 12 candidates, totalling 36 fits\n",
      "[CV] C=0.1, gamma=1 ..................................................\n",
      "[CV] ........ C=0.1, gamma=1, score=0.25320970042796004, total=   0.6s\n",
      "[CV] C=0.1, gamma=1 ..................................................\n"
     ]
    },
    {
     "name": "stderr",
     "output_type": "stream",
     "text": [
      "[Parallel(n_jobs=1)]: Done   1 out of   1 | elapsed:    0.8s remaining:    0.0s\n"
     ]
    },
    {
     "name": "stdout",
     "output_type": "stream",
     "text": [
      "[CV] ........ C=0.1, gamma=1, score=0.25303788420300216, total=   0.6s\n",
      "[CV] C=0.1, gamma=1 ..................................................\n"
     ]
    },
    {
     "name": "stderr",
     "output_type": "stream",
     "text": [
      "[Parallel(n_jobs=1)]: Done   2 out of   2 | elapsed:    1.6s remaining:    0.0s\n"
     ]
    },
    {
     "name": "stdout",
     "output_type": "stream",
     "text": [
      "[CV] ........ C=0.1, gamma=1, score=0.25303788420300216, total=   0.6s\n",
      "[CV] C=0.1, gamma=0.1 ................................................\n",
      "[CV] ....... C=0.1, gamma=0.1, score=0.7631954350927247, total=   0.4s\n",
      "[CV] C=0.1, gamma=0.1 ................................................\n",
      "[CV] ....... C=0.1, gamma=0.1, score=0.7441029306647605, total=   0.4s\n",
      "[CV] C=0.1, gamma=0.1 ................................................\n",
      "[CV] ....... C=0.1, gamma=0.1, score=0.7383845604002859, total=   0.4s\n",
      "[CV] C=0.1, gamma=0.01 ...............................................\n",
      "[CV] ...... C=0.1, gamma=0.01, score=0.7560627674750356, total=   0.4s\n",
      "[CV] C=0.1, gamma=0.01 ...............................................\n",
      "[CV] ...... C=0.1, gamma=0.01, score=0.7576840600428878, total=   0.4s\n",
      "[CV] C=0.1, gamma=0.01 ...............................................\n",
      "[CV] ...... C=0.1, gamma=0.01, score=0.7441029306647605, total=   0.4s\n",
      "[CV] C=0.1, gamma=0.001 ..............................................\n",
      "[CV] ..... C=0.1, gamma=0.001, score=0.6055634807417974, total=   0.6s\n",
      "[CV] C=0.1, gamma=0.001 ..............................................\n",
      "[CV] ..... C=0.1, gamma=0.001, score=0.6347390993566834, total=   0.6s\n",
      "[CV] C=0.1, gamma=0.001 ..............................................\n",
      "[CV] ..... C=0.1, gamma=0.001, score=0.6132952108649035, total=   0.5s\n",
      "[CV] C=1, gamma=1 ....................................................\n",
      "[CV] ........... C=1, gamma=1, score=0.6262482168330956, total=   0.7s\n",
      "[CV] C=1, gamma=1 ....................................................\n",
      "[CV] ........... C=1, gamma=1, score=0.6011436740528949, total=   0.6s\n",
      "[CV] C=1, gamma=1 ....................................................\n",
      "[CV] ........... C=1, gamma=1, score=0.6075768406004288, total=   0.6s\n",
      "[CV] C=1, gamma=0.1 ..................................................\n",
      "[CV] ......... C=1, gamma=0.1, score=0.7881597717546363, total=   0.3s\n",
      "[CV] C=1, gamma=0.1 ..................................................\n",
      "[CV] ......... C=1, gamma=0.1, score=0.7969978556111508, total=   0.3s\n",
      "[CV] C=1, gamma=0.1 ..................................................\n",
      "[CV] ......... C=1, gamma=0.1, score=0.7898498927805575, total=   0.3s\n",
      "[CV] C=1, gamma=0.01 .................................................\n",
      "[CV] ........ C=1, gamma=0.01, score=0.7689015691868759, total=   0.3s\n",
      "[CV] C=1, gamma=0.01 .................................................\n",
      "[CV] ......... C=1, gamma=0.01, score=0.781987133666905, total=   0.3s\n",
      "[CV] C=1, gamma=0.01 .................................................\n",
      "[CV] ........ C=1, gamma=0.01, score=0.7598284488920658, total=   0.3s\n",
      "[CV] C=1, gamma=0.001 ................................................\n",
      "[CV] ....... C=1, gamma=0.001, score=0.7574893009985735, total=   0.4s\n",
      "[CV] C=1, gamma=0.001 ................................................\n",
      "[CV] ....... C=1, gamma=0.001, score=0.7626876340243031, total=   0.4s\n",
      "[CV] C=1, gamma=0.001 ................................................\n",
      "[CV] ....... C=1, gamma=0.001, score=0.7426733380986419, total=   0.4s\n",
      "[CV] C=10, gamma=1 ...................................................\n",
      "[CV] .......... C=10, gamma=1, score=0.6419400855920114, total=   0.6s\n",
      "[CV] C=10, gamma=1 ...................................................\n",
      "[CV] .......... C=10, gamma=1, score=0.6182987848463188, total=   0.7s\n",
      "[CV] C=10, gamma=1 ...................................................\n",
      "[CV] .......... C=10, gamma=1, score=0.6268763402430307, total=   0.6s\n",
      "[CV] C=10, gamma=0.1 .................................................\n",
      "[CV] ........ C=10, gamma=0.1, score=0.7788873038516405, total=   0.3s\n",
      "[CV] C=10, gamma=0.1 .................................................\n",
      "[CV] ........ C=10, gamma=0.1, score=0.7834167262330236, total=   0.4s\n",
      "[CV] C=10, gamma=0.1 .................................................\n",
      "[CV] ........ C=10, gamma=0.1, score=0.7905646890636169, total=   0.4s\n",
      "[CV] C=10, gamma=0.01 ................................................\n",
      "[CV] ........ C=10, gamma=0.01, score=0.782453637660485, total=   0.2s\n",
      "[CV] C=10, gamma=0.01 ................................................\n",
      "[CV] ....... C=10, gamma=0.01, score=0.7884203002144389, total=   0.3s\n",
      "[CV] C=10, gamma=0.01 ................................................\n",
      "[CV] ....... C=10, gamma=0.01, score=0.7698355968548963, total=   0.2s\n",
      "[CV] C=10, gamma=0.001 ...............................................\n",
      "[CV] ...... C=10, gamma=0.001, score=0.7624821683309557, total=   0.2s\n",
      "[CV] C=10, gamma=0.001 ...............................................\n",
      "[CV] ...... C=10, gamma=0.001, score=0.7726947819871337, total=   0.3s\n",
      "[CV] C=10, gamma=0.001 ...............................................\n",
      "[CV] ...... C=10, gamma=0.001, score=0.7533952823445318, total=   0.3s\n"
     ]
    },
    {
     "name": "stderr",
     "output_type": "stream",
     "text": [
      "[Parallel(n_jobs=1)]: Done  36 out of  36 | elapsed:   21.7s finished\n"
     ]
    },
    {
     "data": {
      "text/plain": [
       "GridSearchCV(cv=None, error_score='raise',\n",
       "       estimator=SVC(C=1, cache_size=200, class_weight=None, coef0=0.0,\n",
       "  decision_function_shape='ovr', degree=3, gamma=1, kernel='rbf',\n",
       "  max_iter=-1, probability=False, random_state=None, shrinking=True,\n",
       "  tol=0.001, verbose=False),\n",
       "       fit_params=None, iid=True, n_jobs=1,\n",
       "       param_grid={'C': [0.1, 1, 10], 'gamma': [1, 0.1, 0.01, 0.001]},\n",
       "       pre_dispatch='2*n_jobs', refit=True, return_train_score='warn',\n",
       "       scoring=None, verbose=3)"
      ]
     },
     "execution_count": 619,
     "metadata": {},
     "output_type": "execute_result"
    }
   ],
   "source": [
    "grid = GridSearchCV(svc_original, param_grid, verbose=3)\n",
    "grid.fit(X_train, y_train)"
   ]
  },
  {
   "cell_type": "code",
   "execution_count": 620,
   "metadata": {},
   "outputs": [
    {
     "data": {
      "text/plain": [
       "{'C': 1, 'gamma': 0.1}"
      ]
     },
     "execution_count": 620,
     "metadata": {},
     "output_type": "execute_result"
    }
   ],
   "source": [
    "grid.best_params_"
   ]
  },
  {
   "cell_type": "markdown",
   "metadata": {},
   "source": [
    "### Note: Make sure SVC has same C & gamma"
   ]
  },
  {
   "cell_type": "code",
   "execution_count": 636,
   "metadata": {},
   "outputs": [
    {
     "name": "stdout",
     "output_type": "stream",
     "text": [
      "[[338   8  55  36]\n",
      " [  6 414   9  26]\n",
      " [ 45  18 356  36]\n",
      " [ 42  51   7 353]]\n",
      "             precision    recall  f1-score   support\n",
      "\n",
      "      dance       0.78      0.77      0.78       437\n",
      "       jazz       0.84      0.91      0.88       455\n",
      "        rap       0.83      0.78      0.81       455\n",
      "       rock       0.78      0.78      0.78       453\n",
      "\n",
      "avg / total       0.81      0.81      0.81      1800\n",
      "\n"
     ]
    }
   ],
   "source": [
    "svc_best = SVC(C=1, gamma=0.1)\n",
    "svc_best.fit(X_train, y_train)\n",
    "svc_predictions = svc_best.predict(X_test)\n",
    "print(confusion_matrix(y_test, svc_predictions))\n",
    "print(classification_report(list(y_test), list(svc_predictions)))"
   ]
  },
  {
   "cell_type": "markdown",
   "metadata": {},
   "source": [
    "## SVM - Select K Best"
   ]
  },
  {
   "cell_type": "code",
   "execution_count": 637,
   "metadata": {},
   "outputs": [],
   "source": [
    "from sklearn.feature_selection import SelectKBest\n",
    "selector = SelectKBest(k=5)\n",
    "X_new = selector.fit_transform(X, y)"
   ]
  },
  {
   "cell_type": "code",
   "execution_count": 638,
   "metadata": {},
   "outputs": [
    {
     "data": {
      "text/plain": [
       "(6000, 5)"
      ]
     },
     "execution_count": 638,
     "metadata": {},
     "output_type": "execute_result"
    }
   ],
   "source": [
    "X_new.shape"
   ]
  },
  {
   "cell_type": "code",
   "execution_count": 707,
   "metadata": {},
   "outputs": [
    {
     "data": {
      "text/plain": [
       "['energy', 'speechiness', 'acousticness', 'valence', 'mode']"
      ]
     },
     "execution_count": 707,
     "metadata": {},
     "output_type": "execute_result"
    }
   ],
   "source": [
    "df_features.columns[selector.get_support(indices=True)].tolist()"
   ]
  },
  {
   "cell_type": "code",
   "execution_count": 640,
   "metadata": {},
   "outputs": [],
   "source": [
    "X = X_new\n",
    "y = df_labels\n",
    "\n",
    "X_train, X_test, y_train, y_test = train_test_split(X, y, test_size=0.3, random_state=101)"
   ]
  },
  {
   "cell_type": "code",
   "execution_count": 642,
   "metadata": {},
   "outputs": [
    {
     "name": "stdout",
     "output_type": "stream",
     "text": [
      "[[299  10  75  53]\n",
      " [  6 402   7  40]\n",
      " [ 73  25 333  24]\n",
      " [ 64  78  11 300]]\n",
      "             precision    recall  f1-score   support\n",
      "\n",
      "      dance       0.68      0.68      0.68       437\n",
      "       jazz       0.78      0.88      0.83       455\n",
      "        rap       0.78      0.73      0.76       455\n",
      "       rock       0.72      0.66      0.69       453\n",
      "\n",
      "avg / total       0.74      0.74      0.74      1800\n",
      "\n"
     ]
    }
   ],
   "source": [
    "svc_optimized = SVC(C=1, gamma=0.1)\n",
    "svc_optimized.fit(X_train, y_train)\n",
    "svc_predictions = svc_optimized.predict(X_test)\n",
    "print(confusion_matrix(y_test, svc_predictions))\n",
    "print(classification_report(list(y_test), list(svc_predictions)))"
   ]
  },
  {
   "cell_type": "markdown",
   "metadata": {},
   "source": [
    "# Random Forest Classifier"
   ]
  },
  {
   "cell_type": "code",
   "execution_count": 643,
   "metadata": {},
   "outputs": [],
   "source": [
    "import numpy as np\n",
    "import matplotlib.pyplot as plt\n",
    "%matplotlib inline"
   ]
  },
  {
   "cell_type": "code",
   "execution_count": 644,
   "metadata": {},
   "outputs": [],
   "source": [
    "from numpy import sort\n",
    "from sklearn.metrics import accuracy_score\n",
    "from sklearn.feature_selection import SelectFromModel"
   ]
  },
  {
   "cell_type": "code",
   "execution_count": 645,
   "metadata": {},
   "outputs": [],
   "source": [
    "X = df_features_final\n",
    "y = df_labels\n",
    "\n",
    "X_train, X_test, y_train, y_test = train_test_split(X, y, test_size = 0.3, random_state = 101)"
   ]
  },
  {
   "cell_type": "code",
   "execution_count": 646,
   "metadata": {},
   "outputs": [
    {
     "name": "stdout",
     "output_type": "stream",
     "text": [
      "(4200, 17)\n",
      "(1800, 17)\n",
      "(4200,)\n",
      "(1800,)\n"
     ]
    }
   ],
   "source": [
    "print(X_train.shape)\n",
    "print(X_test.shape)\n",
    "print(y_train.shape)\n",
    "print(y_test.shape)"
   ]
  },
  {
   "cell_type": "code",
   "execution_count": 657,
   "metadata": {},
   "outputs": [
    {
     "data": {
      "text/plain": [
       "RandomForestClassifier(bootstrap=True, class_weight=None, criterion='gini',\n",
       "            max_depth=None, max_features='log2', max_leaf_nodes=None,\n",
       "            min_impurity_decrease=0.0, min_impurity_split=None,\n",
       "            min_samples_leaf=1, min_samples_split=2,\n",
       "            min_weight_fraction_leaf=0.0, n_estimators=5, n_jobs=1,\n",
       "            oob_score=False, random_state=None, verbose=0,\n",
       "            warm_start=False)"
      ]
     },
     "execution_count": 657,
     "metadata": {},
     "output_type": "execute_result"
    }
   ],
   "source": [
    "from sklearn.ensemble import RandomForestClassifier\n",
    "rfc_original = RandomForestClassifier(n_estimators=5, min_samples_split=2, max_features='log2')\n",
    "rfc_original.fit(X_train, y_train)"
   ]
  },
  {
   "cell_type": "code",
   "execution_count": 648,
   "metadata": {},
   "outputs": [],
   "source": [
    "rfc_predictions = rfc_original.predict(X_test)"
   ]
  },
  {
   "cell_type": "code",
   "execution_count": 649,
   "metadata": {},
   "outputs": [
    {
     "data": {
      "text/plain": [
       "0.81"
      ]
     },
     "execution_count": 649,
     "metadata": {},
     "output_type": "execute_result"
    }
   ],
   "source": [
    "np.round(accuracy_score(y_test, rfc_predictions), decimals=2)"
   ]
  },
  {
   "cell_type": "markdown",
   "metadata": {},
   "source": [
    "### Random Forest Classifier Original\n",
    "Confusion Matrix & Classification Report"
   ]
  },
  {
   "cell_type": "code",
   "execution_count": 650,
   "metadata": {},
   "outputs": [
    {
     "name": "stdout",
     "output_type": "stream",
     "text": [
      "[[362   6  45  24]\n",
      " [ 12 406   6  31]\n",
      " [ 50  21 364  20]\n",
      " [ 48  60  16 329]]\n",
      "             precision    recall  f1-score   support\n",
      "\n",
      "      dance       0.77      0.83      0.80       437\n",
      "       jazz       0.82      0.89      0.86       455\n",
      "        rap       0.84      0.80      0.82       455\n",
      "       rock       0.81      0.73      0.77       453\n",
      "\n",
      "avg / total       0.81      0.81      0.81      1800\n",
      "\n"
     ]
    }
   ],
   "source": [
    "print(confusion_matrix(y_test, rfc_predictions))\n",
    "print(classification_report(list(y_test), list(rfc_predictions)))"
   ]
  },
  {
   "cell_type": "markdown",
   "metadata": {},
   "source": [
    "## RFC - GridSearchCV\n",
    "Trying to determine which parameters are the best"
   ]
  },
  {
   "cell_type": "code",
   "execution_count": 752,
   "metadata": {},
   "outputs": [],
   "source": [
    "rfc = RandomForestClassifier()\n",
    "rfc_param_grid = {'n_estimators': [5, 10, 100], 'min_samples_split': [2, 3, 4, 5, 10], 'max_features': ['sqrt', 'log2', 'auto']}"
   ]
  },
  {
   "cell_type": "code",
   "execution_count": 753,
   "metadata": {},
   "outputs": [
    {
     "name": "stdout",
     "output_type": "stream",
     "text": [
      "Fitting 3 folds for each of 45 candidates, totalling 135 fits\n",
      "[CV] max_features=sqrt, min_samples_split=2, n_estimators=5 ..........\n",
      "[CV]  max_features=sqrt, min_samples_split=2, n_estimators=5, score=0.7831669044222539, total=   0.0s\n",
      "[CV] max_features=sqrt, min_samples_split=2, n_estimators=5 ..........\n",
      "[CV]  max_features=sqrt, min_samples_split=2, n_estimators=5, score=0.7862759113652609, total=   0.0s\n",
      "[CV] max_features=sqrt, min_samples_split=2, n_estimators=5 ..........\n",
      "[CV]  max_features=sqrt, min_samples_split=2, n_estimators=5, score=0.7941386704789135, total=   0.0s\n",
      "[CV] max_features=sqrt, min_samples_split=2, n_estimators=10 .........\n"
     ]
    },
    {
     "name": "stderr",
     "output_type": "stream",
     "text": [
      "[Parallel(n_jobs=1)]: Done   1 out of   1 | elapsed:    0.0s remaining:    0.0s\n",
      "[Parallel(n_jobs=1)]: Done   2 out of   2 | elapsed:    0.1s remaining:    0.0s\n"
     ]
    },
    {
     "name": "stdout",
     "output_type": "stream",
     "text": [
      "[CV]  max_features=sqrt, min_samples_split=2, n_estimators=10, score=0.8052781740370899, total=   0.1s\n",
      "[CV] max_features=sqrt, min_samples_split=2, n_estimators=10 .........\n",
      "[CV]  max_features=sqrt, min_samples_split=2, n_estimators=10, score=0.810578984989278, total=   0.1s\n",
      "[CV] max_features=sqrt, min_samples_split=2, n_estimators=10 .........\n",
      "[CV]  max_features=sqrt, min_samples_split=2, n_estimators=10, score=0.827734095782702, total=   0.1s\n",
      "[CV] max_features=sqrt, min_samples_split=2, n_estimators=100 ........\n",
      "[CV]  max_features=sqrt, min_samples_split=2, n_estimators=100, score=0.8395149786019972, total=   0.7s\n",
      "[CV] max_features=sqrt, min_samples_split=2, n_estimators=100 ........\n",
      "[CV]  max_features=sqrt, min_samples_split=2, n_estimators=100, score=0.8391708363116511, total=   0.7s\n",
      "[CV] max_features=sqrt, min_samples_split=2, n_estimators=100 ........\n",
      "[CV]  max_features=sqrt, min_samples_split=2, n_estimators=100, score=0.8384560400285919, total=   0.8s\n",
      "[CV] max_features=sqrt, min_samples_split=3, n_estimators=5 ..........\n",
      "[CV]  max_features=sqrt, min_samples_split=3, n_estimators=5, score=0.7838801711840229, total=   0.0s\n",
      "[CV] max_features=sqrt, min_samples_split=3, n_estimators=5 ..........\n",
      "[CV]  max_features=sqrt, min_samples_split=3, n_estimators=5, score=0.7812723373838456, total=   0.0s\n",
      "[CV] max_features=sqrt, min_samples_split=3, n_estimators=5 ..........\n",
      "[CV]  max_features=sqrt, min_samples_split=3, n_estimators=5, score=0.7962830593280915, total=   0.0s\n",
      "[CV] max_features=sqrt, min_samples_split=3, n_estimators=10 .........\n",
      "[CV]  max_features=sqrt, min_samples_split=3, n_estimators=10, score=0.8145506419400856, total=   0.1s\n",
      "[CV] max_features=sqrt, min_samples_split=3, n_estimators=10 .........\n",
      "[CV]  max_features=sqrt, min_samples_split=3, n_estimators=10, score=0.8170121515368121, total=   0.1s\n",
      "[CV] max_features=sqrt, min_samples_split=3, n_estimators=10 .........\n",
      "[CV]  max_features=sqrt, min_samples_split=3, n_estimators=10, score=0.823445318084346, total=   0.1s\n",
      "[CV] max_features=sqrt, min_samples_split=3, n_estimators=100 ........\n",
      "[CV]  max_features=sqrt, min_samples_split=3, n_estimators=100, score=0.8423680456490727, total=   0.7s\n",
      "[CV] max_features=sqrt, min_samples_split=3, n_estimators=100 ........\n",
      "[CV]  max_features=sqrt, min_samples_split=3, n_estimators=100, score=0.8427448177269479, total=   0.7s\n",
      "[CV] max_features=sqrt, min_samples_split=3, n_estimators=100 ........\n",
      "[CV]  max_features=sqrt, min_samples_split=3, n_estimators=100, score=0.8355968548963545, total=   0.7s\n",
      "[CV] max_features=sqrt, min_samples_split=4, n_estimators=5 ..........\n",
      "[CV]  max_features=sqrt, min_samples_split=4, n_estimators=5, score=0.7881597717546363, total=   0.0s\n",
      "[CV] max_features=sqrt, min_samples_split=4, n_estimators=5 ..........\n",
      "[CV]  max_features=sqrt, min_samples_split=4, n_estimators=5, score=0.7869907076483202, total=   0.0s\n",
      "[CV] max_features=sqrt, min_samples_split=4, n_estimators=5 ..........\n",
      "[CV]  max_features=sqrt, min_samples_split=4, n_estimators=5, score=0.7877055039313795, total=   0.0s\n",
      "[CV] max_features=sqrt, min_samples_split=4, n_estimators=10 .........\n",
      "[CV]  max_features=sqrt, min_samples_split=4, n_estimators=10, score=0.796718972895863, total=   0.1s\n",
      "[CV] max_features=sqrt, min_samples_split=4, n_estimators=10 .........\n",
      "[CV]  max_features=sqrt, min_samples_split=4, n_estimators=10, score=0.8162973552537527, total=   0.1s\n",
      "[CV] max_features=sqrt, min_samples_split=4, n_estimators=10 .........\n",
      "[CV]  max_features=sqrt, min_samples_split=4, n_estimators=10, score=0.8120085775553967, total=   0.1s\n",
      "[CV] max_features=sqrt, min_samples_split=4, n_estimators=100 ........\n",
      "[CV]  max_features=sqrt, min_samples_split=4, n_estimators=100, score=0.8373751783166904, total=   0.7s\n",
      "[CV] max_features=sqrt, min_samples_split=4, n_estimators=100 ........\n",
      "[CV]  max_features=sqrt, min_samples_split=4, n_estimators=100, score=0.8463187991422445, total=   0.7s\n",
      "[CV] max_features=sqrt, min_samples_split=4, n_estimators=100 ........\n",
      "[CV]  max_features=sqrt, min_samples_split=4, n_estimators=100, score=0.8370264474624732, total=   0.7s\n",
      "[CV] max_features=sqrt, min_samples_split=5, n_estimators=5 ..........\n",
      "[CV]  max_features=sqrt, min_samples_split=5, n_estimators=5, score=0.7838801711840229, total=   0.0s\n",
      "[CV] max_features=sqrt, min_samples_split=5, n_estimators=5 ..........\n",
      "[CV]  max_features=sqrt, min_samples_split=5, n_estimators=5, score=0.7877055039313795, total=   0.0s\n",
      "[CV] max_features=sqrt, min_samples_split=5, n_estimators=5 ..........\n",
      "[CV]  max_features=sqrt, min_samples_split=5, n_estimators=5, score=0.7969978556111508, total=   0.0s\n",
      "[CV] max_features=sqrt, min_samples_split=5, n_estimators=10 .........\n",
      "[CV]  max_features=sqrt, min_samples_split=5, n_estimators=10, score=0.8059914407988588, total=   0.1s\n",
      "[CV] max_features=sqrt, min_samples_split=5, n_estimators=10 .........\n",
      "[CV]  max_features=sqrt, min_samples_split=5, n_estimators=10, score=0.8177269478198713, total=   0.1s\n",
      "[CV] max_features=sqrt, min_samples_split=5, n_estimators=10 .........\n",
      "[CV]  max_features=sqrt, min_samples_split=5, n_estimators=10, score=0.8070050035739814, total=   0.1s\n",
      "[CV] max_features=sqrt, min_samples_split=5, n_estimators=100 ........\n",
      "[CV]  max_features=sqrt, min_samples_split=5, n_estimators=100, score=0.8445078459343794, total=   0.7s\n",
      "[CV] max_features=sqrt, min_samples_split=5, n_estimators=100 ........\n",
      "[CV]  max_features=sqrt, min_samples_split=5, n_estimators=100, score=0.8413152251608291, total=   0.7s\n",
      "[CV] max_features=sqrt, min_samples_split=5, n_estimators=100 ........\n",
      "[CV]  max_features=sqrt, min_samples_split=5, n_estimators=100, score=0.8341672623302359, total=   0.7s\n",
      "[CV] max_features=sqrt, min_samples_split=10, n_estimators=5 .........\n",
      "[CV]  max_features=sqrt, min_samples_split=10, n_estimators=5, score=0.7738944365192582, total=   0.0s\n",
      "[CV] max_features=sqrt, min_samples_split=10, n_estimators=5 .........\n",
      "[CV]  max_features=sqrt, min_samples_split=10, n_estimators=5, score=0.7805575411007862, total=   0.0s\n",
      "[CV] max_features=sqrt, min_samples_split=10, n_estimators=5 .........\n",
      "[CV]  max_features=sqrt, min_samples_split=10, n_estimators=5, score=0.7884203002144389, total=   0.0s\n",
      "[CV] max_features=sqrt, min_samples_split=10, n_estimators=10 ........\n",
      "[CV]  max_features=sqrt, min_samples_split=10, n_estimators=10, score=0.8109843081312411, total=   0.1s\n",
      "[CV] max_features=sqrt, min_samples_split=10, n_estimators=10 ........\n",
      "[CV]  max_features=sqrt, min_samples_split=10, n_estimators=10, score=0.8162973552537527, total=   0.1s\n",
      "[CV] max_features=sqrt, min_samples_split=10, n_estimators=10 ........\n",
      "[CV]  max_features=sqrt, min_samples_split=10, n_estimators=10, score=0.7962830593280915, total=   0.1s\n",
      "[CV] max_features=sqrt, min_samples_split=10, n_estimators=100 .......\n",
      "[CV]  max_features=sqrt, min_samples_split=10, n_estimators=100, score=0.8209700427960057, total=   0.7s\n",
      "[CV] max_features=sqrt, min_samples_split=10, n_estimators=100 .......\n",
      "[CV]  max_features=sqrt, min_samples_split=10, n_estimators=100, score=0.82987848463188, total=   0.7s\n",
      "[CV] max_features=sqrt, min_samples_split=10, n_estimators=100 .......\n",
      "[CV]  max_features=sqrt, min_samples_split=10, n_estimators=100, score=0.825589706933524, total=   0.7s\n",
      "[CV] max_features=log2, min_samples_split=2, n_estimators=5 ..........\n",
      "[CV]  max_features=log2, min_samples_split=2, n_estimators=5, score=0.7845934379457917, total=   0.0s\n",
      "[CV] max_features=log2, min_samples_split=2, n_estimators=5 ..........\n",
      "[CV]  max_features=log2, min_samples_split=2, n_estimators=5, score=0.7898498927805575, total=   0.0s\n",
      "[CV] max_features=log2, min_samples_split=2, n_estimators=5 ..........\n",
      "[CV]  max_features=log2, min_samples_split=2, n_estimators=5, score=0.7812723373838456, total=   0.0s\n",
      "[CV] max_features=log2, min_samples_split=2, n_estimators=10 .........\n",
      "[CV]  max_features=log2, min_samples_split=2, n_estimators=10, score=0.8174037089871612, total=   0.1s\n",
      "[CV] max_features=log2, min_samples_split=2, n_estimators=10 .........\n",
      "[CV]  max_features=log2, min_samples_split=2, n_estimators=10, score=0.821300929235168, total=   0.1s\n",
      "[CV] max_features=log2, min_samples_split=2, n_estimators=10 .........\n",
      "[CV]  max_features=log2, min_samples_split=2, n_estimators=10, score=0.827734095782702, total=   0.1s\n",
      "[CV] max_features=log2, min_samples_split=2, n_estimators=100 ........\n"
     ]
    },
    {
     "name": "stdout",
     "output_type": "stream",
     "text": [
      "[CV]  max_features=log2, min_samples_split=2, n_estimators=100, score=0.8409415121255349, total=   0.7s\n",
      "[CV] max_features=log2, min_samples_split=2, n_estimators=100 ........\n",
      "[CV]  max_features=log2, min_samples_split=2, n_estimators=100, score=0.8370264474624732, total=   0.8s\n",
      "[CV] max_features=log2, min_samples_split=2, n_estimators=100 ........\n",
      "[CV]  max_features=log2, min_samples_split=2, n_estimators=100, score=0.8355968548963545, total=   0.7s\n",
      "[CV] max_features=log2, min_samples_split=3, n_estimators=5 ..........\n",
      "[CV]  max_features=log2, min_samples_split=3, n_estimators=5, score=0.7696148359486448, total=   0.0s\n",
      "[CV] max_features=log2, min_samples_split=3, n_estimators=5 ..........\n",
      "[CV]  max_features=log2, min_samples_split=3, n_estimators=5, score=0.7884203002144389, total=   0.0s\n",
      "[CV] max_features=log2, min_samples_split=3, n_estimators=5 ..........\n",
      "[CV]  max_features=log2, min_samples_split=3, n_estimators=5, score=0.7991422444603288, total=   0.0s\n",
      "[CV] max_features=log2, min_samples_split=3, n_estimators=10 .........\n",
      "[CV]  max_features=log2, min_samples_split=3, n_estimators=10, score=0.8252496433666191, total=   0.1s\n",
      "[CV] max_features=log2, min_samples_split=3, n_estimators=10 .........\n",
      "[CV]  max_features=log2, min_samples_split=3, n_estimators=10, score=0.827734095782702, total=   0.1s\n",
      "[CV] max_features=log2, min_samples_split=3, n_estimators=10 .........\n",
      "[CV]  max_features=log2, min_samples_split=3, n_estimators=10, score=0.7977126518942101, total=   0.1s\n",
      "[CV] max_features=log2, min_samples_split=3, n_estimators=100 ........\n",
      "[CV]  max_features=log2, min_samples_split=3, n_estimators=100, score=0.8352353780313837, total=   0.7s\n",
      "[CV] max_features=log2, min_samples_split=3, n_estimators=100 ........\n",
      "[CV]  max_features=log2, min_samples_split=3, n_estimators=100, score=0.8420300214438885, total=   0.7s\n",
      "[CV] max_features=log2, min_samples_split=3, n_estimators=100 ........\n",
      "[CV]  max_features=log2, min_samples_split=3, n_estimators=100, score=0.8355968548963545, total=   0.8s\n",
      "[CV] max_features=log2, min_samples_split=4, n_estimators=5 ..........\n",
      "[CV]  max_features=log2, min_samples_split=4, n_estimators=5, score=0.775320970042796, total=   0.0s\n",
      "[CV] max_features=log2, min_samples_split=4, n_estimators=5 ..........\n",
      "[CV]  max_features=log2, min_samples_split=4, n_estimators=5, score=0.7955682630450321, total=   0.0s\n",
      "[CV] max_features=log2, min_samples_split=4, n_estimators=5 ..........\n",
      "[CV]  max_features=log2, min_samples_split=4, n_estimators=5, score=0.7905646890636169, total=   0.0s\n",
      "[CV] max_features=log2, min_samples_split=4, n_estimators=10 .........\n",
      "[CV]  max_features=log2, min_samples_split=4, n_estimators=10, score=0.8159771754636234, total=   0.1s\n",
      "[CV] max_features=log2, min_samples_split=4, n_estimators=10 .........\n",
      "[CV]  max_features=log2, min_samples_split=4, n_estimators=10, score=0.8291636883488206, total=   0.1s\n",
      "[CV] max_features=log2, min_samples_split=4, n_estimators=10 .........\n",
      "[CV]  max_features=log2, min_samples_split=4, n_estimators=10, score=0.8141529664045747, total=   0.1s\n",
      "[CV] max_features=log2, min_samples_split=4, n_estimators=100 ........\n",
      "[CV]  max_features=log2, min_samples_split=4, n_estimators=100, score=0.8388017118402282, total=   0.7s\n",
      "[CV] max_features=log2, min_samples_split=4, n_estimators=100 ........\n",
      "[CV]  max_features=log2, min_samples_split=4, n_estimators=100, score=0.8434596140100071, total=   0.7s\n",
      "[CV] max_features=log2, min_samples_split=4, n_estimators=100 ........\n",
      "[CV]  max_features=log2, min_samples_split=4, n_estimators=100, score=0.8363116511794139, total=   0.7s\n",
      "[CV] max_features=log2, min_samples_split=5, n_estimators=5 ..........\n",
      "[CV]  max_features=log2, min_samples_split=5, n_estimators=5, score=0.7774607703281027, total=   0.0s\n",
      "[CV] max_features=log2, min_samples_split=5, n_estimators=5 ..........\n",
      "[CV]  max_features=log2, min_samples_split=5, n_estimators=5, score=0.7834167262330236, total=   0.0s\n",
      "[CV] max_features=log2, min_samples_split=5, n_estimators=5 ..........\n",
      "[CV]  max_features=log2, min_samples_split=5, n_estimators=5, score=0.7927090779127949, total=   0.0s\n",
      "[CV] max_features=log2, min_samples_split=5, n_estimators=10 .........\n",
      "[CV]  max_features=log2, min_samples_split=5, n_estimators=10, score=0.8159771754636234, total=   0.1s\n",
      "[CV] max_features=log2, min_samples_split=5, n_estimators=10 .........\n",
      "[CV]  max_features=log2, min_samples_split=5, n_estimators=10, score=0.8120085775553967, total=   0.1s\n",
      "[CV] max_features=log2, min_samples_split=5, n_estimators=10 .........\n",
      "[CV]  max_features=log2, min_samples_split=5, n_estimators=10, score=0.806290207290922, total=   0.1s\n",
      "[CV] max_features=log2, min_samples_split=5, n_estimators=100 ........\n",
      "[CV]  max_features=log2, min_samples_split=5, n_estimators=100, score=0.8380884450784594, total=   0.7s\n",
      "[CV] max_features=log2, min_samples_split=5, n_estimators=100 ........\n",
      "[CV]  max_features=log2, min_samples_split=5, n_estimators=100, score=0.8448892065761258, total=   0.7s\n",
      "[CV] max_features=log2, min_samples_split=5, n_estimators=100 ........\n",
      "[CV]  max_features=log2, min_samples_split=5, n_estimators=100, score=0.8355968548963545, total=   0.7s\n",
      "[CV] max_features=log2, min_samples_split=10, n_estimators=5 .........\n",
      "[CV]  max_features=log2, min_samples_split=10, n_estimators=5, score=0.7845934379457917, total=   0.0s\n",
      "[CV] max_features=log2, min_samples_split=10, n_estimators=5 .........\n",
      "[CV]  max_features=log2, min_samples_split=10, n_estimators=5, score=0.7684060042887777, total=   0.0s\n",
      "[CV] max_features=log2, min_samples_split=10, n_estimators=5 .........\n",
      "[CV]  max_features=log2, min_samples_split=10, n_estimators=5, score=0.779842744817727, total=   0.0s\n",
      "[CV] max_features=log2, min_samples_split=10, n_estimators=10 ........\n",
      "[CV]  max_features=log2, min_samples_split=10, n_estimators=10, score=0.8052781740370899, total=   0.1s\n",
      "[CV] max_features=log2, min_samples_split=10, n_estimators=10 ........\n",
      "[CV]  max_features=log2, min_samples_split=10, n_estimators=10, score=0.8077197998570408, total=   0.1s\n",
      "[CV] max_features=log2, min_samples_split=10, n_estimators=10 ........\n",
      "[CV]  max_features=log2, min_samples_split=10, n_estimators=10, score=0.7991422444603288, total=   0.1s\n",
      "[CV] max_features=log2, min_samples_split=10, n_estimators=100 .......\n",
      "[CV]  max_features=log2, min_samples_split=10, n_estimators=100, score=0.8295292439372325, total=   0.7s\n",
      "[CV] max_features=log2, min_samples_split=10, n_estimators=100 .......\n",
      "[CV]  max_features=log2, min_samples_split=10, n_estimators=100, score=0.8320228734810579, total=   0.6s\n",
      "[CV] max_features=log2, min_samples_split=10, n_estimators=100 .......\n",
      "[CV]  max_features=log2, min_samples_split=10, n_estimators=100, score=0.821300929235168, total=   0.7s\n",
      "[CV] max_features=auto, min_samples_split=2, n_estimators=5 ..........\n",
      "[CV]  max_features=auto, min_samples_split=2, n_estimators=5, score=0.7788873038516405, total=   0.0s\n",
      "[CV] max_features=auto, min_samples_split=2, n_estimators=5 ..........\n",
      "[CV]  max_features=auto, min_samples_split=2, n_estimators=5, score=0.7948534667619729, total=   0.0s\n",
      "[CV] max_features=auto, min_samples_split=2, n_estimators=5 ..........\n",
      "[CV]  max_features=auto, min_samples_split=2, n_estimators=5, score=0.7698355968548963, total=   0.0s\n",
      "[CV] max_features=auto, min_samples_split=2, n_estimators=10 .........\n",
      "[CV]  max_features=auto, min_samples_split=2, n_estimators=10, score=0.8088445078459344, total=   0.1s\n",
      "[CV] max_features=auto, min_samples_split=2, n_estimators=10 .........\n",
      "[CV]  max_features=auto, min_samples_split=2, n_estimators=10, score=0.8270192994996426, total=   0.1s\n",
      "[CV] max_features=auto, min_samples_split=2, n_estimators=10 .........\n",
      "[CV]  max_features=auto, min_samples_split=2, n_estimators=10, score=0.8120085775553967, total=   0.1s\n",
      "[CV] max_features=auto, min_samples_split=2, n_estimators=100 ........\n",
      "[CV]  max_features=auto, min_samples_split=2, n_estimators=100, score=0.8388017118402282, total=   0.7s\n",
      "[CV] max_features=auto, min_samples_split=2, n_estimators=100 ........\n",
      "[CV]  max_features=auto, min_samples_split=2, n_estimators=100, score=0.8427448177269479, total=   0.7s\n",
      "[CV] max_features=auto, min_samples_split=2, n_estimators=100 ........\n",
      "[CV]  max_features=auto, min_samples_split=2, n_estimators=100, score=0.8463187991422445, total=   0.7s\n",
      "[CV] max_features=auto, min_samples_split=3, n_estimators=5 ..........\n",
      "[CV]  max_features=auto, min_samples_split=3, n_estimators=5, score=0.7810271041369472, total=   0.0s\n",
      "[CV] max_features=auto, min_samples_split=3, n_estimators=5 ..........\n",
      "[CV]  max_features=auto, min_samples_split=3, n_estimators=5, score=0.775553967119371, total=   0.0s\n",
      "[CV] max_features=auto, min_samples_split=3, n_estimators=5 ..........\n",
      "[CV]  max_features=auto, min_samples_split=3, n_estimators=5, score=0.7998570407433881, total=   0.0s\n",
      "[CV] max_features=auto, min_samples_split=3, n_estimators=10 .........\n"
     ]
    },
    {
     "name": "stdout",
     "output_type": "stream",
     "text": [
      "[CV]  max_features=auto, min_samples_split=3, n_estimators=10, score=0.81169757489301, total=   0.1s\n",
      "[CV] max_features=auto, min_samples_split=3, n_estimators=10 .........\n",
      "[CV]  max_features=auto, min_samples_split=3, n_estimators=10, score=0.8198713366690493, total=   0.1s\n",
      "[CV] max_features=auto, min_samples_split=3, n_estimators=10 .........\n",
      "[CV]  max_features=auto, min_samples_split=3, n_estimators=10, score=0.8120085775553967, total=   0.1s\n",
      "[CV] max_features=auto, min_samples_split=3, n_estimators=100 ........\n",
      "[CV]  max_features=auto, min_samples_split=3, n_estimators=100, score=0.8359486447931527, total=   0.7s\n",
      "[CV] max_features=auto, min_samples_split=3, n_estimators=100 ........\n",
      "[CV]  max_features=auto, min_samples_split=3, n_estimators=100, score=0.8470335954253038, total=   0.7s\n",
      "[CV] max_features=auto, min_samples_split=3, n_estimators=100 ........\n",
      "[CV]  max_features=auto, min_samples_split=3, n_estimators=100, score=0.8377412437455325, total=   0.7s\n",
      "[CV] max_features=auto, min_samples_split=4, n_estimators=5 ..........\n",
      "[CV]  max_features=auto, min_samples_split=4, n_estimators=5, score=0.797432239657632, total=   0.0s\n",
      "[CV] max_features=auto, min_samples_split=4, n_estimators=5 ..........\n",
      "[CV]  max_features=auto, min_samples_split=4, n_estimators=5, score=0.7998570407433881, total=   0.0s\n",
      "[CV] max_features=auto, min_samples_split=4, n_estimators=5 ..........\n",
      "[CV]  max_features=auto, min_samples_split=4, n_estimators=5, score=0.781987133666905, total=   0.0s\n",
      "[CV] max_features=auto, min_samples_split=4, n_estimators=10 .........\n",
      "[CV]  max_features=auto, min_samples_split=4, n_estimators=10, score=0.8095577746077033, total=   0.1s\n",
      "[CV] max_features=auto, min_samples_split=4, n_estimators=10 .........\n",
      "[CV]  max_features=auto, min_samples_split=4, n_estimators=10, score=0.8091493924231594, total=   0.1s\n",
      "[CV] max_features=auto, min_samples_split=4, n_estimators=10 .........\n",
      "[CV]  max_features=auto, min_samples_split=4, n_estimators=10, score=0.8134381701215153, total=   0.1s\n",
      "[CV] max_features=auto, min_samples_split=4, n_estimators=100 ........\n",
      "[CV]  max_features=auto, min_samples_split=4, n_estimators=100, score=0.8416547788873039, total=   0.7s\n",
      "[CV] max_features=auto, min_samples_split=4, n_estimators=100 ........\n",
      "[CV]  max_features=auto, min_samples_split=4, n_estimators=100, score=0.8441744102930665, total=   0.7s\n",
      "[CV] max_features=auto, min_samples_split=4, n_estimators=100 ........\n",
      "[CV]  max_features=auto, min_samples_split=4, n_estimators=100, score=0.8434596140100071, total=   0.7s\n",
      "[CV] max_features=auto, min_samples_split=5, n_estimators=5 ..........\n",
      "[CV]  max_features=auto, min_samples_split=5, n_estimators=5, score=0.7931526390870185, total=   0.0s\n",
      "[CV] max_features=auto, min_samples_split=5, n_estimators=5 ..........\n",
      "[CV]  max_features=auto, min_samples_split=5, n_estimators=5, score=0.7834167262330236, total=   0.0s\n",
      "[CV] max_features=auto, min_samples_split=5, n_estimators=5 ..........\n",
      "[CV]  max_features=auto, min_samples_split=5, n_estimators=5, score=0.7884203002144389, total=   0.0s\n",
      "[CV] max_features=auto, min_samples_split=5, n_estimators=10 .........\n",
      "[CV]  max_features=auto, min_samples_split=5, n_estimators=10, score=0.8166904422253923, total=   0.1s\n",
      "[CV] max_features=auto, min_samples_split=5, n_estimators=10 .........\n",
      "[CV]  max_features=auto, min_samples_split=5, n_estimators=10, score=0.81915654038599, total=   0.1s\n",
      "[CV] max_features=auto, min_samples_split=5, n_estimators=10 .........\n",
      "[CV]  max_features=auto, min_samples_split=5, n_estimators=10, score=0.7991422444603288, total=   0.1s\n",
      "[CV] max_features=auto, min_samples_split=5, n_estimators=100 ........\n",
      "[CV]  max_features=auto, min_samples_split=5, n_estimators=100, score=0.8409415121255349, total=   0.7s\n",
      "[CV] max_features=auto, min_samples_split=5, n_estimators=100 ........\n",
      "[CV]  max_features=auto, min_samples_split=5, n_estimators=100, score=0.8406004288777699, total=   0.7s\n",
      "[CV] max_features=auto, min_samples_split=5, n_estimators=100 ........\n",
      "[CV]  max_features=auto, min_samples_split=5, n_estimators=100, score=0.8427448177269479, total=   0.7s\n",
      "[CV] max_features=auto, min_samples_split=10, n_estimators=5 .........\n",
      "[CV]  max_features=auto, min_samples_split=10, n_estimators=5, score=0.7717546362339515, total=   0.0s\n",
      "[CV] max_features=auto, min_samples_split=10, n_estimators=5 .........\n",
      "[CV]  max_features=auto, min_samples_split=10, n_estimators=5, score=0.7855611150822016, total=   0.0s\n",
      "[CV] max_features=auto, min_samples_split=10, n_estimators=5 .........\n",
      "[CV]  max_features=auto, min_samples_split=10, n_estimators=5, score=0.7862759113652609, total=   0.0s\n",
      "[CV] max_features=auto, min_samples_split=10, n_estimators=10 ........\n",
      "[CV]  max_features=auto, min_samples_split=10, n_estimators=10, score=0.8095577746077033, total=   0.1s\n",
      "[CV] max_features=auto, min_samples_split=10, n_estimators=10 ........\n",
      "[CV]  max_features=auto, min_samples_split=10, n_estimators=10, score=0.8027162258756254, total=   0.1s\n",
      "[CV] max_features=auto, min_samples_split=10, n_estimators=10 ........\n",
      "[CV]  max_features=auto, min_samples_split=10, n_estimators=10, score=0.806290207290922, total=   0.1s\n",
      "[CV] max_features=auto, min_samples_split=10, n_estimators=100 .......\n",
      "[CV]  max_features=auto, min_samples_split=10, n_estimators=100, score=0.8259629101283881, total=   0.7s\n",
      "[CV] max_features=auto, min_samples_split=10, n_estimators=100 .......\n",
      "[CV]  max_features=auto, min_samples_split=10, n_estimators=100, score=0.8363116511794139, total=   0.7s\n",
      "[CV] max_features=auto, min_samples_split=10, n_estimators=100 .......\n",
      "[CV]  max_features=auto, min_samples_split=10, n_estimators=100, score=0.8291636883488206, total=   0.7s\n"
     ]
    },
    {
     "name": "stderr",
     "output_type": "stream",
     "text": [
      "[Parallel(n_jobs=1)]: Done 135 out of 135 | elapsed:   39.6s finished\n"
     ]
    },
    {
     "data": {
      "text/plain": [
       "GridSearchCV(cv=None, error_score='raise',\n",
       "       estimator=RandomForestClassifier(bootstrap=True, class_weight=None, criterion='gini',\n",
       "            max_depth=None, max_features='auto', max_leaf_nodes=None,\n",
       "            min_impurity_decrease=0.0, min_impurity_split=None,\n",
       "            min_samples_leaf=1, min_samples_split=2,\n",
       "            min_weight_fraction_leaf=0.0, n_estimators=10, n_jobs=1,\n",
       "            oob_score=False, random_state=None, verbose=0,\n",
       "            warm_start=False),\n",
       "       fit_params=None, iid=True, n_jobs=1,\n",
       "       param_grid={'n_estimators': [5, 10, 100], 'min_samples_split': [2, 3, 4, 5, 10], 'max_features': ['sqrt', 'log2', 'auto']},\n",
       "       pre_dispatch='2*n_jobs', refit=True, return_train_score='warn',\n",
       "       scoring=None, verbose=3)"
      ]
     },
     "execution_count": 753,
     "metadata": {},
     "output_type": "execute_result"
    }
   ],
   "source": [
    "rfc_grid = GridSearchCV(rfc, rfc_param_grid, verbose=3)\n",
    "rfc_grid.fit(X_train, y_train)"
   ]
  },
  {
   "cell_type": "code",
   "execution_count": 755,
   "metadata": {},
   "outputs": [
    {
     "data": {
      "text/plain": [
       "{'max_features': 'auto', 'min_samples_split': 4, 'n_estimators': 100}"
      ]
     },
     "execution_count": 755,
     "metadata": {},
     "output_type": "execute_result"
    }
   ],
   "source": [
    "rfc_grid.best_params_"
   ]
  },
  {
   "cell_type": "code",
   "execution_count": 756,
   "metadata": {},
   "outputs": [
    {
     "data": {
      "text/plain": [
       "RandomForestClassifier(bootstrap=True, class_weight=None, criterion='gini',\n",
       "            max_depth=None, max_features='auto', max_leaf_nodes=None,\n",
       "            min_impurity_decrease=0.0, min_impurity_split=None,\n",
       "            min_samples_leaf=1, min_samples_split=4,\n",
       "            min_weight_fraction_leaf=0.0, n_estimators=100, n_jobs=1,\n",
       "            oob_score=False, random_state=None, verbose=0,\n",
       "            warm_start=False)"
      ]
     },
     "execution_count": 756,
     "metadata": {},
     "output_type": "execute_result"
    }
   ],
   "source": [
    "rfc_best = RandomForestClassifier(n_estimators=100, min_samples_split=4, max_features='auto')\n",
    "rfc_best.fit(X_train, y_train)"
   ]
  },
  {
   "cell_type": "code",
   "execution_count": 757,
   "metadata": {},
   "outputs": [],
   "source": [
    "rfc_best_pred = rfc_best.predict(X_test)"
   ]
  },
  {
   "cell_type": "code",
   "execution_count": 758,
   "metadata": {},
   "outputs": [
    {
     "data": {
      "text/plain": [
       "0.86"
      ]
     },
     "execution_count": 758,
     "metadata": {},
     "output_type": "execute_result"
    }
   ],
   "source": [
    "np.round(accuracy_score(y_test, rfc_best_pred), decimals=3)"
   ]
  },
  {
   "cell_type": "code",
   "execution_count": 667,
   "metadata": {},
   "outputs": [
    {
     "name": "stdout",
     "output_type": "stream",
     "text": [
      "[[357   5  45  30]\n",
      " [  3 420   6  26]\n",
      " [ 27  14 396  18]\n",
      " [ 22  49  11 371]]\n",
      "             precision    recall  f1-score   support\n",
      "\n",
      "      dance       0.87      0.82      0.84       437\n",
      "       jazz       0.86      0.92      0.89       455\n",
      "        rap       0.86      0.87      0.87       455\n",
      "       rock       0.83      0.82      0.83       453\n",
      "\n",
      "avg / total       0.86      0.86      0.86      1800\n",
      "\n"
     ]
    }
   ],
   "source": [
    "print(confusion_matrix(y_test, rfc_best_pred))\n",
    "print(classification_report(list(y_test), list(rfc_best_pred)))"
   ]
  },
  {
   "cell_type": "markdown",
   "metadata": {},
   "source": [
    "### Finding Best Features"
   ]
  },
  {
   "cell_type": "code",
   "execution_count": 566,
   "metadata": {},
   "outputs": [
    {
     "data": {
      "text/html": [
       "<div>\n",
       "<style scoped>\n",
       "    .dataframe tbody tr th:only-of-type {\n",
       "        vertical-align: middle;\n",
       "    }\n",
       "\n",
       "    .dataframe tbody tr th {\n",
       "        vertical-align: top;\n",
       "    }\n",
       "\n",
       "    .dataframe thead th {\n",
       "        text-align: right;\n",
       "    }\n",
       "</style>\n",
       "<table border=\"1\" class=\"dataframe\">\n",
       "  <thead>\n",
       "    <tr style=\"text-align: right;\">\n",
       "      <th></th>\n",
       "      <th>feature</th>\n",
       "      <th>importance</th>\n",
       "    </tr>\n",
       "  </thead>\n",
       "  <tbody>\n",
       "    <tr>\n",
       "      <th>0</th>\n",
       "      <td>key</td>\n",
       "      <td>0.0212</td>\n",
       "    </tr>\n",
       "    <tr>\n",
       "      <th>1</th>\n",
       "      <td>energy</td>\n",
       "      <td>0.0802</td>\n",
       "    </tr>\n",
       "    <tr>\n",
       "      <th>2</th>\n",
       "      <td>liveliness</td>\n",
       "      <td>0.0251</td>\n",
       "    </tr>\n",
       "    <tr>\n",
       "      <th>3</th>\n",
       "      <td>tempo</td>\n",
       "      <td>0.0869</td>\n",
       "    </tr>\n",
       "    <tr>\n",
       "      <th>4</th>\n",
       "      <td>speechiness</td>\n",
       "      <td>0.1131</td>\n",
       "    </tr>\n",
       "    <tr>\n",
       "      <th>5</th>\n",
       "      <td>acousticness</td>\n",
       "      <td>0.1754</td>\n",
       "    </tr>\n",
       "    <tr>\n",
       "      <th>6</th>\n",
       "      <td>instrumentalness</td>\n",
       "      <td>0.0590</td>\n",
       "    </tr>\n",
       "    <tr>\n",
       "      <th>7</th>\n",
       "      <td>time_signature</td>\n",
       "      <td>0.0064</td>\n",
       "    </tr>\n",
       "    <tr>\n",
       "      <th>8</th>\n",
       "      <td>duration</td>\n",
       "      <td>0.0031</td>\n",
       "    </tr>\n",
       "    <tr>\n",
       "      <th>9</th>\n",
       "      <td>loudness</td>\n",
       "      <td>0.0532</td>\n",
       "    </tr>\n",
       "    <tr>\n",
       "      <th>10</th>\n",
       "      <td>valence</td>\n",
       "      <td>0.0595</td>\n",
       "    </tr>\n",
       "    <tr>\n",
       "      <th>11</th>\n",
       "      <td>danceability</td>\n",
       "      <td>0.0379</td>\n",
       "    </tr>\n",
       "    <tr>\n",
       "      <th>12</th>\n",
       "      <td>mode</td>\n",
       "      <td>0.1352</td>\n",
       "    </tr>\n",
       "    <tr>\n",
       "      <th>13</th>\n",
       "      <td>time_signature_confidence</td>\n",
       "      <td>0.0331</td>\n",
       "    </tr>\n",
       "    <tr>\n",
       "      <th>14</th>\n",
       "      <td>tempo_confidence</td>\n",
       "      <td>0.0334</td>\n",
       "    </tr>\n",
       "    <tr>\n",
       "      <th>15</th>\n",
       "      <td>key_confidence</td>\n",
       "      <td>0.0519</td>\n",
       "    </tr>\n",
       "    <tr>\n",
       "      <th>16</th>\n",
       "      <td>mode_confidence</td>\n",
       "      <td>0.0254</td>\n",
       "    </tr>\n",
       "  </tbody>\n",
       "</table>\n",
       "</div>"
      ],
      "text/plain": [
       "                      feature  importance\n",
       "0                         key      0.0212\n",
       "1                      energy      0.0802\n",
       "2                  liveliness      0.0251\n",
       "3                       tempo      0.0869\n",
       "4                 speechiness      0.1131\n",
       "5                acousticness      0.1754\n",
       "6            instrumentalness      0.0590\n",
       "7              time_signature      0.0064\n",
       "8                    duration      0.0031\n",
       "9                    loudness      0.0532\n",
       "10                    valence      0.0595\n",
       "11               danceability      0.0379\n",
       "12                       mode      0.1352\n",
       "13  time_signature_confidence      0.0331\n",
       "14           tempo_confidence      0.0334\n",
       "15             key_confidence      0.0519\n",
       "16            mode_confidence      0.0254"
      ]
     },
     "execution_count": 566,
     "metadata": {},
     "output_type": "execute_result"
    }
   ],
   "source": [
    "dictionary = {'feature':df_features.columns, 'importance': np.round(rfc.feature_importances_, decimals = 4)}\n",
    "importances = pd.DataFrame(dictionary)\n",
    "importances"
   ]
  },
  {
   "cell_type": "code",
   "execution_count": 567,
   "metadata": {},
   "outputs": [],
   "source": [
    "importances = importances.sort_values(by='importance', ascending=False)\n",
    "importances = importances.set_index('feature')"
   ]
  },
  {
   "cell_type": "code",
   "execution_count": 568,
   "metadata": {},
   "outputs": [
    {
     "name": "stdout",
     "output_type": "stream",
     "text": [
      "                           importance\n",
      "feature                              \n",
      "acousticness                   0.1754\n",
      "mode                           0.1352\n",
      "speechiness                    0.1131\n",
      "tempo                          0.0869\n",
      "energy                         0.0802\n",
      "valence                        0.0595\n",
      "instrumentalness               0.0590\n",
      "loudness                       0.0532\n",
      "key_confidence                 0.0519\n",
      "danceability                   0.0379\n",
      "tempo_confidence               0.0334\n",
      "time_signature_confidence      0.0331\n",
      "mode_confidence                0.0254\n",
      "liveliness                     0.0251\n",
      "key                            0.0212\n",
      "time_signature                 0.0064\n",
      "duration                       0.0031\n"
     ]
    }
   ],
   "source": [
    "print(importances)"
   ]
  },
  {
   "cell_type": "code",
   "execution_count": 569,
   "metadata": {},
   "outputs": [
    {
     "data": {
      "text/plain": [
       "<matplotlib.axes._subplots.AxesSubplot at 0x1ae31fd630>"
      ]
     },
     "execution_count": 569,
     "metadata": {},
     "output_type": "execute_result"
    },
    {
     "data": {
      "image/png": "[encoded data removed]",
      "text/plain": [
       "<matplotlib.figure.Figure at 0x1ae322a198>"
      ]
     },
     "metadata": {},
     "output_type": "display_data"
    }
   ],
   "source": [
    "importances.plot.bar()"
   ]
  },
  {
   "cell_type": "code",
   "execution_count": 668,
   "metadata": {},
   "outputs": [
    {
     "data": {
      "text/plain": [
       "array([0.00311653, 0.00637399, 0.02115915, 0.02509785, 0.02537623,\n",
       "       0.03309925, 0.03342011, 0.03790665, 0.0519233 , 0.05318588,\n",
       "       0.05900484, 0.05954055, 0.08015093, 0.08694371, 0.11306766,\n",
       "       0.13522355, 0.17540983])"
      ]
     },
     "execution_count": 668,
     "metadata": {},
     "output_type": "execute_result"
    }
   ],
   "source": [
    "thresholds = sort(rfc.feature_importances_)\n",
    "thresholds"
   ]
  },
  {
   "cell_type": "code",
   "execution_count": 687,
   "metadata": {},
   "outputs": [
    {
     "name": "stdout",
     "output_type": "stream",
     "text": [
      "current threshold:  0.003116527132923165\n",
      "how many features:  17\n",
      "accuracy score:  0.8417\n",
      "---\n",
      "current threshold:  0.006373992842764497\n",
      "how many features:  16\n",
      "accuracy score:  0.8322\n",
      "---\n",
      "current threshold:  0.021159148623979142\n",
      "how many features:  15\n",
      "accuracy score:  0.8172\n",
      "---\n",
      "current threshold:  0.02509785125881229\n",
      "how many features:  14\n",
      "accuracy score:  0.8439\n",
      "---\n",
      "current threshold:  0.025376227897196436\n",
      "how many features:  13\n",
      "accuracy score:  0.8339\n",
      "---\n",
      "current threshold:  0.033099253212842766\n",
      "how many features:  12\n",
      "accuracy score:  0.8394\n",
      "---\n",
      "current threshold:  0.03342011027794591\n",
      "how many features:  11\n",
      "accuracy score:  0.8283\n",
      "---\n",
      "current threshold:  0.03790664889615959\n",
      "how many features:  10\n",
      "accuracy score:  0.8244\n",
      "---\n",
      "current threshold:  0.05192329501832266\n",
      "how many features:  9\n",
      "accuracy score:  0.8333\n",
      "---\n",
      "current threshold:  0.053185877589358846\n",
      "how many features:  8\n",
      "accuracy score:  0.8306\n",
      "---\n",
      "current threshold:  0.05900484197958501\n",
      "how many features:  7\n",
      "accuracy score:  0.825\n",
      "---\n",
      "current threshold:  0.05954054685281399\n",
      "how many features:  6\n",
      "accuracy score:  0.8144\n",
      "---\n",
      "current threshold:  0.08015093296157792\n",
      "how many features:  5\n",
      "accuracy score:  0.8161\n",
      "---\n",
      "current threshold:  0.08694371352814655\n",
      "how many features:  4\n",
      "accuracy score:  0.8144\n",
      "---\n",
      "current threshold:  0.11306765655797783\n",
      "how many features:  3\n",
      "accuracy score:  0.7778\n",
      "---\n",
      "current threshold:  0.1352235460923063\n",
      "how many features:  2\n",
      "accuracy score:  0.7206\n",
      "---\n",
      "current threshold:  0.17540982927728713\n",
      "how many features:  1\n",
      "accuracy score:  0.605\n",
      "---\n"
     ]
    }
   ],
   "source": [
    "for threshold in thresholds:\n",
    "    sfm = SelectFromModel(rfc, threshold=threshold, prefit=True)\n",
    "    select_X_train = sfm.transform(X_train)\n",
    "    rfc_new = RandomForestClassifier()\n",
    "    rfc_new.fit(select_X_train, y_train)\n",
    "    select_X_test = sfm.transform(X_test)\n",
    "    predictions = rfc_new.predict(select_X_test)\n",
    "    accuracy_score(y_test, predictions)\n",
    "    print('current threshold: ', threshold)\n",
    "    print('how many features: ', select_X_train.shape[1])\n",
    "    print('accuracy score: ', np.round(accuracy_score(y_test, predictions), decimals=4))\n",
    "    print('---')"
   ]
  },
  {
   "cell_type": "code",
   "execution_count": null,
   "metadata": {},
   "outputs": [],
   "source": []
  },
  {
   "cell_type": "code",
   "execution_count": 691,
   "metadata": {},
   "outputs": [
    {
     "data": {
      "text/plain": [
       "SelectFromModel(estimator=RandomForestClassifier(bootstrap=True, class_weight=None, criterion='gini',\n",
       "            max_depth=None, max_features='auto', max_leaf_nodes=None,\n",
       "            min_impurity_decrease=0.0, min_impurity_split=None,\n",
       "            min_samples_leaf=1, min_samples_split=2,\n",
       "            min_weight_fraction_leaf=0.0, n_estimators=10, n_jobs=1,\n",
       "            oob_score=False, random_state=None, verbose=0,\n",
       "            warm_start=False),\n",
       "        norm_order=1, prefit=False, threshold=0.02509785)"
      ]
     },
     "execution_count": 691,
     "metadata": {},
     "output_type": "execute_result"
    }
   ],
   "source": [
    "sfm_test = SelectFromModel(rfc, threshold=0.02509785) #threshold with highest accuracy score\n",
    "sfm_test.fit(X_train, y_train)"
   ]
  },
  {
   "cell_type": "code",
   "execution_count": 692,
   "metadata": {},
   "outputs": [
    {
     "name": "stdout",
     "output_type": "stream",
     "text": [
      "energy\n",
      "liveliness\n",
      "tempo\n",
      "speechiness\n",
      "acousticness\n",
      "instrumentalness\n",
      "loudness\n",
      "valence\n",
      "danceability\n",
      "mode\n",
      "time_signature_confidence\n",
      "tempo_confidence\n",
      "key_confidence\n"
     ]
    }
   ],
   "source": [
    "for feature_list_index in sfm_test.get_support(indices=True):\n",
    "    print(df_features.columns[feature_list_index])"
   ]
  },
  {
   "cell_type": "markdown",
   "metadata": {},
   "source": [
    "### Analysis:\n",
    "In general, accuracy score stays relatively consistent as features decrease. It seems the best accuracy is around 10 - 15 features, going down in accuracy significantly from 4 features and below, with 'time_signature' and 'duration' being the least important. "
   ]
  },
  {
   "cell_type": "markdown",
   "metadata": {},
   "source": [
    "### RFC - RFE"
   ]
  },
  {
   "cell_type": "code",
   "execution_count": 670,
   "metadata": {},
   "outputs": [],
   "source": [
    "from sklearn.feature_selection import RFE"
   ]
  },
  {
   "cell_type": "code",
   "execution_count": 672,
   "metadata": {},
   "outputs": [],
   "source": [
    "rfc_rfe = RandomForestClassifier()"
   ]
  },
  {
   "cell_type": "code",
   "execution_count": 699,
   "metadata": {},
   "outputs": [],
   "source": [
    "rfe_model = RFE(rfc_rfe, n_features_to_select=10)"
   ]
  },
  {
   "cell_type": "code",
   "execution_count": 700,
   "metadata": {},
   "outputs": [],
   "source": [
    "rfe_model = rfe_model.fit(X_train, y_train)"
   ]
  },
  {
   "cell_type": "code",
   "execution_count": 701,
   "metadata": {},
   "outputs": [
    {
     "name": "stdout",
     "output_type": "stream",
     "text": [
      "[False  True False  True  True  True  True False False  True  True  True\n",
      "  True False False  True False]\n"
     ]
    }
   ],
   "source": [
    "print(rfe_model.support_)\n"
   ]
  },
  {
   "cell_type": "code",
   "execution_count": 702,
   "metadata": {},
   "outputs": [
    {
     "name": "stdout",
     "output_type": "stream",
     "text": [
      "[6 1 4 1 1 1 1 7 8 1 1 1 1 2 3 1 5]\n",
      "Index(['key', 'energy', 'liveliness', 'tempo', 'speechiness', 'acousticness',\n",
      "       'instrumentalness', 'time_signature', 'duration', 'loudness', 'valence',\n",
      "       'danceability', 'mode', 'time_signature_confidence', 'tempo_confidence',\n",
      "       'key_confidence', 'mode_confidence'],\n",
      "      dtype='object')\n"
     ]
    }
   ],
   "source": [
    "print(rfe_model.ranking_)\n",
    "print(df_features.columns)"
   ]
  },
  {
   "cell_type": "code",
   "execution_count": 703,
   "metadata": {},
   "outputs": [],
   "source": [
    "rfe_predictions = rfe_model.predict(X_test)"
   ]
  },
  {
   "cell_type": "code",
   "execution_count": 704,
   "metadata": {},
   "outputs": [
    {
     "name": "stdout",
     "output_type": "stream",
     "text": [
      "0.8411111111111111\n"
     ]
    }
   ],
   "source": [
    "print(accuracy_score(y_test, rfe_predictions))"
   ]
  },
  {
   "cell_type": "code",
   "execution_count": 706,
   "metadata": {},
   "outputs": [
    {
     "name": "stdout",
     "output_type": "stream",
     "text": [
      "[False  True False  True  True  True  True False False  True  True  True\n",
      "  True False False  True False]\n",
      "[6 1 4 1 1 1 1 7 8 1 1 1 1 2 3 1 5]\n",
      "Index(['key', 'energy', 'liveliness', 'tempo', 'speechiness', 'acousticness',\n",
      "       'instrumentalness', 'time_signature', 'duration', 'loudness', 'valence',\n",
      "       'danceability', 'mode', 'time_signature_confidence', 'tempo_confidence',\n",
      "       'key_confidence', 'mode_confidence'],\n",
      "      dtype='object')\n",
      "0.8288888888888889\n"
     ]
    }
   ],
   "source": [
    "# testing 5 features\n",
    "rfe_model_5 = RFE(rfc_rfe, n_features_to_select=5)\n",
    "rfe_model_5 = rfe_model.fit(X_train, y_train)\n",
    "print(rfe_model_5.support_)\n",
    "print(rfe_model_5.ranking_)\n",
    "print(df_features.columns)\n",
    "rfe_predictions_5 = rfe_model_5.predict(X_test)\n",
    "print(accuracy_score(y_test, rfe_predictions_5))"
   ]
  },
  {
   "cell_type": "markdown",
   "metadata": {},
   "source": [
    "## RFC Optimized"
   ]
  },
  {
   "cell_type": "code",
   "execution_count": 709,
   "metadata": {},
   "outputs": [],
   "source": [
    "rfc_optimized = RandomForestClassifier(n_estimators=100, min_samples_split=4, max_features='sqrt')"
   ]
  },
  {
   "cell_type": "code",
   "execution_count": 733,
   "metadata": {},
   "outputs": [],
   "source": [
    "rfc_selector = SelectFromModel(rfc_optimized, threshold=0.05954054685281399)\n",
    "X_new_rfc = rfc_selector.fit_transform(X, y)"
   ]
  },
  {
   "cell_type": "code",
   "execution_count": 734,
   "metadata": {},
   "outputs": [
    {
     "data": {
      "text/plain": [
       "(6000, 7)"
      ]
     },
     "execution_count": 734,
     "metadata": {},
     "output_type": "execute_result"
    }
   ],
   "source": [
    "X_new_rfc.shape"
   ]
  },
  {
   "cell_type": "code",
   "execution_count": 735,
   "metadata": {},
   "outputs": [
    {
     "data": {
      "text/plain": [
       "['key',\n",
       " 'liveliness',\n",
       " 'tempo',\n",
       " 'speechiness',\n",
       " 'acousticness',\n",
       " 'loudness',\n",
       " 'mode']"
      ]
     },
     "execution_count": 735,
     "metadata": {},
     "output_type": "execute_result"
    }
   ],
   "source": [
    "df_features.columns[rfc_selector.get_support(indices=True)].tolist()"
   ]
  },
  {
   "cell_type": "code",
   "execution_count": 736,
   "metadata": {},
   "outputs": [],
   "source": [
    "X = X_new_rfc\n",
    "y = df_labels\n",
    "\n",
    "X_train, X_test, y_train, y_test = train_test_split(X, y, test_size=0.3, random_state=101)"
   ]
  },
  {
   "cell_type": "code",
   "execution_count": 738,
   "metadata": {},
   "outputs": [
    {
     "name": "stdout",
     "output_type": "stream",
     "text": [
      "[[358   5  40  34]\n",
      " [  4 420   9  22]\n",
      " [ 24  15 397  19]\n",
      " [ 33  54  14 352]]\n",
      "----------------------\n",
      "             precision    recall  f1-score   support\n",
      "\n",
      "      dance       0.85      0.82      0.84       437\n",
      "       jazz       0.85      0.92      0.89       455\n",
      "        rap       0.86      0.87      0.87       455\n",
      "       rock       0.82      0.78      0.80       453\n",
      "\n",
      "avg / total       0.85      0.85      0.85      1800\n",
      "\n"
     ]
    }
   ],
   "source": [
    "rfc_optimized.fit(X_train, y_train)\n",
    "rfc_op_predictions = rfc_optimized.predict(X_test)\n",
    "np.round(accuracy_score(y_test, rfc_op_predictions), decimals=3)\n",
    "print(confusion_matrix(y_test, rfc_op_predictions))\n",
    "print('----------------------')\n",
    "print(classification_report(list(y_test), list(rfc_op_predictions)))"
   ]
  },
  {
   "cell_type": "markdown",
   "metadata": {},
   "source": [
    "## Analysis: \n",
    "    Random Forest Classifer — best and optimized yield similar accuracy score, because the accuracy is pretty consistent throughout the top 10-14 features with around 85 - 86% accuracy. But both are significantly better than the original RFC classifier.  "
   ]
  },
  {
   "cell_type": "code",
   "execution_count": null,
   "metadata": {},
   "outputs": [],
   "source": []
  },
  {
   "cell_type": "markdown",
   "metadata": {},
   "source": [
    "# LOGISTIC REGRESSION"
   ]
  },
  {
   "cell_type": "code",
   "execution_count": 739,
   "metadata": {},
   "outputs": [],
   "source": [
    "from sklearn.linear_model import LogisticRegression"
   ]
  },
  {
   "cell_type": "markdown",
   "metadata": {},
   "source": [
    "### Original"
   ]
  },
  {
   "cell_type": "code",
   "execution_count": 754,
   "metadata": {},
   "outputs": [],
   "source": [
    "logreg = LogisticRegression()\n",
    "LR_original = LogisticRegression(solver='saga', multi_class='multinomial')"
   ]
  },
  {
   "cell_type": "code",
   "execution_count": 804,
   "metadata": {},
   "outputs": [],
   "source": [
    "X = df_features_final\n",
    "y = df_labels\n",
    "\n",
    "X_train, X_test, y_train, y_test = train_test_split(X, y, test_size=0.3, random_state=101)"
   ]
  },
  {
   "cell_type": "code",
   "execution_count": 850,
   "metadata": {},
   "outputs": [],
   "source": [
    "LR_original = LR_original.fit(X_train, y_train)"
   ]
  },
  {
   "cell_type": "code",
   "execution_count": 851,
   "metadata": {},
   "outputs": [],
   "source": [
    "LR_og_pred = LR_original.predict(X_test)"
   ]
  },
  {
   "cell_type": "code",
   "execution_count": 852,
   "metadata": {},
   "outputs": [
    {
     "name": "stdout",
     "output_type": "stream",
     "text": [
      "[[331   6  62  38]\n",
      " [ 12 391  10  42]\n",
      " [ 70  19 336  30]\n",
      " [ 49  56  11 337]]\n",
      "----------------------\n",
      "             precision    recall  f1-score   support\n",
      "\n",
      "      dance       0.72      0.76      0.74       437\n",
      "       jazz       0.83      0.86      0.84       455\n",
      "        rap       0.80      0.74      0.77       455\n",
      "       rock       0.75      0.74      0.75       453\n",
      "\n",
      "avg / total       0.78      0.78      0.77      1800\n",
      "\n"
     ]
    }
   ],
   "source": [
    "print(confusion_matrix(y_test, LR_og_pred))\n",
    "print('----------------------')\n",
    "print(classification_report(list(y_test), list(LR_og_pred)))"
   ]
  },
  {
   "cell_type": "markdown",
   "metadata": {},
   "source": [
    "# LR - Grid Search CV"
   ]
  },
  {
   "cell_type": "code",
   "execution_count": 751,
   "metadata": {},
   "outputs": [],
   "source": [
    "LR_param_grid = {'solver': ['newton-cg', 'sag', 'saga', 'lbfgs'], 'multi_class': ['ovr', 'multinomial']}"
   ]
  },
  {
   "cell_type": "code",
   "execution_count": 761,
   "metadata": {},
   "outputs": [],
   "source": [
    "LR_grid = GridSearchCV(logreg, LR_param_grid, verbose=3)"
   ]
  },
  {
   "cell_type": "code",
   "execution_count": 762,
   "metadata": {
    "scrolled": true
   },
   "outputs": [
    {
     "name": "stdout",
     "output_type": "stream",
     "text": [
      "Fitting 3 folds for each of 8 candidates, totalling 24 fits\n",
      "[CV] multi_class=ovr, solver=newton-cg ...............................\n",
      "[CV]  multi_class=ovr, solver=newton-cg, score=0.7496433666191156, total=   0.4s\n",
      "[CV] multi_class=ovr, solver=newton-cg ...............................\n"
     ]
    },
    {
     "name": "stderr",
     "output_type": "stream",
     "text": [
      "[Parallel(n_jobs=1)]: Done   1 out of   1 | elapsed:    0.4s remaining:    0.0s\n"
     ]
    },
    {
     "name": "stdout",
     "output_type": "stream",
     "text": [
      "[CV]  multi_class=ovr, solver=newton-cg, score=0.775553967119371, total=   0.4s\n",
      "[CV] multi_class=ovr, solver=newton-cg ...............................\n"
     ]
    },
    {
     "name": "stderr",
     "output_type": "stream",
     "text": [
      "[Parallel(n_jobs=1)]: Done   2 out of   2 | elapsed:    0.8s remaining:    0.0s\n"
     ]
    },
    {
     "name": "stdout",
     "output_type": "stream",
     "text": [
      "[CV]  multi_class=ovr, solver=newton-cg, score=0.7491065046461758, total=   0.4s\n",
      "[CV] multi_class=ovr, solver=sag .....................................\n"
     ]
    },
    {
     "name": "stderr",
     "output_type": "stream",
     "text": [
      "/Users/Steve/anaconda3/lib/python3.6/site-packages/sklearn/linear_model/sag.py:326: ConvergenceWarning: The max_iter was reached which means the coef_ did not converge\n",
      "  \"the coef_ did not converge\", ConvergenceWarning)\n"
     ]
    },
    {
     "name": "stdout",
     "output_type": "stream",
     "text": [
      "[CV]  multi_class=ovr, solver=sag, score=0.4450784593437946, total=   0.3s\n",
      "[CV] multi_class=ovr, solver=sag .....................................\n"
     ]
    },
    {
     "name": "stderr",
     "output_type": "stream",
     "text": [
      "/Users/Steve/anaconda3/lib/python3.6/site-packages/sklearn/linear_model/sag.py:326: ConvergenceWarning: The max_iter was reached which means the coef_ did not converge\n",
      "  \"the coef_ did not converge\", ConvergenceWarning)\n"
     ]
    },
    {
     "name": "stdout",
     "output_type": "stream",
     "text": [
      "[CV]  multi_class=ovr, solver=sag, score=0.455325232308792, total=   0.3s\n",
      "[CV] multi_class=ovr, solver=sag .....................................\n"
     ]
    },
    {
     "name": "stderr",
     "output_type": "stream",
     "text": [
      "/Users/Steve/anaconda3/lib/python3.6/site-packages/sklearn/linear_model/sag.py:326: ConvergenceWarning: The max_iter was reached which means the coef_ did not converge\n",
      "  \"the coef_ did not converge\", ConvergenceWarning)\n"
     ]
    },
    {
     "name": "stdout",
     "output_type": "stream",
     "text": [
      "[CV]  multi_class=ovr, solver=sag, score=0.44603288062902074, total=   0.3s\n",
      "[CV] multi_class=ovr, solver=saga ....................................\n"
     ]
    },
    {
     "name": "stderr",
     "output_type": "stream",
     "text": [
      "/Users/Steve/anaconda3/lib/python3.6/site-packages/sklearn/linear_model/sag.py:326: ConvergenceWarning: The max_iter was reached which means the coef_ did not converge\n",
      "  \"the coef_ did not converge\", ConvergenceWarning)\n"
     ]
    },
    {
     "name": "stdout",
     "output_type": "stream",
     "text": [
      "[CV]  multi_class=ovr, solver=saga, score=0.44436519258202567, total=   0.4s\n",
      "[CV] multi_class=ovr, solver=saga ....................................\n"
     ]
    },
    {
     "name": "stderr",
     "output_type": "stream",
     "text": [
      "/Users/Steve/anaconda3/lib/python3.6/site-packages/sklearn/linear_model/sag.py:326: ConvergenceWarning: The max_iter was reached which means the coef_ did not converge\n",
      "  \"the coef_ did not converge\", ConvergenceWarning)\n"
     ]
    },
    {
     "name": "stdout",
     "output_type": "stream",
     "text": [
      "[CV]  multi_class=ovr, solver=saga, score=0.4481772694781987, total=   0.4s\n",
      "[CV] multi_class=ovr, solver=saga ....................................\n"
     ]
    },
    {
     "name": "stderr",
     "output_type": "stream",
     "text": [
      "/Users/Steve/anaconda3/lib/python3.6/site-packages/sklearn/linear_model/sag.py:326: ConvergenceWarning: The max_iter was reached which means the coef_ did not converge\n",
      "  \"the coef_ did not converge\", ConvergenceWarning)\n"
     ]
    },
    {
     "name": "stdout",
     "output_type": "stream",
     "text": [
      "[CV]  multi_class=ovr, solver=saga, score=0.43602573266619016, total=   0.4s\n",
      "[CV] multi_class=ovr, solver=lbfgs ...................................\n",
      "[CV]  multi_class=ovr, solver=lbfgs, score=0.7282453637660485, total=   0.1s\n",
      "[CV] multi_class=ovr, solver=lbfgs ...................................\n",
      "[CV]  multi_class=ovr, solver=lbfgs, score=0.7390993566833453, total=   0.1s\n",
      "[CV] multi_class=ovr, solver=lbfgs ...................................\n",
      "[CV]  multi_class=ovr, solver=lbfgs, score=0.7333809864188706, total=   0.1s\n",
      "[CV] multi_class=multinomial, solver=newton-cg .......................\n",
      "[CV]  multi_class=multinomial, solver=newton-cg, score=0.761055634807418, total=   0.9s\n",
      "[CV] multi_class=multinomial, solver=newton-cg .......................\n",
      "[CV]  multi_class=multinomial, solver=newton-cg, score=0.7705503931379557, total=   0.8s\n",
      "[CV] multi_class=multinomial, solver=newton-cg .......................\n",
      "[CV]  multi_class=multinomial, solver=newton-cg, score=0.7469621157969979, total=   0.9s\n",
      "[CV] multi_class=multinomial, solver=sag .............................\n",
      "[CV]  multi_class=multinomial, solver=sag, score=0.4543509272467903, total=   0.2s\n",
      "[CV] multi_class=multinomial, solver=sag .............................\n"
     ]
    },
    {
     "name": "stderr",
     "output_type": "stream",
     "text": [
      "/Users/Steve/anaconda3/lib/python3.6/site-packages/sklearn/linear_model/sag.py:326: ConvergenceWarning: The max_iter was reached which means the coef_ did not converge\n",
      "  \"the coef_ did not converge\", ConvergenceWarning)\n",
      "/Users/Steve/anaconda3/lib/python3.6/site-packages/sklearn/linear_model/sag.py:326: ConvergenceWarning: The max_iter was reached which means the coef_ did not converge\n",
      "  \"the coef_ did not converge\", ConvergenceWarning)\n"
     ]
    },
    {
     "name": "stdout",
     "output_type": "stream",
     "text": [
      "[CV]  multi_class=multinomial, solver=sag, score=0.4710507505360972, total=   0.2s\n",
      "[CV] multi_class=multinomial, solver=sag .............................\n",
      "[CV]  multi_class=multinomial, solver=sag, score=0.45675482487491065, total=   0.2s\n",
      "[CV] multi_class=multinomial, solver=saga ............................\n"
     ]
    },
    {
     "name": "stderr",
     "output_type": "stream",
     "text": [
      "/Users/Steve/anaconda3/lib/python3.6/site-packages/sklearn/linear_model/sag.py:326: ConvergenceWarning: The max_iter was reached which means the coef_ did not converge\n",
      "  \"the coef_ did not converge\", ConvergenceWarning)\n",
      "/Users/Steve/anaconda3/lib/python3.6/site-packages/sklearn/linear_model/sag.py:326: ConvergenceWarning: The max_iter was reached which means the coef_ did not converge\n",
      "  \"the coef_ did not converge\", ConvergenceWarning)\n"
     ]
    },
    {
     "name": "stdout",
     "output_type": "stream",
     "text": [
      "[CV]  multi_class=multinomial, solver=saga, score=0.44365192582025675, total=   0.3s\n",
      "[CV] multi_class=multinomial, solver=saga ............................\n"
     ]
    },
    {
     "name": "stderr",
     "output_type": "stream",
     "text": [
      "/Users/Steve/anaconda3/lib/python3.6/site-packages/sklearn/linear_model/sag.py:326: ConvergenceWarning: The max_iter was reached which means the coef_ did not converge\n",
      "  \"the coef_ did not converge\", ConvergenceWarning)\n"
     ]
    },
    {
     "name": "stdout",
     "output_type": "stream",
     "text": [
      "[CV]  multi_class=multinomial, solver=saga, score=0.45461043602573264, total=   0.3s\n",
      "[CV] multi_class=multinomial, solver=saga ............................\n"
     ]
    },
    {
     "name": "stderr",
     "output_type": "stream",
     "text": [
      "/Users/Steve/anaconda3/lib/python3.6/site-packages/sklearn/linear_model/sag.py:326: ConvergenceWarning: The max_iter was reached which means the coef_ did not converge\n",
      "  \"the coef_ did not converge\", ConvergenceWarning)\n"
     ]
    },
    {
     "name": "stdout",
     "output_type": "stream",
     "text": [
      "[CV]  multi_class=multinomial, solver=saga, score=0.44460328806290206, total=   0.3s\n",
      "[CV] multi_class=multinomial, solver=lbfgs ...........................\n",
      "[CV]  multi_class=multinomial, solver=lbfgs, score=0.5748930099857347, total=   0.1s\n",
      "[CV] multi_class=multinomial, solver=lbfgs ...........................\n",
      "[CV]  multi_class=multinomial, solver=lbfgs, score=0.5661186561829878, total=   0.1s\n",
      "[CV] multi_class=multinomial, solver=lbfgs ...........................\n",
      "[CV]  multi_class=multinomial, solver=lbfgs, score=0.6040028591851322, total=   0.1s\n"
     ]
    },
    {
     "name": "stderr",
     "output_type": "stream",
     "text": [
      "[Parallel(n_jobs=1)]: Done  24 out of  24 | elapsed:    8.2s finished\n"
     ]
    },
    {
     "data": {
      "text/plain": [
       "GridSearchCV(cv=None, error_score='raise',\n",
       "       estimator=LogisticRegression(C=1.0, class_weight=None, dual=False, fit_intercept=True,\n",
       "          intercept_scaling=1, max_iter=100, multi_class='ovr', n_jobs=1,\n",
       "          penalty='l2', random_state=None, solver='liblinear', tol=0.0001,\n",
       "          verbose=0, warm_start=False),\n",
       "       fit_params=None, iid=True, n_jobs=1,\n",
       "       param_grid={'solver': ['newton-cg', 'sag', 'saga', 'lbfgs'], 'multi_class': ['ovr', 'multinomial']},\n",
       "       pre_dispatch='2*n_jobs', refit=True, return_train_score='warn',\n",
       "       scoring=None, verbose=3)"
      ]
     },
     "execution_count": 762,
     "metadata": {},
     "output_type": "execute_result"
    }
   ],
   "source": [
    "LR_grid.fit(X_train, y_train)"
   ]
  },
  {
   "cell_type": "code",
   "execution_count": 872,
   "metadata": {},
   "outputs": [
    {
     "data": {
      "text/plain": [
       "{'multi_class': 'multinomial', 'solver': 'newton-cg'}"
      ]
     },
     "execution_count": 872,
     "metadata": {},
     "output_type": "execute_result"
    }
   ],
   "source": [
    "LR_grid.best_params_"
   ]
  },
  {
   "cell_type": "markdown",
   "metadata": {},
   "source": [
    "### Logistic Regression - Best"
   ]
  },
  {
   "cell_type": "code",
   "execution_count": 764,
   "metadata": {},
   "outputs": [
    {
     "data": {
      "text/plain": [
       "LogisticRegression(C=1.0, class_weight=None, dual=False, fit_intercept=True,\n",
       "          intercept_scaling=1, max_iter=100, multi_class='multinomial',\n",
       "          n_jobs=1, penalty='l2', random_state=None, solver='newton-cg',\n",
       "          tol=0.0001, verbose=0, warm_start=False)"
      ]
     },
     "execution_count": 764,
     "metadata": {},
     "output_type": "execute_result"
    }
   ],
   "source": [
    "LR_best = LogisticRegression(solver='newton-cg', multi_class='multinomial')\n",
    "LR_best.fit(X_train, y_train)"
   ]
  },
  {
   "cell_type": "code",
   "execution_count": 765,
   "metadata": {},
   "outputs": [],
   "source": [
    "LR_best_pred = LR_best.predict(X_test)"
   ]
  },
  {
   "cell_type": "code",
   "execution_count": 766,
   "metadata": {},
   "outputs": [
    {
     "data": {
      "text/plain": [
       "0.773"
      ]
     },
     "execution_count": 766,
     "metadata": {},
     "output_type": "execute_result"
    }
   ],
   "source": [
    "np.round(accuracy_score(y_test, LR_best_pred), decimals=3)"
   ]
  },
  {
   "cell_type": "code",
   "execution_count": 771,
   "metadata": {},
   "outputs": [
    {
     "name": "stdout",
     "output_type": "stream",
     "text": [
      "[[332   6  63  36]\n",
      " [ 13 394  11  37]\n",
      " [ 67  23 335  30]\n",
      " [ 52  56  14 331]]\n",
      "             precision    recall  f1-score   support\n",
      "\n",
      "      dance       0.72      0.76      0.74       437\n",
      "       jazz       0.82      0.87      0.84       455\n",
      "        rap       0.79      0.74      0.76       455\n",
      "       rock       0.76      0.73      0.75       453\n",
      "\n",
      "avg / total       0.77      0.77      0.77      1800\n",
      "\n"
     ]
    }
   ],
   "source": [
    "print(confusion_matrix(y_test, LR_best_pred))\n",
    "print(classification_report(list(y_test), list(LR_best_pred)))"
   ]
  },
  {
   "cell_type": "markdown",
   "metadata": {},
   "source": [
    "### Selecting Best Features"
   ]
  },
  {
   "cell_type": "code",
   "execution_count": 860,
   "metadata": {},
   "outputs": [],
   "source": [
    "logreg_selector = SelectFromModel(LR_original, prefit=True)"
   ]
  },
  {
   "cell_type": "code",
   "execution_count": 861,
   "metadata": {},
   "outputs": [],
   "source": [
    "X_new_logreg = logreg_selector.transform(X)"
   ]
  },
  {
   "cell_type": "code",
   "execution_count": 864,
   "metadata": {},
   "outputs": [
    {
     "data": {
      "text/plain": [
       "(6000, 5)"
      ]
     },
     "execution_count": 864,
     "metadata": {},
     "output_type": "execute_result"
    }
   ],
   "source": [
    "X_new_logreg.shape"
   ]
  },
  {
   "cell_type": "code",
   "execution_count": 865,
   "metadata": {},
   "outputs": [
    {
     "data": {
      "text/plain": [
       "['energy', 'speechiness', 'acousticness', 'danceability', 'mode']"
      ]
     },
     "execution_count": 865,
     "metadata": {},
     "output_type": "execute_result"
    }
   ],
   "source": [
    "df_features.columns[logreg_selector.get_support(indices=True)].tolist()"
   ]
  },
  {
   "cell_type": "code",
   "execution_count": null,
   "metadata": {},
   "outputs": [],
   "source": []
  },
  {
   "cell_type": "markdown",
   "metadata": {},
   "source": [
    "### LR - RFE"
   ]
  },
  {
   "cell_type": "code",
   "execution_count": 866,
   "metadata": {},
   "outputs": [],
   "source": [
    "rfe_lr = RFE(logreg, n_features_to_select=5)"
   ]
  },
  {
   "cell_type": "code",
   "execution_count": 867,
   "metadata": {},
   "outputs": [],
   "source": [
    "rfe_lr = rfe_lr.fit(X_train, y_train)"
   ]
  },
  {
   "cell_type": "code",
   "execution_count": 868,
   "metadata": {},
   "outputs": [
    {
     "name": "stdout",
     "output_type": "stream",
     "text": [
      "[False  True False False  True  True  True False False False False False\n",
      "  True False False False False]\n"
     ]
    }
   ],
   "source": [
    "print(rfe_lr.support_)\n"
   ]
  },
  {
   "cell_type": "code",
   "execution_count": 869,
   "metadata": {},
   "outputs": [
    {
     "name": "stdout",
     "output_type": "stream",
     "text": [
      "[13  1 12  6  1  1  1  8  9  4  7  3  1 11  5  2 10]\n",
      "Index(['key', 'energy', 'liveliness', 'tempo', 'speechiness', 'acousticness',\n",
      "       'instrumentalness', 'time_signature', 'duration', 'loudness', 'valence',\n",
      "       'danceability', 'mode', 'time_signature_confidence', 'tempo_confidence',\n",
      "       'key_confidence', 'mode_confidence'],\n",
      "      dtype='object')\n"
     ]
    }
   ],
   "source": [
    "print(rfe_lr.ranking_)\n",
    "print(df_features.columns)"
   ]
  },
  {
   "cell_type": "code",
   "execution_count": 870,
   "metadata": {},
   "outputs": [],
   "source": [
    "rfe_logreg_predictions = rfe_lr.predict(X_test)"
   ]
  },
  {
   "cell_type": "code",
   "execution_count": 871,
   "metadata": {},
   "outputs": [
    {
     "name": "stdout",
     "output_type": "stream",
     "text": [
      "0.7433333333333333\n"
     ]
    }
   ],
   "source": [
    "print(accuracy_score(y_test, rfe_logreg_predictions))"
   ]
  },
  {
   "cell_type": "markdown",
   "metadata": {},
   "source": [
    "## Logistic Regression Optimized"
   ]
  },
  {
   "cell_type": "code",
   "execution_count": 874,
   "metadata": {},
   "outputs": [],
   "source": [
    "logreg_optimized = LogisticRegression(solver='newton-cg', multi_class='multinomial')"
   ]
  },
  {
   "cell_type": "code",
   "execution_count": 875,
   "metadata": {},
   "outputs": [],
   "source": [
    "X = X_new_logreg\n",
    "y = df_labels\n",
    "\n",
    "X_train, X_test, y_train, y_test = train_test_split(X, y, test_size=0.3, random_state=101)"
   ]
  },
  {
   "cell_type": "code",
   "execution_count": 878,
   "metadata": {},
   "outputs": [
    {
     "name": "stdout",
     "output_type": "stream",
     "text": [
      "accuracy score:  0.73\n",
      "[[322   6  64  45]\n",
      " [  6 383   8  58]\n",
      " [102  19 298  36]\n",
      " [ 67  70   5 311]]\n",
      "---------------------\n",
      "             precision    recall  f1-score   support\n",
      "\n",
      "      dance       0.65      0.74      0.69       437\n",
      "       jazz       0.80      0.84      0.82       455\n",
      "        rap       0.79      0.65      0.72       455\n",
      "       rock       0.69      0.69      0.69       453\n",
      "\n",
      "avg / total       0.73      0.73      0.73      1800\n",
      "\n"
     ]
    }
   ],
   "source": [
    "logreg_optimized.fit(X_train, y_train)\n",
    "logreg_op_pred = logreg_optimized.predict(X_test)\n",
    "print('accuracy score: ', np.round(accuracy_score(y_test, logreg_op_pred), decimals=3))\n",
    "print(confusion_matrix(y_test, logreg_op_pred))\n",
    "print('---------------------')\n",
    "print(classification_report(list(y_test), list(logreg_op_pred)))"
   ]
  },
  {
   "cell_type": "markdown",
   "metadata": {},
   "source": [
    "# Analysis: Logistic Regression"
   ]
  },
  {
   "cell_type": "markdown",
   "metadata": {},
   "source": [
    "Logistic regression original performed best with 78% accuracy. After best params were determined, accuracy went down. SelectFromModel method on Logistic Regression returned the top 5 features as 'energy', 'speechiness', 'acousticness', 'danceability', and 'mode'. When these features alone were used, accuracy was only 73%, probably because it was not big enough. "
   ]
  },
  {
   "cell_type": "markdown",
   "metadata": {},
   "source": [
    "### Notes to Steve: \n",
    "Run select from model on RFC without the threshold stuff... or whatever to return the top X features. run everything and clean it up. Submit. "
   ]
  },
  {
   "cell_type": "code",
   "execution_count": null,
   "metadata": {},
   "outputs": [],
   "source": []
  }
 ],
 "metadata": {
  "kernelspec": {
   "display_name": "Python 3",
   "language": "python",
   "name": "python3"
  },
  "language_info": {
   "codemirror_mode": {
    "name": "ipython",
    "version": 3
   },
   "file_extension": ".py",
   "mimetype": "text/x-python",
   "name": "python",
   "nbconvert_exporter": "python",
   "pygments_lexer": "ipython3",
   "version": "3.6.4"
  }
 },
 "nbformat": 4,
 "nbformat_minor": 2
}
